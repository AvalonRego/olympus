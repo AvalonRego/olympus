{
 "cells": [
  {
   "cell_type": "markdown",
   "metadata": {},
   "source": [
    "# 04 Noise Generation\n",
    "\n",
    "In this notebook, we talk about how to generate noise. We will cover multiple types of noise as they are added."
   ]
  },
  {
   "cell_type": "code",
   "execution_count": null,
   "metadata": {},
   "outputs": [],
   "source": [
    "import os\n",
    "from matplotlib import pyplot as plt\n",
    "\n",
    "from ananke.configurations.presets.detector import single_line_configuration\n",
    "from ananke.schemas.event import NoiseType\n",
    "from ananke.services.detector import DetectorBuilderService\n",
    "from ananke.visualisation.event import draw_hit_histogram, draw_hit_distribution\n",
    "from olympus.configuration.generators import NoiseGeneratorConfiguration, BioluminescenceGeneratorConfiguration\n",
    "from ananke.configurations.collection import HDF5StorageConfiguration\n",
    "from olympus.event_generation.generators import generate\n",
    "from olympus.configuration.generators import (\n",
    "    DatasetConfiguration,\n",
    "    GenerationConfiguration,\n",
    ")"
   ]
  },
  {
   "cell_type": "markdown",
   "metadata": {},
   "source": [
    "Let's get our detector"
   ]
  },
  {
   "cell_type": "code",
   "execution_count": null,
   "metadata": {},
   "outputs": [],
   "source": [
    "detector_service = DetectorBuilderService()\n",
    "det = detector_service.get(configuration=single_line_configuration)"
   ]
  },
  {
   "cell_type": "markdown",
   "metadata": {},
   "source": [
    "## Electrical Noise Generation"
   ]
  },
  {
   "cell_type": "code",
   "execution_count": null,
   "metadata": {},
   "outputs": [],
   "source": [
    "electrical_data_path='data/electrical_noise.h5'\n",
    "noise_generator_config = NoiseGeneratorConfiguration(\n",
    "    type=NoiseType.ELECTRICAL,\n",
    "    start_time=0,\n",
    "    duration=1000,\n",
    ")\n",
    "\n",
    "dataset_configuration = DatasetConfiguration(\n",
    "    detector=single_line_configuration,\n",
    "    generators=[\n",
    "        GenerationConfiguration(\n",
    "            generator=noise_generator_config,\n",
    "            number_of_samples=2000\n",
    "        ),\n",
    "    ],\n",
    "    storage=HDF5StorageConfiguration(data_path=electrical_data_path, read_only=False)\n",
    ")\n",
    "\n",
    "try:\n",
    "    os.remove(electrical_data_path)\n",
    "except OSError:\n",
    "    pass\n",
    "\n",
    "electrical_collection = generate(dataset_configuration)"
   ]
  },
  {
   "cell_type": "code",
   "execution_count": null,
   "metadata": {},
   "outputs": [],
   "source": [
    "with electrical_collection:\n",
    "    records = electrical_collection.storage.get_records()\n",
    "    hits = electrical_collection.storage.get_hits()\n",
    "    first_record_hits = electrical_collection.storage.get_hits(record_ids=0)\n",
    "    second_record_hits = electrical_collection.storage.get_hits(record_ids=1)\n",
    "    detector = electrical_collection.storage.get_detector()\n",
    "records.df.head()\n",
    "hits.df"
   ]
  },
  {
   "cell_type": "code",
   "execution_count": null,
   "metadata": {},
   "outputs": [],
   "source": [
    "fig = draw_hit_distribution(first_record_hits)\n",
    "fig.savefig('data/electrical_first_record_hist.png', dpi=300)\n",
    "fig.show()"
   ]
  },
  {
   "cell_type": "code",
   "execution_count": null,
   "metadata": {},
   "outputs": [],
   "source": [
    "fig = draw_hit_distribution(second_record_hits)\n",
    "fig.savefig('data/electrical_second_record_hist.png', dpi=300)\n",
    "fig.show()"
   ]
  },
  {
   "cell_type": "code",
   "execution_count": null,
   "metadata": {},
   "outputs": [],
   "source": [
    "fig = draw_hit_distribution(hits)\n",
    "fig.savefig('data/electrical_all_records_hist.png', dpi=300)\n",
    "fig.show()"
   ]
  },
  {
   "cell_type": "code",
   "execution_count": null,
   "metadata": {},
   "outputs": [],
   "source": [
    "fig = draw_hit_histogram(first_record_hits, detector=detector, colorbar_step=1)\n",
    "fig.savefig('data/electrical_first_record_pmt.png', dpi=300)\n",
    "plt.show()"
   ]
  },
  {
   "cell_type": "code",
   "execution_count": null,
   "metadata": {},
   "outputs": [],
   "source": [
    "fig = draw_hit_histogram(second_record_hits, detector=detector)\n",
    "fig.savefig('data/electrical_second_record_pmt.png', dpi=300)\n",
    "plt.show()"
   ]
  },
  {
   "cell_type": "code",
   "execution_count": null,
   "metadata": {},
   "outputs": [],
   "source": [
    "fig = draw_hit_histogram(hits, detector=detector)\n",
    "fig.savefig('data/electrical_all_records_pmt.png', dpi=300)\n",
    "plt.show()"
   ]
  },
  {
   "cell_type": "markdown",
   "metadata": {},
   "source": [
    "## Bioluminescense Generation"
   ]
  },
  {
   "cell_type": "code",
   "execution_count": null,
   "metadata": {},
   "outputs": [],
   "source": [
    "bioluminescense_data_path='data/bioluminescense.h5'\n",
    "\n",
    "bioluminescense_generator_config = BioluminescenceGeneratorConfiguration(\n",
    "    type=NoiseType.BIOLUMINESCENCE,\n",
    "    start_time=0,\n",
    "    duration=1000,\n",
    "    julia_data_path='../../data/biolumi_sims',\n",
    "    batch_size= 48\n",
    ")\n",
    "\n",
    "dataset_configuration = DatasetConfiguration(\n",
    "    detector=single_line_configuration,\n",
    "    generators=[\n",
    "        GenerationConfiguration(\n",
    "            generator=bioluminescense_generator_config,\n",
    "            number_of_samples=2000\n",
    "        ),\n",
    "    ],\n",
    "    storage=HDF5StorageConfiguration(data_path=bioluminescense_data_path, read_only=False)\n",
    ")\n",
    "\n",
    "\n",
    "try:\n",
    "    os.remove(bioluminescense_data_path)\n",
    "except OSError:\n",
    "    pass\n",
    "\n",
    "bioluminescense_collection = generate(dataset_configuration)"
   ]
  },
  {
   "cell_type": "code",
   "execution_count": null,
   "metadata": {},
   "outputs": [],
   "source": [
    "with bioluminescense_collection:\n",
    "    records = bioluminescense_collection.storage.get_records()\n",
    "    hits = bioluminescense_collection.storage.get_hits()\n",
    "    first_record_hits = bioluminescense_collection.storage.get_hits(record_ids=10)\n",
    "    second_record_hits = bioluminescense_collection.storage.get_hits(record_ids=1)\n",
    "    detector = bioluminescense_collection.storage.get_detector()\n",
    "records.df"
   ]
  },
  {
   "cell_type": "code",
   "execution_count": null,
   "metadata": {},
   "outputs": [],
   "source": [
    "fig = draw_hit_distribution(first_record_hits)\n",
    "fig.savefig('data/bioluminescense_first_record_hist.png', dpi=300)\n",
    "fig.show()"
   ]
  },
  {
   "cell_type": "code",
   "execution_count": null,
   "metadata": {},
   "outputs": [],
   "source": [
    "fig = draw_bars(second_record_hits.df)\n",
    "fig.savefig('data/bioluminescense_second_record_hist.png', dpi=300)\n",
    "fig.show()"
   ]
  },
  {
   "cell_type": "code",
   "execution_count": null,
   "metadata": {},
   "outputs": [],
   "source": [
    "fig = draw_bars(hits.df)\n",
    "fig.savefig('data/bioluminescense_all_records_hist.png', dpi=300)\n",
    "fig.show()"
   ]
  },
  {
   "cell_type": "code",
   "execution_count": null,
   "metadata": {},
   "outputs": [],
   "source": [
    "fig = draw_histogram(first_record_hits.df, colorbar_step=1)\n",
    "fig.savefig('data/bioluminescense_first_record_pmt.png', dpi=300)\n",
    "plt.show()"
   ]
  },
  {
   "cell_type": "code",
   "execution_count": null,
   "metadata": {},
   "outputs": [],
   "source": [
    "fig = draw_histogram(second_record_hits.df)\n",
    "fig.savefig('data/bioluminescense_second_record_pmt.png', dpi=300)\n",
    "plt.show()"
   ]
  },
  {
   "cell_type": "code",
   "execution_count": null,
   "metadata": {},
   "outputs": [],
   "source": [
    "fig = draw_histogram(hits.df, colorbar_step=20)\n",
    "fig.savefig('data/bioluminescence_all_records_pmt.png', dpi=300)\n",
    "plt.show()"
   ]
  }
 ],
 "metadata": {
  "kernelspec": {
   "display_name": "Python 3 (ipykernel)",
   "language": "python",
   "name": "python3"
  },
  "language_info": {
   "codemirror_mode": {
    "name": "ipython",
    "version": 3
   },
   "file_extension": ".py",
   "mimetype": "text/x-python",
   "name": "python",
   "nbconvert_exporter": "python",
   "pygments_lexer": "ipython3",
   "version": "3.10.10"
  }
 },
 "nbformat": 4,
 "nbformat_minor": 4
}
