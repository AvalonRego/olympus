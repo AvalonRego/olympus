{
 "cells": [
  {
   "cell_type": "markdown",
   "metadata": {},
   "source": [
    "# 04 Noise Generation\n",
    "\n",
    "In this notebook, we talk about how to generate noise. We will cover multiple types of noise as they are added."
   ]
  },
  {
   "cell_type": "code",
   "execution_count": null,
   "metadata": {
    "jupyter": {
     "outputs_hidden": false
    }
   },
   "outputs": [],
   "source": [
    "from ananke.configurations.presets.detector import single_line_configuration\n",
    "from ananke.schemas.event import NoiseType\n",
    "from ananke.services.detector import DetectorBuilderService\n",
    "from olympus.configuration.generators import NoiseGeneratorConfiguration\n",
    "from olympus.event_generation.generators import (\n",
    "    get_generator\n",
    ")"
   ]
  },
  {
   "cell_type": "markdown",
   "metadata": {},
   "source": [
    "Let's get our detector"
   ]
  },
  {
   "cell_type": "code",
   "execution_count": null,
   "metadata": {
    "jupyter": {
     "outputs_hidden": false
    }
   },
   "outputs": [],
   "source": [
    "detector_service = DetectorBuilderService()\n",
    "det = detector_service.get(configuration=single_line_configuration)"
   ]
  },
  {
   "cell_type": "markdown",
   "metadata": {},
   "source": [
    "## Electrical Noise Generation"
   ]
  },
  {
   "cell_type": "code",
   "execution_count": null,
   "metadata": {
    "jupyter": {
     "outputs_hidden": false
    }
   },
   "outputs": [],
   "source": [
    "detector_service = DetectorBuilderService()\n",
    "det = detector_service.get(configuration=single_line_configuration)\n",
    "\n",
    "noise_generator_config = NoiseGeneratorConfiguration(\n",
    "    type=NoiseType.ELECTRICAL,\n",
    "    start_time=0,\n",
    "    duration=1000\n",
    ")\n",
    "\n",
    "electronic_noise_generator = get_generator(\n",
    "    detector=det,\n",
    "    configuration=noise_generator_config\n",
    ")\n",
    "\n",
    "electronic_noise_collection = electronic_noise_generator.generate(5)\n",
    "\n",
    "electronic_noise_collection.hits.df.head()"
   ]
  }
 ],
 "metadata": {
  "kernelspec": {
   "display_name": "Python 3 (ipykernel)",
   "language": "python",
   "name": "python3"
  },
  "language_info": {
   "codemirror_mode": {
    "name": "ipython",
    "version": 3
   },
   "file_extension": ".py",
   "mimetype": "text/x-python",
   "name": "python",
   "nbconvert_exporter": "python",
   "pygments_lexer": "ipython3",
   "version": "3.8.10"
  }
 },
 "nbformat": 4,
 "nbformat_minor": 4
}