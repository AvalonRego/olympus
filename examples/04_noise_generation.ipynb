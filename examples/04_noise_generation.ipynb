{
 "cells": [
  {
   "cell_type": "markdown",
   "metadata": {
    "pycharm": {
     "name": "#%% md\n"
    }
   },
   "source": [
    "# 04 Noise Generation\n",
    "\n",
    "In this notebook, we talk about how to generate noise. We will cover multiple types of noise as they are added."
   ]
  },
  {
   "cell_type": "code",
   "execution_count": null,
   "outputs": [],
   "source": [
    "from ananke.configurations.presets.detector import single_line_configuration\n",
    "from ananke.schemas.event import NoiseType\n",
    "from ananke.services.detector import DetectorBuilderService\n",
    "from olympus.configuration.generators import NoiseGeneratorConfiguration\n",
    "from olympus.event_generation.generators import generate\n",
    "from olympus.configuration.generators import (\n",
    "    DatasetConfiguration,\n",
    "    GenerationConfiguration,\n",
    ")"
   ],
   "metadata": {
    "collapsed": false,
    "pycharm": {
     "name": "#%%\n"
    }
   }
  },
  {
   "cell_type": "markdown",
   "source": [
    "Let's get our detector"
   ],
   "metadata": {
    "collapsed": false,
    "pycharm": {
     "name": "#%% md\n"
    }
   }
  },
  {
   "cell_type": "code",
   "execution_count": null,
   "outputs": [],
   "source": [
    "detector_service = DetectorBuilderService()\n",
    "det = detector_service.get(configuration=single_line_configuration)"
   ],
   "metadata": {
    "collapsed": false,
    "pycharm": {
     "name": "#%%\n"
    }
   }
  },
  {
   "cell_type": "markdown",
   "source": [
    "## Electrical Noise Generation"
   ],
   "metadata": {
    "collapsed": false,
    "pycharm": {
     "name": "#%% md\n"
    }
   }
  },
  {
   "cell_type": "code",
   "execution_count": null,
   "outputs": [],
   "source": [
    "\n",
    "\n",
    "noise_generator_config = NoiseGeneratorConfiguration(\n",
    "    type=NoiseType.ELECTRICAL,\n",
    "    start_time=0,\n",
    "    duration=1000,\n",
    ")\n",
    "\n",
    "dataset_configuration = DatasetConfiguration(\n",
    "    detector=single_line_configuration,\n",
    "    generators=[\n",
    "        GenerationConfiguration(\n",
    "            generator=noise_generator_config,\n",
    "            number_of_samples=2000\n",
    "        ),\n",
    "    ],\n",
    "    data_path='../../data/new/electrical_noise_2000'\n",
    ")\n",
    "\n",
    "mock_collection = generate(dataset_configuration)\n",
    "\n",
    "records = mock_collection.get_records()\n",
    "records.df.head()"
   ],
   "metadata": {
    "collapsed": false,
    "pycharm": {
     "name": "#%%\n"
    }
   }
  }
 ],
 "metadata": {
  "kernelspec": {
   "display_name": "Python 3 (ipykernel)",
   "language": "python",
   "name": "python3"
  },
  "language_info": {
   "codemirror_mode": {
    "name": "ipython",
    "version": 3
   },
   "file_extension": ".py",
   "mimetype": "text/x-python",
   "name": "python",
   "nbconvert_exporter": "python",
   "pygments_lexer": "ipython3",
   "version": "3.8.10"
  }
 },
 "nbformat": 4,
 "nbformat_minor": 4
}