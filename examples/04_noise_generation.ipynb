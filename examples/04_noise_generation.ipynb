{
 "cells": [
  {
   "cell_type": "markdown",
   "metadata": {},
   "source": [
    "# 04 Noise Generation\n",
    "\n",
    "In this notebook, we talk about how to generate noise. We will cover multiple types of noise as they are added."
   ]
  },
  {
   "cell_type": "code",
   "execution_count": 1,
   "metadata": {
    "jupyter": {
     "outputs_hidden": false
    }
   },
   "outputs": [
    {
     "name": "stderr",
     "output_type": "stream",
     "text": [
      "WARNING:absl:No GPU/TPU found, falling back to CPU. (Set TF_CPP_MIN_LOG_LEVEL=0 and rerun for more info.)\n",
      "/home/janik/projects/master/env/lib/python3.8/site-packages/jax/_src/api_util.py:222: SyntaxWarning: Jitted function has invalid argnames {'interactions'} in static_argnames. Function does not take these args.This warning will be replaced by an error after 2022-08-20 at the earliest.\n",
      "  warnings.warn(f\"Jitted function has invalid argnames {invalid_argnames} \"\n",
      "2023-01-30 13:38:49.063711: W tensorflow/stream_executor/platform/default/dso_loader.cc:64] Could not load dynamic library 'libcudart.so.11.0'; dlerror: libcudart.so.11.0: cannot open shared object file: No such file or directory\n",
      "/home/janik/projects/master/env/lib/python3.8/site-packages/haiku/_src/data_structures.py:37: FutureWarning: jax.tree_structure is deprecated, and will be removed in a future release. Use jax.tree_util.tree_structure instead.\n",
      "  PyTreeDef = type(jax.tree_structure(None))\n"
     ]
    }
   ],
   "source": [
    "from ananke.configurations.presets.detector import single_line_configuration\n",
    "from ananke.schemas.event import NoiseType\n",
    "from ananke.services.detector import DetectorBuilderService\n",
    "from olympus.configuration.generators import NoiseGeneratorConfiguration\n",
    "from olympus.event_generation.generators import (\n",
    "    get_generator\n",
    ")"
   ]
  },
  {
   "cell_type": "markdown",
   "metadata": {},
   "source": [
    "Let's get our detector"
   ]
  },
  {
   "cell_type": "code",
   "execution_count": 2,
   "metadata": {
    "jupyter": {
     "outputs_hidden": false
    }
   },
   "outputs": [],
   "source": [
    "detector_service = DetectorBuilderService()\n",
    "det = detector_service.get(configuration=single_line_configuration)"
   ]
  },
  {
   "cell_type": "markdown",
   "metadata": {},
   "source": [
    "## Electrical Noise Generation"
   ]
  },
  {
   "cell_type": "code",
   "execution_count": 3,
   "metadata": {
    "jupyter": {
     "outputs_hidden": false
    }
   },
   "outputs": [
    {
     "data": {
      "text/plain": "         time  pmt_id            record_id  string_id  module_id        type\n0  713.862845       0  1015651285914554861          0          0  electrical\n1  589.400642       0  1015651285914554861          0          0  electrical\n2  896.467014       0  1015651457713246701          0          0  electrical\n3  652.415637       1  1015651285914554861          0          0  electrical\n4  629.716925       1  1015651457713246701          0          0  electrical",
      "text/html": "<div>\n<style scoped>\n    .dataframe tbody tr th:only-of-type {\n        vertical-align: middle;\n    }\n\n    .dataframe tbody tr th {\n        vertical-align: top;\n    }\n\n    .dataframe thead th {\n        text-align: right;\n    }\n</style>\n<table border=\"1\" class=\"dataframe\">\n  <thead>\n    <tr style=\"text-align: right;\">\n      <th></th>\n      <th>time</th>\n      <th>pmt_id</th>\n      <th>record_id</th>\n      <th>string_id</th>\n      <th>module_id</th>\n      <th>type</th>\n    </tr>\n  </thead>\n  <tbody>\n    <tr>\n      <th>0</th>\n      <td>713.862845</td>\n      <td>0</td>\n      <td>1015651285914554861</td>\n      <td>0</td>\n      <td>0</td>\n      <td>electrical</td>\n    </tr>\n    <tr>\n      <th>1</th>\n      <td>589.400642</td>\n      <td>0</td>\n      <td>1015651285914554861</td>\n      <td>0</td>\n      <td>0</td>\n      <td>electrical</td>\n    </tr>\n    <tr>\n      <th>2</th>\n      <td>896.467014</td>\n      <td>0</td>\n      <td>1015651457713246701</td>\n      <td>0</td>\n      <td>0</td>\n      <td>electrical</td>\n    </tr>\n    <tr>\n      <th>3</th>\n      <td>652.415637</td>\n      <td>1</td>\n      <td>1015651285914554861</td>\n      <td>0</td>\n      <td>0</td>\n      <td>electrical</td>\n    </tr>\n    <tr>\n      <th>4</th>\n      <td>629.716925</td>\n      <td>1</td>\n      <td>1015651457713246701</td>\n      <td>0</td>\n      <td>0</td>\n      <td>electrical</td>\n    </tr>\n  </tbody>\n</table>\n</div>"
     },
     "execution_count": 3,
     "metadata": {},
     "output_type": "execute_result"
    }
   ],
   "source": [
    "detector_service = DetectorBuilderService()\n",
    "det = detector_service.get(configuration=single_line_configuration)\n",
    "\n",
    "noise_generator_config = NoiseGeneratorConfiguration(\n",
    "    type=NoiseType.ELECTRICAL,\n",
    "    start_time=0,\n",
    "    duration=1000\n",
    ")\n",
    "\n",
    "electronic_noise_generator = get_generator(\n",
    "    detector=det,\n",
    "    configuration=noise_generator_config\n",
    ")\n",
    "\n",
    "electronic_noise_collection = electronic_noise_generator.generate(5)\n",
    "\n",
    "electronic_noise_collection.hits.df.head()"
   ]
  }
 ],
 "metadata": {
  "kernelspec": {
   "display_name": "Python 3 (ipykernel)",
   "language": "python",
   "name": "python3"
  },
  "language_info": {
   "codemirror_mode": {
    "name": "ipython",
    "version": 3
   },
   "file_extension": ".py",
   "mimetype": "text/x-python",
   "name": "python",
   "nbconvert_exporter": "python",
   "pygments_lexer": "ipython3",
   "version": "3.8.10"
  }
 },
 "nbformat": 4,
 "nbformat_minor": 4
}
