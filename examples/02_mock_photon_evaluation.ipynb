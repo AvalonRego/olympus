{
 "cells": [
  {
   "cell_type": "markdown",
   "metadata": {
    "collapsed": true,
    "pycharm": {
     "name": "#%% md\n"
    }
   },
   "source": [
    "# Mock Photon Propagation - Evaluation\n",
    "\n",
    "This notebook should give us an overview of the geometric properties of the mock photon propagation. With this we want to evaluate rightful behaviour. To do that we will leave the Olympus way of doing things with event generators and the detector builder. Instead, we will \"Mock\" our detector to accompany our specific needs!\n",
    "\n",
    "## Let us import everything first"
   ]
  },
  {
   "cell_type": "code",
   "execution_count": 1,
   "metadata": {
    "pycharm": {
     "name": "#%%\n"
    }
   },
   "outputs": [],
   "source": [
    "import numpy as np\n",
    "import pandas as pd\n",
    "import matplotlib.pyplot as plt\n",
    "\n",
    "from ananke.configurations.detector import DetectorConfiguration\n",
    "from ananke.models.detector import Detector\n",
    "from ananke.models.geometry import Vectors3D\n",
    "from ananke.models.event import EventRecords, Sources\n",
    "from ananke.schemas.detector import DetectorSchema\n",
    "from olympus.event_generation.generators import GeneratorCollection, GeneratorFactory\n",
    "from olympus.event_generation.medium import MediumEstimationVariant, Medium\n",
    "from olympus.event_generation.photon_propagation.mock_photons import MockPhotonPropagator\n",
    "\n",
    "import jax\n",
    "import jax.numpy as jnp\n",
    "\n",
    "# Global flag to set a specific platform, must be used at startup.\n",
    "# jax.config.update('jax_platform_name', 'cpu')"
   ]
  },
  {
   "cell_type": "markdown",
   "metadata": {
    "pycharm": {
     "name": "#%% md\n"
    }
   },
   "source": [
    "## Build Mock Detector\n",
    "\n",
    "To evaluate the mock photon propagation, we want to build a mock detector. This detector will contain different modules with specific pmt locations and distances. Specifically, we will look at following modules:\n",
    "\n",
    "* PMT To Cherenkov orientation: Rotate the PMT along the direction of the source (0 / 180)\n",
    "* PMT To Source rotation: Precession of PMTs against pmt to source direction\n",
    "* PMT Distances: PMTs at specific distances\n",
    "\n",
    "To see how we can construct our own detector we can have a look at the Detector DataFrame Schema."
   ]
  },
  {
   "cell_type": "code",
   "execution_count": 2,
   "metadata": {
    "pycharm": {
     "name": "#%%\n"
    }
   },
   "outputs": [
    {
     "name": "stdout",
     "output_type": "stream",
     "text": [
      "<Schema DataFrameSchema(\n",
      "    columns={\n",
      "        'pmt_id': <Schema Column(name=pmt_id, type=DataType(int64))>\n",
      "        'pmt_efficiency': <Schema Column(name=pmt_efficiency, type=DataType(float64))>\n",
      "        'pmt_area': <Schema Column(name=pmt_area, type=DataType(float64))>\n",
      "        'pmt_noise_rate': <Schema Column(name=pmt_noise_rate, type=DataType(float64))>\n",
      "        'pmt_location_x': <Schema Column(name=pmt_location_x, type=DataType(float64))>\n",
      "        'pmt_location_y': <Schema Column(name=pmt_location_y, type=DataType(float64))>\n",
      "        'pmt_location_z': <Schema Column(name=pmt_location_z, type=DataType(float64))>\n",
      "        'pmt_orientation_x': <Schema Column(name=pmt_orientation_x, type=DataType(float64))>\n",
      "        'pmt_orientation_y': <Schema Column(name=pmt_orientation_y, type=DataType(float64))>\n",
      "        'pmt_orientation_z': <Schema Column(name=pmt_orientation_z, type=DataType(float64))>\n",
      "        'module_id': <Schema Column(name=module_id, type=DataType(int64))>\n",
      "        'module_radius': <Schema Column(name=module_radius, type=DataType(float64))>\n",
      "        'module_location_x': <Schema Column(name=module_location_x, type=DataType(float64))>\n",
      "        'module_location_y': <Schema Column(name=module_location_y, type=DataType(float64))>\n",
      "        'module_location_z': <Schema Column(name=module_location_z, type=DataType(float64))>\n",
      "        'string_id': <Schema Column(name=string_id, type=DataType(int64))>\n",
      "        'string_location_x': <Schema Column(name=string_location_x, type=DataType(float64))>\n",
      "        'string_location_y': <Schema Column(name=string_location_y, type=DataType(float64))>\n",
      "        'string_location_z': <Schema Column(name=string_location_z, type=DataType(float64))>\n",
      "    },\n",
      "    checks=[],\n",
      "    coerce=False,\n",
      "    dtype=None,\n",
      "    index=None,\n",
      "    strict=False\n",
      "    name=DetectorSchema,\n",
      "    ordered=False,\n",
      "    unique_column_names=False\n",
      ")>\n"
     ]
    }
   ],
   "source": [
    "print(DetectorSchema.to_schema())"
   ]
  },
  {
   "cell_type": "markdown",
   "metadata": {
    "pycharm": {
     "name": "#%% md\n"
    }
   },
   "source": [
    "First, let's define some constants for the detector:"
   ]
  },
  {
   "cell_type": "code",
   "execution_count": 3,
   "metadata": {
    "pycharm": {
     "name": "#%%\n"
    }
   },
   "outputs": [],
   "source": [
    "dark_noise_rate = 16 * 1e-5  # 1/ns\n",
    "pmt_cath_area_r = 75e-3 / 2  # m\n",
    "module_radius = 0.21  # m\n",
    "efficiency = 0.42 # Christian S. Number\n",
    "number_of_angles = 18"
   ]
  },
  {
   "cell_type": "markdown",
   "metadata": {
    "pycharm": {
     "name": "#%% md\n"
    }
   },
   "source": [
    "Okay let's get startet with the module for the cherenkov. For that we will assume that the source is heading along the z-axis. and is positioned on the x-axis. Hence, we will rotate one PMT along the xz-plane starting with the direction of the z-axis."
   ]
  },
  {
   "cell_type": "code",
   "execution_count": 4,
   "metadata": {
    "pycharm": {
     "name": "#%%\n"
    }
   },
   "outputs": [
    {
     "data": {
      "text/html": [
       "<div>\n",
       "<style scoped>\n",
       "    .dataframe tbody tr th:only-of-type {\n",
       "        vertical-align: middle;\n",
       "    }\n",
       "\n",
       "    .dataframe tbody tr th {\n",
       "        vertical-align: top;\n",
       "    }\n",
       "\n",
       "    .dataframe thead th {\n",
       "        text-align: right;\n",
       "    }\n",
       "</style>\n",
       "<table border=\"1\" class=\"dataframe\">\n",
       "  <thead>\n",
       "    <tr style=\"text-align: right;\">\n",
       "      <th></th>\n",
       "      <th>pmt_orientation_x</th>\n",
       "      <th>pmt_orientation_y</th>\n",
       "      <th>pmt_orientation_z</th>\n",
       "      <th>pmt_id</th>\n",
       "      <th>pmt_efficiency</th>\n",
       "      <th>pmt_area</th>\n",
       "      <th>pmt_noise_rate</th>\n",
       "      <th>pmt_location_x</th>\n",
       "      <th>pmt_location_y</th>\n",
       "      <th>pmt_location_z</th>\n",
       "      <th>module_id</th>\n",
       "      <th>module_radius</th>\n",
       "      <th>module_location_x</th>\n",
       "      <th>module_location_y</th>\n",
       "      <th>module_location_z</th>\n",
       "      <th>string_id</th>\n",
       "      <th>string_location_x</th>\n",
       "      <th>string_location_y</th>\n",
       "      <th>string_location_z</th>\n",
       "    </tr>\n",
       "  </thead>\n",
       "  <tbody>\n",
       "    <tr>\n",
       "      <th>0</th>\n",
       "      <td>0.000000</td>\n",
       "      <td>0.0</td>\n",
       "      <td>1.000000</td>\n",
       "      <td>0</td>\n",
       "      <td>0.42</td>\n",
       "      <td>0.0375</td>\n",
       "      <td>0.00016</td>\n",
       "      <td>0.0</td>\n",
       "      <td>0.0</td>\n",
       "      <td>0.0</td>\n",
       "      <td>0</td>\n",
       "      <td>0.21</td>\n",
       "      <td>0.0</td>\n",
       "      <td>0.0</td>\n",
       "      <td>0.0</td>\n",
       "      <td>0</td>\n",
       "      <td>0.0</td>\n",
       "      <td>0.0</td>\n",
       "      <td>0.0</td>\n",
       "    </tr>\n",
       "    <tr>\n",
       "      <th>1</th>\n",
       "      <td>-0.183750</td>\n",
       "      <td>-0.0</td>\n",
       "      <td>0.982973</td>\n",
       "      <td>1</td>\n",
       "      <td>0.42</td>\n",
       "      <td>0.0375</td>\n",
       "      <td>0.00016</td>\n",
       "      <td>0.0</td>\n",
       "      <td>0.0</td>\n",
       "      <td>0.0</td>\n",
       "      <td>0</td>\n",
       "      <td>0.21</td>\n",
       "      <td>0.0</td>\n",
       "      <td>0.0</td>\n",
       "      <td>0.0</td>\n",
       "      <td>0</td>\n",
       "      <td>0.0</td>\n",
       "      <td>0.0</td>\n",
       "      <td>0.0</td>\n",
       "    </tr>\n",
       "    <tr>\n",
       "      <th>2</th>\n",
       "      <td>-0.361242</td>\n",
       "      <td>-0.0</td>\n",
       "      <td>0.932472</td>\n",
       "      <td>2</td>\n",
       "      <td>0.42</td>\n",
       "      <td>0.0375</td>\n",
       "      <td>0.00016</td>\n",
       "      <td>0.0</td>\n",
       "      <td>0.0</td>\n",
       "      <td>0.0</td>\n",
       "      <td>0</td>\n",
       "      <td>0.21</td>\n",
       "      <td>0.0</td>\n",
       "      <td>0.0</td>\n",
       "      <td>0.0</td>\n",
       "      <td>0</td>\n",
       "      <td>0.0</td>\n",
       "      <td>0.0</td>\n",
       "      <td>0.0</td>\n",
       "    </tr>\n",
       "    <tr>\n",
       "      <th>3</th>\n",
       "      <td>-0.526432</td>\n",
       "      <td>-0.0</td>\n",
       "      <td>0.850217</td>\n",
       "      <td>3</td>\n",
       "      <td>0.42</td>\n",
       "      <td>0.0375</td>\n",
       "      <td>0.00016</td>\n",
       "      <td>0.0</td>\n",
       "      <td>0.0</td>\n",
       "      <td>0.0</td>\n",
       "      <td>0</td>\n",
       "      <td>0.21</td>\n",
       "      <td>0.0</td>\n",
       "      <td>0.0</td>\n",
       "      <td>0.0</td>\n",
       "      <td>0</td>\n",
       "      <td>0.0</td>\n",
       "      <td>0.0</td>\n",
       "      <td>0.0</td>\n",
       "    </tr>\n",
       "    <tr>\n",
       "      <th>4</th>\n",
       "      <td>-0.673696</td>\n",
       "      <td>-0.0</td>\n",
       "      <td>0.739009</td>\n",
       "      <td>4</td>\n",
       "      <td>0.42</td>\n",
       "      <td>0.0375</td>\n",
       "      <td>0.00016</td>\n",
       "      <td>0.0</td>\n",
       "      <td>0.0</td>\n",
       "      <td>0.0</td>\n",
       "      <td>0</td>\n",
       "      <td>0.21</td>\n",
       "      <td>0.0</td>\n",
       "      <td>0.0</td>\n",
       "      <td>0.0</td>\n",
       "      <td>0</td>\n",
       "      <td>0.0</td>\n",
       "      <td>0.0</td>\n",
       "      <td>0.0</td>\n",
       "    </tr>\n",
       "  </tbody>\n",
       "</table>\n",
       "</div>"
      ],
      "text/plain": [
       "   pmt_orientation_x  pmt_orientation_y  pmt_orientation_z  pmt_id  \\\n",
       "0           0.000000                0.0           1.000000       0   \n",
       "1          -0.183750               -0.0           0.982973       1   \n",
       "2          -0.361242               -0.0           0.932472       2   \n",
       "3          -0.526432               -0.0           0.850217       3   \n",
       "4          -0.673696               -0.0           0.739009       4   \n",
       "\n",
       "   pmt_efficiency  pmt_area  pmt_noise_rate  pmt_location_x  pmt_location_y  \\\n",
       "0            0.42    0.0375         0.00016             0.0             0.0   \n",
       "1            0.42    0.0375         0.00016             0.0             0.0   \n",
       "2            0.42    0.0375         0.00016             0.0             0.0   \n",
       "3            0.42    0.0375         0.00016             0.0             0.0   \n",
       "4            0.42    0.0375         0.00016             0.0             0.0   \n",
       "\n",
       "   pmt_location_z  module_id  module_radius  module_location_x  \\\n",
       "0             0.0          0           0.21                0.0   \n",
       "1             0.0          0           0.21                0.0   \n",
       "2             0.0          0           0.21                0.0   \n",
       "3             0.0          0           0.21                0.0   \n",
       "4             0.0          0           0.21                0.0   \n",
       "\n",
       "   module_location_y  module_location_z  string_id  string_location_x  \\\n",
       "0                0.0                0.0          0                0.0   \n",
       "1                0.0                0.0          0                0.0   \n",
       "2                0.0                0.0          0                0.0   \n",
       "3                0.0                0.0          0                0.0   \n",
       "4                0.0                0.0          0                0.0   \n",
       "\n",
       "   string_location_y  string_location_z  \n",
       "0                0.0                0.0  \n",
       "1                0.0                0.0  \n",
       "2                0.0                0.0  \n",
       "3                0.0                0.0  \n",
       "4                0.0                0.0  "
      ]
     },
     "execution_count": 4,
     "metadata": {},
     "output_type": "execute_result"
    }
   ],
   "source": [
    "spherical_orientations = np.zeros((number_of_angles, 3))\n",
    "\n",
    "spherical_orientations[:, 0] = 1\n",
    "module_1_angle_range = np.linspace(0, -1* np.pi, number_of_angles)\n",
    "spherical_orientations[:, 2] = module_1_angle_range\n",
    "spherical_orientations_df = pd.DataFrame(spherical_orientations, columns=('norm', 'phi', 'theta'))\n",
    "cartesian_orientations = Vectors3D.from_spherical(spherical_orientations_df)\n",
    "\n",
    "module_1_df = cartesian_orientations.get_df_with_prefix('pmt_orientation_')\n",
    "module_1_df['pmt_id'] = range(number_of_angles)\n",
    "module_1_df['pmt_efficiency'] = efficiency\n",
    "module_1_df['pmt_area'] = pmt_cath_area_r\n",
    "module_1_df['pmt_noise_rate'] = dark_noise_rate\n",
    "module_1_df['pmt_location_x'] = 0.0\n",
    "module_1_df['pmt_location_y'] = 0.0\n",
    "module_1_df['pmt_location_z'] = 0.0\n",
    "module_1_df['module_id'] = 0\n",
    "module_1_df['module_radius'] = module_radius\n",
    "module_1_df['module_location_x'] = 0.0\n",
    "module_1_df['module_location_y'] = 0.0\n",
    "module_1_df['module_location_z'] = 0.0\n",
    "module_1_df['string_id'] = 0\n",
    "module_1_df['string_location_x'] = 0.0\n",
    "module_1_df['string_location_y'] = 0.0\n",
    "module_1_df['string_location_z'] = 0.0\n",
    "\n",
    "module_1_detector = Detector(df=module_1_df)\n",
    "module_1_detector.df.head()"
   ]
  },
  {
   "cell_type": "markdown",
   "metadata": {
    "pycharm": {
     "name": "#%% md\n"
    }
   },
   "source": [
    "Now let's define the precession pmt. We start with the PMT directly facing the source and rotate it around the xy-plane"
   ]
  },
  {
   "cell_type": "code",
   "execution_count": 5,
   "metadata": {
    "pycharm": {
     "name": "#%%\n"
    }
   },
   "outputs": [
    {
     "data": {
      "text/html": [
       "<div>\n",
       "<style scoped>\n",
       "    .dataframe tbody tr th:only-of-type {\n",
       "        vertical-align: middle;\n",
       "    }\n",
       "\n",
       "    .dataframe tbody tr th {\n",
       "        vertical-align: top;\n",
       "    }\n",
       "\n",
       "    .dataframe thead th {\n",
       "        text-align: right;\n",
       "    }\n",
       "</style>\n",
       "<table border=\"1\" class=\"dataframe\">\n",
       "  <thead>\n",
       "    <tr style=\"text-align: right;\">\n",
       "      <th></th>\n",
       "      <th>pmt_orientation_x</th>\n",
       "      <th>pmt_orientation_y</th>\n",
       "      <th>pmt_orientation_z</th>\n",
       "      <th>pmt_id</th>\n",
       "      <th>pmt_efficiency</th>\n",
       "      <th>pmt_area</th>\n",
       "      <th>pmt_noise_rate</th>\n",
       "      <th>pmt_location_x</th>\n",
       "      <th>pmt_location_y</th>\n",
       "      <th>pmt_location_z</th>\n",
       "      <th>module_id</th>\n",
       "      <th>module_radius</th>\n",
       "      <th>module_location_x</th>\n",
       "      <th>module_location_y</th>\n",
       "      <th>module_location_z</th>\n",
       "      <th>string_id</th>\n",
       "      <th>string_location_x</th>\n",
       "      <th>string_location_y</th>\n",
       "      <th>string_location_z</th>\n",
       "    </tr>\n",
       "  </thead>\n",
       "  <tbody>\n",
       "    <tr>\n",
       "      <th>0</th>\n",
       "      <td>1.000000</td>\n",
       "      <td>0.000000</td>\n",
       "      <td>6.123234e-17</td>\n",
       "      <td>0</td>\n",
       "      <td>0.42</td>\n",
       "      <td>0.0375</td>\n",
       "      <td>0.00016</td>\n",
       "      <td>0.0</td>\n",
       "      <td>0.0</td>\n",
       "      <td>0.0</td>\n",
       "      <td>1</td>\n",
       "      <td>0.21</td>\n",
       "      <td>0.0</td>\n",
       "      <td>0.0</td>\n",
       "      <td>0.0</td>\n",
       "      <td>0</td>\n",
       "      <td>0.0</td>\n",
       "      <td>0.0</td>\n",
       "      <td>0.0</td>\n",
       "    </tr>\n",
       "    <tr>\n",
       "      <th>1</th>\n",
       "      <td>0.932472</td>\n",
       "      <td>0.361242</td>\n",
       "      <td>6.123234e-17</td>\n",
       "      <td>1</td>\n",
       "      <td>0.42</td>\n",
       "      <td>0.0375</td>\n",
       "      <td>0.00016</td>\n",
       "      <td>0.0</td>\n",
       "      <td>0.0</td>\n",
       "      <td>0.0</td>\n",
       "      <td>1</td>\n",
       "      <td>0.21</td>\n",
       "      <td>0.0</td>\n",
       "      <td>0.0</td>\n",
       "      <td>0.0</td>\n",
       "      <td>0</td>\n",
       "      <td>0.0</td>\n",
       "      <td>0.0</td>\n",
       "      <td>0.0</td>\n",
       "    </tr>\n",
       "    <tr>\n",
       "      <th>2</th>\n",
       "      <td>0.739009</td>\n",
       "      <td>0.673696</td>\n",
       "      <td>6.123234e-17</td>\n",
       "      <td>2</td>\n",
       "      <td>0.42</td>\n",
       "      <td>0.0375</td>\n",
       "      <td>0.00016</td>\n",
       "      <td>0.0</td>\n",
       "      <td>0.0</td>\n",
       "      <td>0.0</td>\n",
       "      <td>1</td>\n",
       "      <td>0.21</td>\n",
       "      <td>0.0</td>\n",
       "      <td>0.0</td>\n",
       "      <td>0.0</td>\n",
       "      <td>0</td>\n",
       "      <td>0.0</td>\n",
       "      <td>0.0</td>\n",
       "      <td>0.0</td>\n",
       "    </tr>\n",
       "    <tr>\n",
       "      <th>3</th>\n",
       "      <td>0.445738</td>\n",
       "      <td>0.895163</td>\n",
       "      <td>6.123234e-17</td>\n",
       "      <td>3</td>\n",
       "      <td>0.42</td>\n",
       "      <td>0.0375</td>\n",
       "      <td>0.00016</td>\n",
       "      <td>0.0</td>\n",
       "      <td>0.0</td>\n",
       "      <td>0.0</td>\n",
       "      <td>1</td>\n",
       "      <td>0.21</td>\n",
       "      <td>0.0</td>\n",
       "      <td>0.0</td>\n",
       "      <td>0.0</td>\n",
       "      <td>0</td>\n",
       "      <td>0.0</td>\n",
       "      <td>0.0</td>\n",
       "      <td>0.0</td>\n",
       "    </tr>\n",
       "    <tr>\n",
       "      <th>4</th>\n",
       "      <td>0.092268</td>\n",
       "      <td>0.995734</td>\n",
       "      <td>6.123234e-17</td>\n",
       "      <td>4</td>\n",
       "      <td>0.42</td>\n",
       "      <td>0.0375</td>\n",
       "      <td>0.00016</td>\n",
       "      <td>0.0</td>\n",
       "      <td>0.0</td>\n",
       "      <td>0.0</td>\n",
       "      <td>1</td>\n",
       "      <td>0.21</td>\n",
       "      <td>0.0</td>\n",
       "      <td>0.0</td>\n",
       "      <td>0.0</td>\n",
       "      <td>0</td>\n",
       "      <td>0.0</td>\n",
       "      <td>0.0</td>\n",
       "      <td>0.0</td>\n",
       "    </tr>\n",
       "  </tbody>\n",
       "</table>\n",
       "</div>"
      ],
      "text/plain": [
       "   pmt_orientation_x  pmt_orientation_y  pmt_orientation_z  pmt_id  \\\n",
       "0           1.000000           0.000000       6.123234e-17       0   \n",
       "1           0.932472           0.361242       6.123234e-17       1   \n",
       "2           0.739009           0.673696       6.123234e-17       2   \n",
       "3           0.445738           0.895163       6.123234e-17       3   \n",
       "4           0.092268           0.995734       6.123234e-17       4   \n",
       "\n",
       "   pmt_efficiency  pmt_area  pmt_noise_rate  pmt_location_x  pmt_location_y  \\\n",
       "0            0.42    0.0375         0.00016             0.0             0.0   \n",
       "1            0.42    0.0375         0.00016             0.0             0.0   \n",
       "2            0.42    0.0375         0.00016             0.0             0.0   \n",
       "3            0.42    0.0375         0.00016             0.0             0.0   \n",
       "4            0.42    0.0375         0.00016             0.0             0.0   \n",
       "\n",
       "   pmt_location_z  module_id  module_radius  module_location_x  \\\n",
       "0             0.0          1           0.21                0.0   \n",
       "1             0.0          1           0.21                0.0   \n",
       "2             0.0          1           0.21                0.0   \n",
       "3             0.0          1           0.21                0.0   \n",
       "4             0.0          1           0.21                0.0   \n",
       "\n",
       "   module_location_y  module_location_z  string_id  string_location_x  \\\n",
       "0                0.0                0.0          0                0.0   \n",
       "1                0.0                0.0          0                0.0   \n",
       "2                0.0                0.0          0                0.0   \n",
       "3                0.0                0.0          0                0.0   \n",
       "4                0.0                0.0          0                0.0   \n",
       "\n",
       "   string_location_y  string_location_z  \n",
       "0                0.0                0.0  \n",
       "1                0.0                0.0  \n",
       "2                0.0                0.0  \n",
       "3                0.0                0.0  \n",
       "4                0.0                0.0  "
      ]
     },
     "execution_count": 5,
     "metadata": {},
     "output_type": "execute_result"
    }
   ],
   "source": [
    "spherical_orientations = np.zeros((number_of_angles, 3))\n",
    "\n",
    "spherical_orientations[:, 0] = 1\n",
    "module_2_angle_range = np.linspace(0, 2*np.pi, number_of_angles)\n",
    "spherical_orientations[:, 1] = module_2_angle_range\n",
    "spherical_orientations[:, 2] = np.pi / 2\n",
    "spherical_orientations_df = pd.DataFrame(spherical_orientations, columns=('norm', 'phi', 'theta'))\n",
    "cartesian_orientations = Vectors3D.from_spherical(spherical_orientations_df)\n",
    "\n",
    "module_2_df = cartesian_orientations.get_df_with_prefix('pmt_orientation_')\n",
    "module_2_df['pmt_id'] = range(number_of_angles)\n",
    "module_2_df['pmt_efficiency'] = efficiency\n",
    "module_2_df['pmt_area'] = pmt_cath_area_r\n",
    "module_2_df['pmt_noise_rate'] = dark_noise_rate\n",
    "module_2_df['pmt_location_x'] = 0.0\n",
    "module_2_df['pmt_location_y'] = 0.0\n",
    "module_2_df['pmt_location_z'] = 0.0\n",
    "module_2_df['module_id'] = 1\n",
    "module_2_df['module_radius'] = module_radius\n",
    "module_2_df['module_location_x'] = 0.0\n",
    "module_2_df['module_location_y'] = 0.0\n",
    "module_2_df['module_location_z'] = 0.0\n",
    "module_2_df['string_id'] = 0\n",
    "module_2_df['string_location_x'] = 0.0\n",
    "module_2_df['string_location_y'] = 0.0\n",
    "module_2_df['string_location_z'] = 0.0\n",
    "\n",
    "module_2_detector = Detector(df=module_2_df)\n",
    "module_2_detector.df.head()"
   ]
  },
  {
   "cell_type": "markdown",
   "metadata": {
    "pycharm": {
     "name": "#%% md\n"
    }
   },
   "source": [
    "Now, let's mix the previous cases. We start with a theta of 45° and rotate phi 360°"
   ]
  },
  {
   "cell_type": "code",
   "execution_count": 6,
   "metadata": {
    "pycharm": {
     "name": "#%%\n"
    }
   },
   "outputs": [
    {
     "data": {
      "text/html": [
       "<div>\n",
       "<style scoped>\n",
       "    .dataframe tbody tr th:only-of-type {\n",
       "        vertical-align: middle;\n",
       "    }\n",
       "\n",
       "    .dataframe tbody tr th {\n",
       "        vertical-align: top;\n",
       "    }\n",
       "\n",
       "    .dataframe thead th {\n",
       "        text-align: right;\n",
       "    }\n",
       "</style>\n",
       "<table border=\"1\" class=\"dataframe\">\n",
       "  <thead>\n",
       "    <tr style=\"text-align: right;\">\n",
       "      <th></th>\n",
       "      <th>pmt_orientation_x</th>\n",
       "      <th>pmt_orientation_y</th>\n",
       "      <th>pmt_orientation_z</th>\n",
       "      <th>pmt_id</th>\n",
       "      <th>pmt_efficiency</th>\n",
       "      <th>pmt_area</th>\n",
       "      <th>pmt_noise_rate</th>\n",
       "      <th>pmt_location_x</th>\n",
       "      <th>pmt_location_y</th>\n",
       "      <th>pmt_location_z</th>\n",
       "      <th>module_id</th>\n",
       "      <th>module_radius</th>\n",
       "      <th>module_location_x</th>\n",
       "      <th>module_location_y</th>\n",
       "      <th>module_location_z</th>\n",
       "      <th>string_id</th>\n",
       "      <th>string_location_x</th>\n",
       "      <th>string_location_y</th>\n",
       "      <th>string_location_z</th>\n",
       "    </tr>\n",
       "  </thead>\n",
       "  <tbody>\n",
       "    <tr>\n",
       "      <th>0</th>\n",
       "      <td>0.707107</td>\n",
       "      <td>0.000000</td>\n",
       "      <td>0.707107</td>\n",
       "      <td>0</td>\n",
       "      <td>0.42</td>\n",
       "      <td>0.0375</td>\n",
       "      <td>0.00016</td>\n",
       "      <td>0.0</td>\n",
       "      <td>0.0</td>\n",
       "      <td>0.0</td>\n",
       "      <td>2</td>\n",
       "      <td>0.21</td>\n",
       "      <td>0.0</td>\n",
       "      <td>0.0</td>\n",
       "      <td>0.0</td>\n",
       "      <td>0</td>\n",
       "      <td>0.0</td>\n",
       "      <td>0.0</td>\n",
       "      <td>0.0</td>\n",
       "    </tr>\n",
       "    <tr>\n",
       "      <th>1</th>\n",
       "      <td>0.659357</td>\n",
       "      <td>0.255436</td>\n",
       "      <td>0.707107</td>\n",
       "      <td>1</td>\n",
       "      <td>0.42</td>\n",
       "      <td>0.0375</td>\n",
       "      <td>0.00016</td>\n",
       "      <td>0.0</td>\n",
       "      <td>0.0</td>\n",
       "      <td>0.0</td>\n",
       "      <td>2</td>\n",
       "      <td>0.21</td>\n",
       "      <td>0.0</td>\n",
       "      <td>0.0</td>\n",
       "      <td>0.0</td>\n",
       "      <td>0</td>\n",
       "      <td>0.0</td>\n",
       "      <td>0.0</td>\n",
       "      <td>0.0</td>\n",
       "    </tr>\n",
       "    <tr>\n",
       "      <th>2</th>\n",
       "      <td>0.522558</td>\n",
       "      <td>0.476375</td>\n",
       "      <td>0.707107</td>\n",
       "      <td>2</td>\n",
       "      <td>0.42</td>\n",
       "      <td>0.0375</td>\n",
       "      <td>0.00016</td>\n",
       "      <td>0.0</td>\n",
       "      <td>0.0</td>\n",
       "      <td>0.0</td>\n",
       "      <td>2</td>\n",
       "      <td>0.21</td>\n",
       "      <td>0.0</td>\n",
       "      <td>0.0</td>\n",
       "      <td>0.0</td>\n",
       "      <td>0</td>\n",
       "      <td>0.0</td>\n",
       "      <td>0.0</td>\n",
       "      <td>0.0</td>\n",
       "    </tr>\n",
       "    <tr>\n",
       "      <th>3</th>\n",
       "      <td>0.315185</td>\n",
       "      <td>0.632976</td>\n",
       "      <td>0.707107</td>\n",
       "      <td>3</td>\n",
       "      <td>0.42</td>\n",
       "      <td>0.0375</td>\n",
       "      <td>0.00016</td>\n",
       "      <td>0.0</td>\n",
       "      <td>0.0</td>\n",
       "      <td>0.0</td>\n",
       "      <td>2</td>\n",
       "      <td>0.21</td>\n",
       "      <td>0.0</td>\n",
       "      <td>0.0</td>\n",
       "      <td>0.0</td>\n",
       "      <td>0</td>\n",
       "      <td>0.0</td>\n",
       "      <td>0.0</td>\n",
       "      <td>0.0</td>\n",
       "    </tr>\n",
       "    <tr>\n",
       "      <th>4</th>\n",
       "      <td>0.065244</td>\n",
       "      <td>0.704090</td>\n",
       "      <td>0.707107</td>\n",
       "      <td>4</td>\n",
       "      <td>0.42</td>\n",
       "      <td>0.0375</td>\n",
       "      <td>0.00016</td>\n",
       "      <td>0.0</td>\n",
       "      <td>0.0</td>\n",
       "      <td>0.0</td>\n",
       "      <td>2</td>\n",
       "      <td>0.21</td>\n",
       "      <td>0.0</td>\n",
       "      <td>0.0</td>\n",
       "      <td>0.0</td>\n",
       "      <td>0</td>\n",
       "      <td>0.0</td>\n",
       "      <td>0.0</td>\n",
       "      <td>0.0</td>\n",
       "    </tr>\n",
       "  </tbody>\n",
       "</table>\n",
       "</div>"
      ],
      "text/plain": [
       "   pmt_orientation_x  pmt_orientation_y  pmt_orientation_z  pmt_id  \\\n",
       "0           0.707107           0.000000           0.707107       0   \n",
       "1           0.659357           0.255436           0.707107       1   \n",
       "2           0.522558           0.476375           0.707107       2   \n",
       "3           0.315185           0.632976           0.707107       3   \n",
       "4           0.065244           0.704090           0.707107       4   \n",
       "\n",
       "   pmt_efficiency  pmt_area  pmt_noise_rate  pmt_location_x  pmt_location_y  \\\n",
       "0            0.42    0.0375         0.00016             0.0             0.0   \n",
       "1            0.42    0.0375         0.00016             0.0             0.0   \n",
       "2            0.42    0.0375         0.00016             0.0             0.0   \n",
       "3            0.42    0.0375         0.00016             0.0             0.0   \n",
       "4            0.42    0.0375         0.00016             0.0             0.0   \n",
       "\n",
       "   pmt_location_z  module_id  module_radius  module_location_x  \\\n",
       "0             0.0          2           0.21                0.0   \n",
       "1             0.0          2           0.21                0.0   \n",
       "2             0.0          2           0.21                0.0   \n",
       "3             0.0          2           0.21                0.0   \n",
       "4             0.0          2           0.21                0.0   \n",
       "\n",
       "   module_location_y  module_location_z  string_id  string_location_x  \\\n",
       "0                0.0                0.0          0                0.0   \n",
       "1                0.0                0.0          0                0.0   \n",
       "2                0.0                0.0          0                0.0   \n",
       "3                0.0                0.0          0                0.0   \n",
       "4                0.0                0.0          0                0.0   \n",
       "\n",
       "   string_location_y  string_location_z  \n",
       "0                0.0                0.0  \n",
       "1                0.0                0.0  \n",
       "2                0.0                0.0  \n",
       "3                0.0                0.0  \n",
       "4                0.0                0.0  "
      ]
     },
     "execution_count": 6,
     "metadata": {},
     "output_type": "execute_result"
    }
   ],
   "source": [
    "spherical_orientations = np.zeros((number_of_angles, 3))\n",
    "\n",
    "spherical_orientations[:, 0] = 1\n",
    "module_3_angle_range = np.linspace(0, 2*np.pi, number_of_angles)\n",
    "spherical_orientations[:, 1] = module_3_angle_range\n",
    "spherical_orientations[:, 2] = np.pi / 4\n",
    "spherical_orientations_df = pd.DataFrame(spherical_orientations, columns=('norm', 'phi', 'theta'))\n",
    "cartesian_orientations = Vectors3D.from_spherical(spherical_orientations_df)\n",
    "\n",
    "module_3_df = cartesian_orientations.get_df_with_prefix('pmt_orientation_')\n",
    "module_3_df['pmt_id'] = range(number_of_angles)\n",
    "module_3_df['pmt_efficiency'] = efficiency\n",
    "module_3_df['pmt_area'] = pmt_cath_area_r\n",
    "module_3_df['pmt_noise_rate'] = dark_noise_rate\n",
    "module_3_df['pmt_location_x'] = 0.0\n",
    "module_3_df['pmt_location_y'] = 0.0\n",
    "module_3_df['pmt_location_z'] = 0.0\n",
    "module_3_df['module_id'] = 2\n",
    "module_3_df['module_radius'] = module_radius\n",
    "module_3_df['module_location_x'] = 0.0\n",
    "module_3_df['module_location_y'] = 0.0\n",
    "module_3_df['module_location_z'] = 0.0\n",
    "module_3_df['string_id'] = 0\n",
    "module_3_df['string_location_x'] = 0.0\n",
    "module_3_df['string_location_y'] = 0.0\n",
    "module_3_df['string_location_z'] = 0.0\n",
    "\n",
    "module_3_detector = Detector(df=module_3_df)\n",
    "module_3_detector.df.head()"
   ]
  },
  {
   "cell_type": "markdown",
   "metadata": {
    "pycharm": {
     "name": "#%% md\n"
    }
   },
   "source": [
    "Last, but not least we are varying the distance of the PMTs with the PMTs heading directly towards the source on the x-axis facing the z-direction."
   ]
  },
  {
   "cell_type": "code",
   "execution_count": 7,
   "metadata": {
    "pycharm": {
     "name": "#%%\n"
    }
   },
   "outputs": [
    {
     "data": {
      "text/html": [
       "<div>\n",
       "<style scoped>\n",
       "    .dataframe tbody tr th:only-of-type {\n",
       "        vertical-align: middle;\n",
       "    }\n",
       "\n",
       "    .dataframe tbody tr th {\n",
       "        vertical-align: top;\n",
       "    }\n",
       "\n",
       "    .dataframe thead th {\n",
       "        text-align: right;\n",
       "    }\n",
       "</style>\n",
       "<table border=\"1\" class=\"dataframe\">\n",
       "  <thead>\n",
       "    <tr style=\"text-align: right;\">\n",
       "      <th></th>\n",
       "      <th>pmt_location_x</th>\n",
       "      <th>pmt_location_y</th>\n",
       "      <th>pmt_location_z</th>\n",
       "      <th>pmt_id</th>\n",
       "      <th>pmt_efficiency</th>\n",
       "      <th>pmt_area</th>\n",
       "      <th>pmt_noise_rate</th>\n",
       "      <th>pmt_orientation_x</th>\n",
       "      <th>pmt_orientation_y</th>\n",
       "      <th>pmt_orientation_z</th>\n",
       "      <th>module_id</th>\n",
       "      <th>module_radius</th>\n",
       "      <th>module_location_x</th>\n",
       "      <th>module_location_y</th>\n",
       "      <th>module_location_z</th>\n",
       "      <th>string_id</th>\n",
       "      <th>string_location_x</th>\n",
       "      <th>string_location_y</th>\n",
       "      <th>string_location_z</th>\n",
       "    </tr>\n",
       "  </thead>\n",
       "  <tbody>\n",
       "    <tr>\n",
       "      <th>0</th>\n",
       "      <td>0.0</td>\n",
       "      <td>0.0</td>\n",
       "      <td>0.0</td>\n",
       "      <td>0</td>\n",
       "      <td>0.42</td>\n",
       "      <td>0.0375</td>\n",
       "      <td>0.00016</td>\n",
       "      <td>-1.0</td>\n",
       "      <td>0.0</td>\n",
       "      <td>0.0</td>\n",
       "      <td>3</td>\n",
       "      <td>0.21</td>\n",
       "      <td>0.0</td>\n",
       "      <td>0.0</td>\n",
       "      <td>0.0</td>\n",
       "      <td>0</td>\n",
       "      <td>0.0</td>\n",
       "      <td>0.0</td>\n",
       "      <td>0.0</td>\n",
       "    </tr>\n",
       "    <tr>\n",
       "      <th>1</th>\n",
       "      <td>5.0</td>\n",
       "      <td>0.0</td>\n",
       "      <td>0.0</td>\n",
       "      <td>1</td>\n",
       "      <td>0.42</td>\n",
       "      <td>0.0375</td>\n",
       "      <td>0.00016</td>\n",
       "      <td>-1.0</td>\n",
       "      <td>0.0</td>\n",
       "      <td>0.0</td>\n",
       "      <td>3</td>\n",
       "      <td>0.21</td>\n",
       "      <td>0.0</td>\n",
       "      <td>0.0</td>\n",
       "      <td>0.0</td>\n",
       "      <td>0</td>\n",
       "      <td>0.0</td>\n",
       "      <td>0.0</td>\n",
       "      <td>0.0</td>\n",
       "    </tr>\n",
       "    <tr>\n",
       "      <th>2</th>\n",
       "      <td>10.0</td>\n",
       "      <td>0.0</td>\n",
       "      <td>0.0</td>\n",
       "      <td>2</td>\n",
       "      <td>0.42</td>\n",
       "      <td>0.0375</td>\n",
       "      <td>0.00016</td>\n",
       "      <td>-1.0</td>\n",
       "      <td>0.0</td>\n",
       "      <td>0.0</td>\n",
       "      <td>3</td>\n",
       "      <td>0.21</td>\n",
       "      <td>0.0</td>\n",
       "      <td>0.0</td>\n",
       "      <td>0.0</td>\n",
       "      <td>0</td>\n",
       "      <td>0.0</td>\n",
       "      <td>0.0</td>\n",
       "      <td>0.0</td>\n",
       "    </tr>\n",
       "    <tr>\n",
       "      <th>3</th>\n",
       "      <td>15.0</td>\n",
       "      <td>0.0</td>\n",
       "      <td>0.0</td>\n",
       "      <td>3</td>\n",
       "      <td>0.42</td>\n",
       "      <td>0.0375</td>\n",
       "      <td>0.00016</td>\n",
       "      <td>-1.0</td>\n",
       "      <td>0.0</td>\n",
       "      <td>0.0</td>\n",
       "      <td>3</td>\n",
       "      <td>0.21</td>\n",
       "      <td>0.0</td>\n",
       "      <td>0.0</td>\n",
       "      <td>0.0</td>\n",
       "      <td>0</td>\n",
       "      <td>0.0</td>\n",
       "      <td>0.0</td>\n",
       "      <td>0.0</td>\n",
       "    </tr>\n",
       "    <tr>\n",
       "      <th>4</th>\n",
       "      <td>20.0</td>\n",
       "      <td>0.0</td>\n",
       "      <td>0.0</td>\n",
       "      <td>4</td>\n",
       "      <td>0.42</td>\n",
       "      <td>0.0375</td>\n",
       "      <td>0.00016</td>\n",
       "      <td>-1.0</td>\n",
       "      <td>0.0</td>\n",
       "      <td>0.0</td>\n",
       "      <td>3</td>\n",
       "      <td>0.21</td>\n",
       "      <td>0.0</td>\n",
       "      <td>0.0</td>\n",
       "      <td>0.0</td>\n",
       "      <td>0</td>\n",
       "      <td>0.0</td>\n",
       "      <td>0.0</td>\n",
       "      <td>0.0</td>\n",
       "    </tr>\n",
       "  </tbody>\n",
       "</table>\n",
       "</div>"
      ],
      "text/plain": [
       "   pmt_location_x  pmt_location_y  pmt_location_z  pmt_id  pmt_efficiency  \\\n",
       "0             0.0             0.0             0.0       0            0.42   \n",
       "1             5.0             0.0             0.0       1            0.42   \n",
       "2            10.0             0.0             0.0       2            0.42   \n",
       "3            15.0             0.0             0.0       3            0.42   \n",
       "4            20.0             0.0             0.0       4            0.42   \n",
       "\n",
       "   pmt_area  pmt_noise_rate  pmt_orientation_x  pmt_orientation_y  \\\n",
       "0    0.0375         0.00016               -1.0                0.0   \n",
       "1    0.0375         0.00016               -1.0                0.0   \n",
       "2    0.0375         0.00016               -1.0                0.0   \n",
       "3    0.0375         0.00016               -1.0                0.0   \n",
       "4    0.0375         0.00016               -1.0                0.0   \n",
       "\n",
       "   pmt_orientation_z  module_id  module_radius  module_location_x  \\\n",
       "0                0.0          3           0.21                0.0   \n",
       "1                0.0          3           0.21                0.0   \n",
       "2                0.0          3           0.21                0.0   \n",
       "3                0.0          3           0.21                0.0   \n",
       "4                0.0          3           0.21                0.0   \n",
       "\n",
       "   module_location_y  module_location_z  string_id  string_location_x  \\\n",
       "0                0.0                0.0          0                0.0   \n",
       "1                0.0                0.0          0                0.0   \n",
       "2                0.0                0.0          0                0.0   \n",
       "3                0.0                0.0          0                0.0   \n",
       "4                0.0                0.0          0                0.0   \n",
       "\n",
       "   string_location_y  string_location_z  \n",
       "0                0.0                0.0  \n",
       "1                0.0                0.0  \n",
       "2                0.0                0.0  \n",
       "3                0.0                0.0  \n",
       "4                0.0                0.0  "
      ]
     },
     "execution_count": 7,
     "metadata": {},
     "output_type": "execute_result"
    }
   ],
   "source": [
    "distance_between_pmts = 5\n",
    "maximum_distance = 100\n",
    "number_of_steps = int(maximum_distance / distance_between_pmts)\n",
    "module_4_range = np.arange(0, maximum_distance, distance_between_pmts)\n",
    "cartesian_locations = np.zeros((number_of_steps, 3))\n",
    "cartesian_locations[:, 0] = module_4_range\n",
    "cartesian_locations = Vectors3D.from_numpy(cartesian_locations)\n",
    "\n",
    "module_4_df = cartesian_locations.get_df_with_prefix('pmt_location_')\n",
    "module_4_df['pmt_id'] = range(number_of_steps)\n",
    "module_4_df['pmt_efficiency'] = efficiency\n",
    "module_4_df['pmt_area'] = pmt_cath_area_r\n",
    "module_4_df['pmt_noise_rate'] = dark_noise_rate\n",
    "module_4_df['pmt_orientation_x'] = -1.0\n",
    "module_4_df['pmt_orientation_y'] = 0.0\n",
    "module_4_df['pmt_orientation_z'] = 0.0\n",
    "module_4_df['module_id'] = 3\n",
    "module_4_df['module_radius'] = module_radius\n",
    "module_4_df['module_location_x'] = 0.0\n",
    "module_4_df['module_location_y'] = 0.0\n",
    "module_4_df['module_location_z'] = 0.0\n",
    "module_4_df['string_id'] = 0\n",
    "module_4_df['string_location_x'] = 0.0\n",
    "module_4_df['string_location_y'] = 0.0\n",
    "module_4_df['string_location_z'] = 0.0\n",
    "\n",
    "module_4_detector = Detector(df=module_4_df)\n",
    "module_4_detector.df.head()"
   ]
  },
  {
   "cell_type": "markdown",
   "metadata": {
    "pycharm": {
     "name": "#%% md\n"
    }
   },
   "source": [
    "Let's complete our detector:"
   ]
  },
  {
   "cell_type": "code",
   "execution_count": 8,
   "metadata": {
    "pycharm": {
     "name": "#%%\n"
    }
   },
   "outputs": [
    {
     "data": {
      "text/plain": [
       "74"
      ]
     },
     "execution_count": 8,
     "metadata": {},
     "output_type": "execute_result"
    }
   ],
   "source": [
    "detector = Detector.concat([\n",
    "    module_1_detector,\n",
    "    module_2_detector,\n",
    "    module_3_detector,\n",
    "    module_4_detector,\n",
    "])\n",
    "len(detector.df.index)"
   ]
  },
  {
   "cell_type": "markdown",
   "metadata": {
    "pycharm": {
     "name": "#%% md\n"
    }
   },
   "source": [
    "## Build Mock Event and Sources\n",
    "\n",
    "After the detector, we only need to create an event and its sources. Here as well to be able to evaluate the cherenkov dependency we create events and sources starting in y-axis direction and then rotating down the xz-plane"
   ]
  },
  {
   "cell_type": "code",
   "execution_count": 9,
   "metadata": {
    "pycharm": {
     "name": "#%%\n"
    }
   },
   "outputs": [
    {
     "data": {
      "text/html": [
       "<div>\n",
       "<style scoped>\n",
       "    .dataframe tbody tr th:only-of-type {\n",
       "        vertical-align: middle;\n",
       "    }\n",
       "\n",
       "    .dataframe tbody tr th {\n",
       "        vertical-align: top;\n",
       "    }\n",
       "\n",
       "    .dataframe thead th {\n",
       "        text-align: right;\n",
       "    }\n",
       "</style>\n",
       "<table border=\"1\" class=\"dataframe\">\n",
       "  <thead>\n",
       "    <tr style=\"text-align: right;\">\n",
       "      <th></th>\n",
       "      <th>orientation_x</th>\n",
       "      <th>orientation_y</th>\n",
       "      <th>orientation_z</th>\n",
       "      <th>record_id</th>\n",
       "      <th>time</th>\n",
       "      <th>location_x</th>\n",
       "      <th>location_y</th>\n",
       "      <th>location_z</th>\n",
       "      <th>energy</th>\n",
       "      <th>length</th>\n",
       "      <th>particle_id</th>\n",
       "      <th>type</th>\n",
       "    </tr>\n",
       "  </thead>\n",
       "  <tbody>\n",
       "    <tr>\n",
       "      <th>0</th>\n",
       "      <td>0.000000</td>\n",
       "      <td>0.0</td>\n",
       "      <td>1.000000</td>\n",
       "      <td>0</td>\n",
       "      <td>0.0</td>\n",
       "      <td>-5.0</td>\n",
       "      <td>0.0</td>\n",
       "      <td>0.0</td>\n",
       "      <td>10000.0</td>\n",
       "      <td>3000.0</td>\n",
       "      <td>11</td>\n",
       "      <td>cascade</td>\n",
       "    </tr>\n",
       "    <tr>\n",
       "      <th>1</th>\n",
       "      <td>0.183750</td>\n",
       "      <td>0.0</td>\n",
       "      <td>0.982973</td>\n",
       "      <td>1</td>\n",
       "      <td>0.0</td>\n",
       "      <td>-5.0</td>\n",
       "      <td>0.0</td>\n",
       "      <td>0.0</td>\n",
       "      <td>10000.0</td>\n",
       "      <td>3000.0</td>\n",
       "      <td>11</td>\n",
       "      <td>cascade</td>\n",
       "    </tr>\n",
       "    <tr>\n",
       "      <th>2</th>\n",
       "      <td>0.361242</td>\n",
       "      <td>0.0</td>\n",
       "      <td>0.932472</td>\n",
       "      <td>2</td>\n",
       "      <td>0.0</td>\n",
       "      <td>-5.0</td>\n",
       "      <td>0.0</td>\n",
       "      <td>0.0</td>\n",
       "      <td>10000.0</td>\n",
       "      <td>3000.0</td>\n",
       "      <td>11</td>\n",
       "      <td>cascade</td>\n",
       "    </tr>\n",
       "    <tr>\n",
       "      <th>3</th>\n",
       "      <td>0.526432</td>\n",
       "      <td>0.0</td>\n",
       "      <td>0.850217</td>\n",
       "      <td>3</td>\n",
       "      <td>0.0</td>\n",
       "      <td>-5.0</td>\n",
       "      <td>0.0</td>\n",
       "      <td>0.0</td>\n",
       "      <td>10000.0</td>\n",
       "      <td>3000.0</td>\n",
       "      <td>11</td>\n",
       "      <td>cascade</td>\n",
       "    </tr>\n",
       "    <tr>\n",
       "      <th>4</th>\n",
       "      <td>0.673696</td>\n",
       "      <td>0.0</td>\n",
       "      <td>0.739009</td>\n",
       "      <td>4</td>\n",
       "      <td>0.0</td>\n",
       "      <td>-5.0</td>\n",
       "      <td>0.0</td>\n",
       "      <td>0.0</td>\n",
       "      <td>10000.0</td>\n",
       "      <td>3000.0</td>\n",
       "      <td>11</td>\n",
       "      <td>cascade</td>\n",
       "    </tr>\n",
       "  </tbody>\n",
       "</table>\n",
       "</div>"
      ],
      "text/plain": [
       "   orientation_x  orientation_y  orientation_z  record_id  time  location_x  \\\n",
       "0       0.000000            0.0       1.000000          0   0.0        -5.0   \n",
       "1       0.183750            0.0       0.982973          1   0.0        -5.0   \n",
       "2       0.361242            0.0       0.932472          2   0.0        -5.0   \n",
       "3       0.526432            0.0       0.850217          3   0.0        -5.0   \n",
       "4       0.673696            0.0       0.739009          4   0.0        -5.0   \n",
       "\n",
       "   location_y  location_z   energy  length  particle_id     type  \n",
       "0         0.0         0.0  10000.0  3000.0           11  cascade  \n",
       "1         0.0         0.0  10000.0  3000.0           11  cascade  \n",
       "2         0.0         0.0  10000.0  3000.0           11  cascade  \n",
       "3         0.0         0.0  10000.0  3000.0           11  cascade  \n",
       "4         0.0         0.0  10000.0  3000.0           11  cascade  "
      ]
     },
     "execution_count": 9,
     "metadata": {},
     "output_type": "execute_result"
    }
   ],
   "source": [
    "spherical_orientations = np.zeros((number_of_angles, 3))\n",
    "\n",
    "spherical_orientations[:, 0] = 1\n",
    "source_angle_range = np.linspace(0, np.pi, number_of_angles)\n",
    "spherical_orientations[:, 2] = source_angle_range\n",
    "spherical_orientations_df = pd.DataFrame(spherical_orientations, columns=('norm', 'phi', 'theta'))\n",
    "cartesian_orientations = Vectors3D.from_spherical(spherical_orientations_df)\n",
    "\n",
    "events_df = cartesian_orientations.get_df_with_prefix('orientation_')\n",
    "events_df['record_id'] = range(number_of_angles)\n",
    "events_df['time'] = 0.0\n",
    "events_df['location_x'] = -5.0\n",
    "events_df['location_y'] = 0.0\n",
    "events_df['location_z'] = 0.0\n",
    "\n",
    "sources_df = events_df.copy()\n",
    "\n",
    "events_df['energy'] = 10000\n",
    "events_df['length'] = 3000\n",
    "events_df['particle_id'] = 11\n",
    "events_df['type'] = 'cascade'\n",
    "\n",
    "sources_df['type'] = 'cherenkov'\n",
    "sources_df['number_of_photons'] = 100000\n",
    "\n",
    "event_records = EventRecords(df=events_df)\n",
    "sources = Sources(df=sources_df)\n",
    "\n",
    "event_records.df.head()"
   ]
  },
  {
   "cell_type": "code",
   "execution_count": 10,
   "metadata": {
    "pycharm": {
     "name": "#%%\n"
    }
   },
   "outputs": [
    {
     "data": {
      "text/html": [
       "<div>\n",
       "<style scoped>\n",
       "    .dataframe tbody tr th:only-of-type {\n",
       "        vertical-align: middle;\n",
       "    }\n",
       "\n",
       "    .dataframe tbody tr th {\n",
       "        vertical-align: top;\n",
       "    }\n",
       "\n",
       "    .dataframe thead th {\n",
       "        text-align: right;\n",
       "    }\n",
       "</style>\n",
       "<table border=\"1\" class=\"dataframe\">\n",
       "  <thead>\n",
       "    <tr style=\"text-align: right;\">\n",
       "      <th></th>\n",
       "      <th>orientation_x</th>\n",
       "      <th>orientation_y</th>\n",
       "      <th>orientation_z</th>\n",
       "      <th>record_id</th>\n",
       "      <th>time</th>\n",
       "      <th>location_x</th>\n",
       "      <th>location_y</th>\n",
       "      <th>location_z</th>\n",
       "      <th>type</th>\n",
       "      <th>number_of_photons</th>\n",
       "    </tr>\n",
       "  </thead>\n",
       "  <tbody>\n",
       "    <tr>\n",
       "      <th>0</th>\n",
       "      <td>0.000000</td>\n",
       "      <td>0.0</td>\n",
       "      <td>1.000000</td>\n",
       "      <td>0</td>\n",
       "      <td>0.0</td>\n",
       "      <td>-5.0</td>\n",
       "      <td>0.0</td>\n",
       "      <td>0.0</td>\n",
       "      <td>cherenkov</td>\n",
       "      <td>100000</td>\n",
       "    </tr>\n",
       "    <tr>\n",
       "      <th>1</th>\n",
       "      <td>0.183750</td>\n",
       "      <td>0.0</td>\n",
       "      <td>0.982973</td>\n",
       "      <td>1</td>\n",
       "      <td>0.0</td>\n",
       "      <td>-5.0</td>\n",
       "      <td>0.0</td>\n",
       "      <td>0.0</td>\n",
       "      <td>cherenkov</td>\n",
       "      <td>100000</td>\n",
       "    </tr>\n",
       "    <tr>\n",
       "      <th>2</th>\n",
       "      <td>0.361242</td>\n",
       "      <td>0.0</td>\n",
       "      <td>0.932472</td>\n",
       "      <td>2</td>\n",
       "      <td>0.0</td>\n",
       "      <td>-5.0</td>\n",
       "      <td>0.0</td>\n",
       "      <td>0.0</td>\n",
       "      <td>cherenkov</td>\n",
       "      <td>100000</td>\n",
       "    </tr>\n",
       "    <tr>\n",
       "      <th>3</th>\n",
       "      <td>0.526432</td>\n",
       "      <td>0.0</td>\n",
       "      <td>0.850217</td>\n",
       "      <td>3</td>\n",
       "      <td>0.0</td>\n",
       "      <td>-5.0</td>\n",
       "      <td>0.0</td>\n",
       "      <td>0.0</td>\n",
       "      <td>cherenkov</td>\n",
       "      <td>100000</td>\n",
       "    </tr>\n",
       "    <tr>\n",
       "      <th>4</th>\n",
       "      <td>0.673696</td>\n",
       "      <td>0.0</td>\n",
       "      <td>0.739009</td>\n",
       "      <td>4</td>\n",
       "      <td>0.0</td>\n",
       "      <td>-5.0</td>\n",
       "      <td>0.0</td>\n",
       "      <td>0.0</td>\n",
       "      <td>cherenkov</td>\n",
       "      <td>100000</td>\n",
       "    </tr>\n",
       "  </tbody>\n",
       "</table>\n",
       "</div>"
      ],
      "text/plain": [
       "   orientation_x  orientation_y  orientation_z  record_id  time  location_x  \\\n",
       "0       0.000000            0.0       1.000000          0   0.0        -5.0   \n",
       "1       0.183750            0.0       0.982973          1   0.0        -5.0   \n",
       "2       0.361242            0.0       0.932472          2   0.0        -5.0   \n",
       "3       0.526432            0.0       0.850217          3   0.0        -5.0   \n",
       "4       0.673696            0.0       0.739009          4   0.0        -5.0   \n",
       "\n",
       "   location_y  location_z       type  number_of_photons  \n",
       "0         0.0         0.0  cherenkov             100000  \n",
       "1         0.0         0.0  cherenkov             100000  \n",
       "2         0.0         0.0  cherenkov             100000  \n",
       "3         0.0         0.0  cherenkov             100000  \n",
       "4         0.0         0.0  cherenkov             100000  "
      ]
     },
     "execution_count": 10,
     "metadata": {},
     "output_type": "execute_result"
    }
   ],
   "source": [
    "sources.df.head()"
   ]
  },
  {
   "cell_type": "markdown",
   "metadata": {
    "pycharm": {
     "name": "#%% md\n"
    }
   },
   "source": [
    "## Let's propagate\n",
    "\n",
    "Now we have the detector, the events and the sources. Time to propagate:"
   ]
  },
  {
   "cell_type": "code",
   "execution_count": 11,
   "metadata": {
    "pycharm": {
     "name": "#%%\n"
    }
   },
   "outputs": [],
   "source": [
    "medium = Medium(MediumEstimationVariant.PONE_OPTIMISTIC)\n",
    "\n",
    "photon_propagator = MockPhotonPropagator(\n",
    "    detector=detector,\n",
    "    medium=medium,\n",
    "    angle_resolution=18000,\n",
    ")\n",
    "\n",
    "hits, photon_counts = photon_propagator.propagate(event_records, sources, return_photon_counts=True)"
   ]
  },
  {
   "cell_type": "code",
   "execution_count": 12,
   "metadata": {
    "pycharm": {
     "name": "#%%\n"
    }
   },
   "outputs": [
    {
     "data": {
      "text/plain": [
       "7746468"
      ]
     },
     "execution_count": 12,
     "metadata": {},
     "output_type": "execute_result"
    }
   ],
   "source": [
    "hits.df.loc[hits.df['record_id'] ==0.0]['time']\n",
    "len(hits.df)"
   ]
  },
  {
   "cell_type": "markdown",
   "metadata": {},
   "source": [
    "Faszinating. Look how many hits we generated. More interestingly, we can now evaluate the properties of the mock photon propatation.\n",
    "\n",
    "## Evaluation of the Mock Photon Propagation\n",
    "\n",
    "We want to evaluate the following cases\n",
    "\n",
    "1. What happens when the PMT rotates along the cherenkov axis?\n",
    "2. What happens when the PMT rotates perpendicular to the cherenkov axis?\n",
    "3. What happens when the PMT rotates along both axis at an 45° angle?\n",
    "4. What happens when the PMT moves further away from the source?\n",
    "5. What happens when the source direction roates along the cherenkov axis?\n",
    "\n",
    "First we will define a helper function to draw beautiful graphs. For the first three points we let the source be shining along the x axis only"
   ]
  },
  {
   "cell_type": "code",
   "execution_count": 13,
   "metadata": {},
   "outputs": [],
   "source": [
    "def plot(x, y, title, x_label, show=True):\n",
    "    fig, ax = plt.subplots()\n",
    "    ax.plot(x, y)\n",
    "    ax.set_xlabel(x_label)\n",
    "    ax.set_ylabel('Photon Count')\n",
    "    ax.set_title(title)\n",
    "    if show:\n",
    "        plt.show()\n",
    "    "
   ]
  },
  {
   "cell_type": "markdown",
   "metadata": {},
   "source": [
    "### What happens when the PMT rotates along the cherenkov axis?\n",
    "\n",
    "In this case the angle between the PMT and the source changes from the PMT taking the same direction as the Source to facing the source directly and continuing on that plane until the PMT faces the opposite direction."
   ]
  },
  {
   "cell_type": "code",
   "execution_count": 14,
   "metadata": {},
   "outputs": [
    {
     "data": {
      "image/png": "[encoded data removed]",
      "text/plain": [
       "<Figure size 432x288 with 1 Axes>"
      ]
     },
     "metadata": {
      "needs_background": "light"
     },
     "output_type": "display_data"
    }
   ],
   "source": [
    "plot(module_1_angle_range * 180 / np.pi, photon_counts[:number_of_angles,0], 'Behaviour for PMT rotation along cherenkov axis', 'PMT Angles [°]')"
   ]
  },
  {
   "cell_type": "markdown",
   "metadata": {},
   "source": [
    "### What happens when the PMT rotates perpendicular to the cherenkov axis?\n",
    "\n",
    "Next up we check the same thing. Only that the the PMT is now facing the source directly at the beginning and moves with an angle on the plane having the source orientation as its normal vector."
   ]
  },
  {
   "cell_type": "code",
   "execution_count": 15,
   "metadata": {},
   "outputs": [
    {
     "data": {
      "image/png": "[encoded data removed]",
      "text/plain": [
       "<Figure size 432x288 with 1 Axes>"
      ]
     },
     "metadata": {
      "needs_background": "light"
     },
     "output_type": "display_data"
    }
   ],
   "source": [
    "plot(module_2_angle_range * 180 / np.pi, photon_counts[number_of_angles:2*number_of_angles,0], 'Behaviour for PMT rotation perpendicular to cherenkov axis', 'PMT Angles [°]')"
   ]
  },
  {
   "cell_type": "markdown",
   "metadata": {},
   "source": [
    "### What happens when the PMT rotates along both axis at an 45° angle?\n",
    "\n",
    "This time, we combine the previous two methods having the PMT at an angle of 45° towards the plane having the orientation of the source as a normal.\n"
   ]
  },
  {
   "cell_type": "code",
   "execution_count": 16,
   "metadata": {},
   "outputs": [
    {
     "data": {
      "image/png": "[encoded data removed]",
      "text/plain": [
       "<Figure size 432x288 with 1 Axes>"
      ]
     },
     "metadata": {
      "needs_background": "light"
     },
     "output_type": "display_data"
    }
   ],
   "source": [
    "plot(module_3_angle_range * 180 / np.pi, photon_counts[2*number_of_angles:3*number_of_angles,0], 'Behaviour for PMT rotation at 45°', 'PMT Angles [°]')"
   ]
  },
  {
   "cell_type": "markdown",
   "metadata": {},
   "source": [
    "### What happens if the source moves further away?\n",
    "\n",
    "This time the PMT faces the source directly and moves away slowly."
   ]
  },
  {
   "cell_type": "code",
   "execution_count": 17,
   "metadata": {},
   "outputs": [
    {
     "data": {
      "image/png": "[encoded data removed]",
      "text/plain": [
       "<Figure size 432x288 with 1 Axes>"
      ]
     },
     "metadata": {
      "needs_background": "light"
     },
     "output_type": "display_data"
    }
   ],
   "source": [
    "plot(module_4_range, photon_counts[3*number_of_angles:3*number_of_angles+number_of_steps,0], 'Behaviour for PMT moving away from the source', 'PMT Distance [m]')"
   ]
  },
  {
   "cell_type": "markdown",
   "metadata": {},
   "source": [
    "### What happens if the Source rotates towards PMT?\n",
    "\n",
    "Now we take the closest PMT of the last experiment with the PMT distance and evaluate what happens when the source first goes perpendicular to the PMT and then rotates until it faces it and back until 360° are reached"
   ]
  },
  {
   "cell_type": "code",
   "execution_count": 18,
   "metadata": {},
   "outputs": [
    {
     "data": {
      "image/png": "[encoded data removed]",
      "text/plain": [
       "<Figure size 432x288 with 1 Axes>"
      ]
     },
     "metadata": {
      "needs_background": "light"
     },
     "output_type": "display_data"
    }
   ],
   "source": [
    "plot(source_angle_range * 180 / np.pi, photon_counts[3*number_of_angles,:], 'Source rotating in comparison to PMT', 'PMT Distance [m]')"
   ]
  }
 ],
 "metadata": {
  "kernelspec": {
   "display_name": "Python 3 (ipykernel)",
   "language": "python",
   "name": "python3"
  },
  "language_info": {
   "codemirror_mode": {
    "name": "ipython",
    "version": 3
   },
   "file_extension": ".py",
   "mimetype": "text/x-python",
   "name": "python",
   "nbconvert_exporter": "python",
   "pygments_lexer": "ipython3",
   "version": "3.8.10"
  }
 },
 "nbformat": 4,
 "nbformat_minor": 1
}