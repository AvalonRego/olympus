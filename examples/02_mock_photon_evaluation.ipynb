{
 "cells": [
  {
   "cell_type": "markdown",
   "metadata": {
    "collapsed": true
   },
   "source": [
    "# Mock Photon Propagation - Evaluation\n",
    "\n",
    "This notebook should give us an overview of the geometric properties of the mock photon propagation. With this we want to evaluate rightful behaviour. To do that we will leave the Olympus way of doing things with event generators and the detector builder. Instead, we will \"Mock\" our detector to accompany our specific needs!\n",
    "\n",
    "## Let us import everything first"
   ]
  },
  {
   "cell_type": "code",
   "execution_count": 1,
   "outputs": [
    {
     "name": "stderr",
     "output_type": "stream",
     "text": [
      "WARNING:absl:No GPU/TPU found, falling back to CPU. (Set TF_CPP_MIN_LOG_LEVEL=0 and rerun for more info.)\n",
      "/home/janik/projects/master/env/lib/python3.8/site-packages/jax/_src/api_util.py:222: SyntaxWarning: Jitted function has invalid argnames {'interactions'} in static_argnames. Function does not take these args.This warning will be replaced by an error after 2022-08-20 at the earliest.\n",
      "  warnings.warn(f\"Jitted function has invalid argnames {invalid_argnames} \"\n"
     ]
    }
   ],
   "source": [
    "import numpy as np\n",
    "import pandas as pd\n",
    "\n",
    "from ananke.configurations.detector import DetectorConfiguration\n",
    "from ananke.models.detector import Detector\n",
    "from ananke.models.geometry import Vectors3D\n",
    "from ananke.models.event import EventRecords, Sources\n",
    "from ananke.schemas.detector import DetectorSchema\n",
    "from olympus.event_generation.generators import GeneratorCollection, GeneratorFactory\n",
    "from olympus.event_generation.medium import MediumEstimationVariant, Medium\n",
    "from olympus.event_generation.photon_propagation.mock_photons import MockPhotonPropagator"
   ],
   "metadata": {
    "collapsed": false
   }
  },
  {
   "cell_type": "markdown",
   "metadata": {},
   "source": [
    "## Build Mock Detector\n",
    "\n",
    "To evaluate the mock photon propagation, we want to build a mock detector. This detector will contain different modules with specific pmt locations and distances. Specifically, we will look at following modules:\n",
    "\n",
    "* PMT To Cherenkov orientation: Rotate the PMT along the direction of the source (0 / 180)\n",
    "* PMT To Source rotation: Precession of PMTs against pmt to source direction\n",
    "* PMT Distances: PMTs at specific distances\n",
    "\n",
    "To see how we can construct our own detector we can have a look at the Detector DataFrame Schema."
   ]
  },
  {
   "cell_type": "code",
   "execution_count": 2,
   "metadata": {},
   "outputs": [
    {
     "name": "stdout",
     "output_type": "stream",
     "text": [
      "<Schema DataFrameSchema(\n",
      "    columns={\n",
      "        'pmt_id': <Schema Column(name=pmt_id, type=DataType(int64))>\n",
      "        'pmt_efficiency': <Schema Column(name=pmt_efficiency, type=DataType(float64))>\n",
      "        'pmt_area': <Schema Column(name=pmt_area, type=DataType(float64))>\n",
      "        'pmt_noise_rate': <Schema Column(name=pmt_noise_rate, type=DataType(float64))>\n",
      "        'pmt_location_x': <Schema Column(name=pmt_location_x, type=DataType(float64))>\n",
      "        'pmt_location_y': <Schema Column(name=pmt_location_y, type=DataType(float64))>\n",
      "        'pmt_location_z': <Schema Column(name=pmt_location_z, type=DataType(float64))>\n",
      "        'pmt_orientation_x': <Schema Column(name=pmt_orientation_x, type=DataType(float64))>\n",
      "        'pmt_orientation_y': <Schema Column(name=pmt_orientation_y, type=DataType(float64))>\n",
      "        'pmt_orientation_z': <Schema Column(name=pmt_orientation_z, type=DataType(float64))>\n",
      "        'module_id': <Schema Column(name=module_id, type=DataType(int64))>\n",
      "        'module_radius': <Schema Column(name=module_radius, type=DataType(float64))>\n",
      "        'module_location_x': <Schema Column(name=module_location_x, type=DataType(float64))>\n",
      "        'module_location_y': <Schema Column(name=module_location_y, type=DataType(float64))>\n",
      "        'module_location_z': <Schema Column(name=module_location_z, type=DataType(float64))>\n",
      "        'string_id': <Schema Column(name=string_id, type=DataType(int64))>\n",
      "        'string_location_x': <Schema Column(name=string_location_x, type=DataType(float64))>\n",
      "        'string_location_y': <Schema Column(name=string_location_y, type=DataType(float64))>\n",
      "        'string_location_z': <Schema Column(name=string_location_z, type=DataType(float64))>\n",
      "    },\n",
      "    checks=[],\n",
      "    coerce=False,\n",
      "    dtype=None,\n",
      "    index=None,\n",
      "    strict=False\n",
      "    name=DetectorSchema,\n",
      "    ordered=False,\n",
      "    unique_column_names=False\n",
      ")>\n"
     ]
    }
   ],
   "source": [
    "print(DetectorSchema.to_schema())"
   ]
  },
  {
   "cell_type": "markdown",
   "metadata": {},
   "source": [
    "First, let's define some constants for the detector:"
   ]
  },
  {
   "cell_type": "code",
   "execution_count": 3,
   "metadata": {},
   "outputs": [],
   "source": [
    "dark_noise_rate = 16 * 1e-5  # 1/ns\n",
    "pmt_cath_area_r = 75e-3 / 2  # m\n",
    "module_radius = 0.21  # m\n",
    "efficiency = 0.42 # Christian S. Number"
   ]
  },
  {
   "cell_type": "markdown",
   "metadata": {},
   "source": [
    "Okay let's get startet with the module for the cherenkov. For that we will assume that the source is heading along the z-axis. and is positioned on the x-axis. Hence, we will rotate one PMT along the xz-plane starting with the direction of the z-axis."
   ]
  },
  {
   "cell_type": "code",
   "execution_count": 4,
   "metadata": {},
   "outputs": [
    {
     "data": {
      "text/plain": "   pmt_orientation_x  pmt_orientation_y  pmt_orientation_z  pmt_id  \\\n0           0.000000                0.0           1.000000       0   \n1          -0.183750               -0.0           0.982973       1   \n2          -0.361242               -0.0           0.932472       2   \n3          -0.526432               -0.0           0.850217       3   \n4          -0.673696               -0.0           0.739009       4   \n\n   pmt_efficiency  pmt_area  pmt_noise_rate  pmt_location_x  pmt_location_y  \\\n0            0.42    0.0375         0.00016             0.0             0.0   \n1            0.42    0.0375         0.00016             0.0             0.0   \n2            0.42    0.0375         0.00016             0.0             0.0   \n3            0.42    0.0375         0.00016             0.0             0.0   \n4            0.42    0.0375         0.00016             0.0             0.0   \n\n   pmt_location_z  module_id  module_radius  module_location_x  \\\n0             0.0          0           0.21                0.0   \n1             0.0          0           0.21                0.0   \n2             0.0          0           0.21                0.0   \n3             0.0          0           0.21                0.0   \n4             0.0          0           0.21                0.0   \n\n   module_location_y  module_location_z  string_id  string_location_x  \\\n0                0.0                0.0          0                0.0   \n1                0.0                0.0          0                0.0   \n2                0.0                0.0          0                0.0   \n3                0.0                0.0          0                0.0   \n4                0.0                0.0          0                0.0   \n\n   string_location_y  string_location_z  \n0                0.0                0.0  \n1                0.0                0.0  \n2                0.0                0.0  \n3                0.0                0.0  \n4                0.0                0.0  ",
      "text/html": "<div>\n<style scoped>\n    .dataframe tbody tr th:only-of-type {\n        vertical-align: middle;\n    }\n\n    .dataframe tbody tr th {\n        vertical-align: top;\n    }\n\n    .dataframe thead th {\n        text-align: right;\n    }\n</style>\n<table border=\"1\" class=\"dataframe\">\n  <thead>\n    <tr style=\"text-align: right;\">\n      <th></th>\n      <th>pmt_orientation_x</th>\n      <th>pmt_orientation_y</th>\n      <th>pmt_orientation_z</th>\n      <th>pmt_id</th>\n      <th>pmt_efficiency</th>\n      <th>pmt_area</th>\n      <th>pmt_noise_rate</th>\n      <th>pmt_location_x</th>\n      <th>pmt_location_y</th>\n      <th>pmt_location_z</th>\n      <th>module_id</th>\n      <th>module_radius</th>\n      <th>module_location_x</th>\n      <th>module_location_y</th>\n      <th>module_location_z</th>\n      <th>string_id</th>\n      <th>string_location_x</th>\n      <th>string_location_y</th>\n      <th>string_location_z</th>\n    </tr>\n  </thead>\n  <tbody>\n    <tr>\n      <th>0</th>\n      <td>0.000000</td>\n      <td>0.0</td>\n      <td>1.000000</td>\n      <td>0</td>\n      <td>0.42</td>\n      <td>0.0375</td>\n      <td>0.00016</td>\n      <td>0.0</td>\n      <td>0.0</td>\n      <td>0.0</td>\n      <td>0</td>\n      <td>0.21</td>\n      <td>0.0</td>\n      <td>0.0</td>\n      <td>0.0</td>\n      <td>0</td>\n      <td>0.0</td>\n      <td>0.0</td>\n      <td>0.0</td>\n    </tr>\n    <tr>\n      <th>1</th>\n      <td>-0.183750</td>\n      <td>-0.0</td>\n      <td>0.982973</td>\n      <td>1</td>\n      <td>0.42</td>\n      <td>0.0375</td>\n      <td>0.00016</td>\n      <td>0.0</td>\n      <td>0.0</td>\n      <td>0.0</td>\n      <td>0</td>\n      <td>0.21</td>\n      <td>0.0</td>\n      <td>0.0</td>\n      <td>0.0</td>\n      <td>0</td>\n      <td>0.0</td>\n      <td>0.0</td>\n      <td>0.0</td>\n    </tr>\n    <tr>\n      <th>2</th>\n      <td>-0.361242</td>\n      <td>-0.0</td>\n      <td>0.932472</td>\n      <td>2</td>\n      <td>0.42</td>\n      <td>0.0375</td>\n      <td>0.00016</td>\n      <td>0.0</td>\n      <td>0.0</td>\n      <td>0.0</td>\n      <td>0</td>\n      <td>0.21</td>\n      <td>0.0</td>\n      <td>0.0</td>\n      <td>0.0</td>\n      <td>0</td>\n      <td>0.0</td>\n      <td>0.0</td>\n      <td>0.0</td>\n    </tr>\n    <tr>\n      <th>3</th>\n      <td>-0.526432</td>\n      <td>-0.0</td>\n      <td>0.850217</td>\n      <td>3</td>\n      <td>0.42</td>\n      <td>0.0375</td>\n      <td>0.00016</td>\n      <td>0.0</td>\n      <td>0.0</td>\n      <td>0.0</td>\n      <td>0</td>\n      <td>0.21</td>\n      <td>0.0</td>\n      <td>0.0</td>\n      <td>0.0</td>\n      <td>0</td>\n      <td>0.0</td>\n      <td>0.0</td>\n      <td>0.0</td>\n    </tr>\n    <tr>\n      <th>4</th>\n      <td>-0.673696</td>\n      <td>-0.0</td>\n      <td>0.739009</td>\n      <td>4</td>\n      <td>0.42</td>\n      <td>0.0375</td>\n      <td>0.00016</td>\n      <td>0.0</td>\n      <td>0.0</td>\n      <td>0.0</td>\n      <td>0</td>\n      <td>0.21</td>\n      <td>0.0</td>\n      <td>0.0</td>\n      <td>0.0</td>\n      <td>0</td>\n      <td>0.0</td>\n      <td>0.0</td>\n      <td>0.0</td>\n    </tr>\n  </tbody>\n</table>\n</div>"
     },
     "execution_count": 4,
     "metadata": {},
     "output_type": "execute_result"
    }
   ],
   "source": [
    "number_of_steps = 18\n",
    "spherical_orientations = np.zeros((number_of_steps, 3))\n",
    "\n",
    "spherical_orientations[:, 0] = 1\n",
    "angle_range = np.linspace(0, -1* np.pi, number_of_steps)\n",
    "spherical_orientations[:, 2] = angle_range\n",
    "spherical_orientations_df = pd.DataFrame(spherical_orientations, columns=('norm', 'phi', 'theta'))\n",
    "cartesian_orientations = Vectors3D.from_spherical(spherical_orientations_df)\n",
    "\n",
    "module_1_df = cartesian_orientations.get_df_with_prefix('pmt_orientation_')\n",
    "module_1_df['pmt_id'] = range(number_of_steps)\n",
    "module_1_df['pmt_efficiency'] = efficiency\n",
    "module_1_df['pmt_area'] = pmt_cath_area_r\n",
    "module_1_df['pmt_noise_rate'] = dark_noise_rate\n",
    "module_1_df['pmt_location_x'] = 0.0\n",
    "module_1_df['pmt_location_y'] = 0.0\n",
    "module_1_df['pmt_location_z'] = 0.0\n",
    "module_1_df['module_id'] = 0\n",
    "module_1_df['module_radius'] = module_radius\n",
    "module_1_df['module_location_x'] = 0.0\n",
    "module_1_df['module_location_y'] = 0.0\n",
    "module_1_df['module_location_z'] = 0.0\n",
    "module_1_df['string_id'] = 0\n",
    "module_1_df['string_location_x'] = 0.0\n",
    "module_1_df['string_location_y'] = 0.0\n",
    "module_1_df['string_location_z'] = 0.0\n",
    "\n",
    "module_1_detector = Detector(df=module_1_df)\n",
    "module_1_detector.df.head()"
   ]
  },
  {
   "cell_type": "markdown",
   "metadata": {},
   "source": [
    "Now let's define the precession pmt. We start with the PMT directly facing the source and rotate it around the xy-plane"
   ]
  },
  {
   "cell_type": "code",
   "execution_count": 5,
   "metadata": {},
   "outputs": [
    {
     "data": {
      "text/plain": "   pmt_orientation_x  pmt_orientation_y  pmt_orientation_z  pmt_id  \\\n0           1.000000           0.000000       6.123234e-17       0   \n1           0.983930           0.178557       6.123234e-17       1   \n2           0.936235           0.351375       6.123234e-17       2   \n3           0.858449           0.512899       6.123234e-17       3   \n4           0.753071           0.657939       6.123234e-17       4   \n\n   pmt_efficiency  pmt_area  pmt_noise_rate  pmt_location_x  pmt_location_y  \\\n0            0.42    0.0375         0.00016             0.0             0.0   \n1            0.42    0.0375         0.00016             0.0             0.0   \n2            0.42    0.0375         0.00016             0.0             0.0   \n3            0.42    0.0375         0.00016             0.0             0.0   \n4            0.42    0.0375         0.00016             0.0             0.0   \n\n   pmt_location_z  module_id  module_radius  module_location_x  \\\n0             0.0          1           0.21                0.0   \n1             0.0          1           0.21                0.0   \n2             0.0          1           0.21                0.0   \n3             0.0          1           0.21                0.0   \n4             0.0          1           0.21                0.0   \n\n   module_location_y  module_location_z  string_id  string_location_x  \\\n0                0.0                0.0          0                0.0   \n1                0.0                0.0          0                0.0   \n2                0.0                0.0          0                0.0   \n3                0.0                0.0          0                0.0   \n4                0.0                0.0          0                0.0   \n\n   string_location_y  string_location_z  \n0                0.0                0.0  \n1                0.0                0.0  \n2                0.0                0.0  \n3                0.0                0.0  \n4                0.0                0.0  ",
      "text/html": "<div>\n<style scoped>\n    .dataframe tbody tr th:only-of-type {\n        vertical-align: middle;\n    }\n\n    .dataframe tbody tr th {\n        vertical-align: top;\n    }\n\n    .dataframe thead th {\n        text-align: right;\n    }\n</style>\n<table border=\"1\" class=\"dataframe\">\n  <thead>\n    <tr style=\"text-align: right;\">\n      <th></th>\n      <th>pmt_orientation_x</th>\n      <th>pmt_orientation_y</th>\n      <th>pmt_orientation_z</th>\n      <th>pmt_id</th>\n      <th>pmt_efficiency</th>\n      <th>pmt_area</th>\n      <th>pmt_noise_rate</th>\n      <th>pmt_location_x</th>\n      <th>pmt_location_y</th>\n      <th>pmt_location_z</th>\n      <th>module_id</th>\n      <th>module_radius</th>\n      <th>module_location_x</th>\n      <th>module_location_y</th>\n      <th>module_location_z</th>\n      <th>string_id</th>\n      <th>string_location_x</th>\n      <th>string_location_y</th>\n      <th>string_location_z</th>\n    </tr>\n  </thead>\n  <tbody>\n    <tr>\n      <th>0</th>\n      <td>1.000000</td>\n      <td>0.000000</td>\n      <td>6.123234e-17</td>\n      <td>0</td>\n      <td>0.42</td>\n      <td>0.0375</td>\n      <td>0.00016</td>\n      <td>0.0</td>\n      <td>0.0</td>\n      <td>0.0</td>\n      <td>1</td>\n      <td>0.21</td>\n      <td>0.0</td>\n      <td>0.0</td>\n      <td>0.0</td>\n      <td>0</td>\n      <td>0.0</td>\n      <td>0.0</td>\n      <td>0.0</td>\n    </tr>\n    <tr>\n      <th>1</th>\n      <td>0.983930</td>\n      <td>0.178557</td>\n      <td>6.123234e-17</td>\n      <td>1</td>\n      <td>0.42</td>\n      <td>0.0375</td>\n      <td>0.00016</td>\n      <td>0.0</td>\n      <td>0.0</td>\n      <td>0.0</td>\n      <td>1</td>\n      <td>0.21</td>\n      <td>0.0</td>\n      <td>0.0</td>\n      <td>0.0</td>\n      <td>0</td>\n      <td>0.0</td>\n      <td>0.0</td>\n      <td>0.0</td>\n    </tr>\n    <tr>\n      <th>2</th>\n      <td>0.936235</td>\n      <td>0.351375</td>\n      <td>6.123234e-17</td>\n      <td>2</td>\n      <td>0.42</td>\n      <td>0.0375</td>\n      <td>0.00016</td>\n      <td>0.0</td>\n      <td>0.0</td>\n      <td>0.0</td>\n      <td>1</td>\n      <td>0.21</td>\n      <td>0.0</td>\n      <td>0.0</td>\n      <td>0.0</td>\n      <td>0</td>\n      <td>0.0</td>\n      <td>0.0</td>\n      <td>0.0</td>\n    </tr>\n    <tr>\n      <th>3</th>\n      <td>0.858449</td>\n      <td>0.512899</td>\n      <td>6.123234e-17</td>\n      <td>3</td>\n      <td>0.42</td>\n      <td>0.0375</td>\n      <td>0.00016</td>\n      <td>0.0</td>\n      <td>0.0</td>\n      <td>0.0</td>\n      <td>1</td>\n      <td>0.21</td>\n      <td>0.0</td>\n      <td>0.0</td>\n      <td>0.0</td>\n      <td>0</td>\n      <td>0.0</td>\n      <td>0.0</td>\n      <td>0.0</td>\n    </tr>\n    <tr>\n      <th>4</th>\n      <td>0.753071</td>\n      <td>0.657939</td>\n      <td>6.123234e-17</td>\n      <td>4</td>\n      <td>0.42</td>\n      <td>0.0375</td>\n      <td>0.00016</td>\n      <td>0.0</td>\n      <td>0.0</td>\n      <td>0.0</td>\n      <td>1</td>\n      <td>0.21</td>\n      <td>0.0</td>\n      <td>0.0</td>\n      <td>0.0</td>\n      <td>0</td>\n      <td>0.0</td>\n      <td>0.0</td>\n      <td>0.0</td>\n    </tr>\n  </tbody>\n</table>\n</div>"
     },
     "execution_count": 5,
     "metadata": {},
     "output_type": "execute_result"
    }
   ],
   "source": [
    "number_of_steps = 36\n",
    "spherical_orientations = np.zeros((number_of_steps, 3))\n",
    "\n",
    "spherical_orientations[:, 0] = 1\n",
    "angle_range = np.linspace(0, 2*np.pi, number_of_steps)\n",
    "spherical_orientations[:, 1] = angle_range\n",
    "spherical_orientations[:, 2] = np.pi / 2\n",
    "spherical_orientations_df = pd.DataFrame(spherical_orientations, columns=('norm', 'phi', 'theta'))\n",
    "cartesian_orientations = Vectors3D.from_spherical(spherical_orientations_df)\n",
    "\n",
    "module_2_df = cartesian_orientations.get_df_with_prefix('pmt_orientation_')\n",
    "module_2_df['pmt_id'] = range(number_of_steps)\n",
    "module_2_df['pmt_efficiency'] = efficiency\n",
    "module_2_df['pmt_area'] = pmt_cath_area_r\n",
    "module_2_df['pmt_noise_rate'] = dark_noise_rate\n",
    "module_2_df['pmt_location_x'] = 0.0\n",
    "module_2_df['pmt_location_y'] = 0.0\n",
    "module_2_df['pmt_location_z'] = 0.0\n",
    "module_2_df['module_id'] = 1\n",
    "module_2_df['module_radius'] = module_radius\n",
    "module_2_df['module_location_x'] = 0.0\n",
    "module_2_df['module_location_y'] = 0.0\n",
    "module_2_df['module_location_z'] = 0.0\n",
    "module_2_df['string_id'] = 0\n",
    "module_2_df['string_location_x'] = 0.0\n",
    "module_2_df['string_location_y'] = 0.0\n",
    "module_2_df['string_location_z'] = 0.0\n",
    "\n",
    "module_2_detector = Detector(df=module_2_df)\n",
    "module_2_detector.df.head()"
   ]
  },
  {
   "cell_type": "markdown",
   "metadata": {},
   "source": [
    "Now, let's mix the previous cases. We start with a theta of 45° and rotate phi 360°"
   ]
  },
  {
   "cell_type": "code",
   "execution_count": 6,
   "metadata": {},
   "outputs": [
    {
     "data": {
      "text/plain": "   pmt_orientation_x  pmt_orientation_y  pmt_orientation_z  pmt_id  \\\n0           0.707107           0.000000           0.707107       0   \n1           0.695743           0.126259           0.707107       1   \n2           0.662018           0.248460           0.707107       2   \n3           0.607015           0.362675           0.707107       3   \n4           0.532502           0.465233           0.707107       4   \n\n   pmt_efficiency  pmt_area  pmt_noise_rate  pmt_location_x  pmt_location_y  \\\n0            0.42    0.0375         0.00016             0.0             0.0   \n1            0.42    0.0375         0.00016             0.0             0.0   \n2            0.42    0.0375         0.00016             0.0             0.0   \n3            0.42    0.0375         0.00016             0.0             0.0   \n4            0.42    0.0375         0.00016             0.0             0.0   \n\n   pmt_location_z  module_id  module_radius  module_location_x  \\\n0             0.0          2           0.21                0.0   \n1             0.0          2           0.21                0.0   \n2             0.0          2           0.21                0.0   \n3             0.0          2           0.21                0.0   \n4             0.0          2           0.21                0.0   \n\n   module_location_y  module_location_z  string_id  string_location_x  \\\n0                0.0                0.0          0                0.0   \n1                0.0                0.0          0                0.0   \n2                0.0                0.0          0                0.0   \n3                0.0                0.0          0                0.0   \n4                0.0                0.0          0                0.0   \n\n   string_location_y  string_location_z  \n0                0.0                0.0  \n1                0.0                0.0  \n2                0.0                0.0  \n3                0.0                0.0  \n4                0.0                0.0  ",
      "text/html": "<div>\n<style scoped>\n    .dataframe tbody tr th:only-of-type {\n        vertical-align: middle;\n    }\n\n    .dataframe tbody tr th {\n        vertical-align: top;\n    }\n\n    .dataframe thead th {\n        text-align: right;\n    }\n</style>\n<table border=\"1\" class=\"dataframe\">\n  <thead>\n    <tr style=\"text-align: right;\">\n      <th></th>\n      <th>pmt_orientation_x</th>\n      <th>pmt_orientation_y</th>\n      <th>pmt_orientation_z</th>\n      <th>pmt_id</th>\n      <th>pmt_efficiency</th>\n      <th>pmt_area</th>\n      <th>pmt_noise_rate</th>\n      <th>pmt_location_x</th>\n      <th>pmt_location_y</th>\n      <th>pmt_location_z</th>\n      <th>module_id</th>\n      <th>module_radius</th>\n      <th>module_location_x</th>\n      <th>module_location_y</th>\n      <th>module_location_z</th>\n      <th>string_id</th>\n      <th>string_location_x</th>\n      <th>string_location_y</th>\n      <th>string_location_z</th>\n    </tr>\n  </thead>\n  <tbody>\n    <tr>\n      <th>0</th>\n      <td>0.707107</td>\n      <td>0.000000</td>\n      <td>0.707107</td>\n      <td>0</td>\n      <td>0.42</td>\n      <td>0.0375</td>\n      <td>0.00016</td>\n      <td>0.0</td>\n      <td>0.0</td>\n      <td>0.0</td>\n      <td>2</td>\n      <td>0.21</td>\n      <td>0.0</td>\n      <td>0.0</td>\n      <td>0.0</td>\n      <td>0</td>\n      <td>0.0</td>\n      <td>0.0</td>\n      <td>0.0</td>\n    </tr>\n    <tr>\n      <th>1</th>\n      <td>0.695743</td>\n      <td>0.126259</td>\n      <td>0.707107</td>\n      <td>1</td>\n      <td>0.42</td>\n      <td>0.0375</td>\n      <td>0.00016</td>\n      <td>0.0</td>\n      <td>0.0</td>\n      <td>0.0</td>\n      <td>2</td>\n      <td>0.21</td>\n      <td>0.0</td>\n      <td>0.0</td>\n      <td>0.0</td>\n      <td>0</td>\n      <td>0.0</td>\n      <td>0.0</td>\n      <td>0.0</td>\n    </tr>\n    <tr>\n      <th>2</th>\n      <td>0.662018</td>\n      <td>0.248460</td>\n      <td>0.707107</td>\n      <td>2</td>\n      <td>0.42</td>\n      <td>0.0375</td>\n      <td>0.00016</td>\n      <td>0.0</td>\n      <td>0.0</td>\n      <td>0.0</td>\n      <td>2</td>\n      <td>0.21</td>\n      <td>0.0</td>\n      <td>0.0</td>\n      <td>0.0</td>\n      <td>0</td>\n      <td>0.0</td>\n      <td>0.0</td>\n      <td>0.0</td>\n    </tr>\n    <tr>\n      <th>3</th>\n      <td>0.607015</td>\n      <td>0.362675</td>\n      <td>0.707107</td>\n      <td>3</td>\n      <td>0.42</td>\n      <td>0.0375</td>\n      <td>0.00016</td>\n      <td>0.0</td>\n      <td>0.0</td>\n      <td>0.0</td>\n      <td>2</td>\n      <td>0.21</td>\n      <td>0.0</td>\n      <td>0.0</td>\n      <td>0.0</td>\n      <td>0</td>\n      <td>0.0</td>\n      <td>0.0</td>\n      <td>0.0</td>\n    </tr>\n    <tr>\n      <th>4</th>\n      <td>0.532502</td>\n      <td>0.465233</td>\n      <td>0.707107</td>\n      <td>4</td>\n      <td>0.42</td>\n      <td>0.0375</td>\n      <td>0.00016</td>\n      <td>0.0</td>\n      <td>0.0</td>\n      <td>0.0</td>\n      <td>2</td>\n      <td>0.21</td>\n      <td>0.0</td>\n      <td>0.0</td>\n      <td>0.0</td>\n      <td>0</td>\n      <td>0.0</td>\n      <td>0.0</td>\n      <td>0.0</td>\n    </tr>\n  </tbody>\n</table>\n</div>"
     },
     "execution_count": 6,
     "metadata": {},
     "output_type": "execute_result"
    }
   ],
   "source": [
    "number_of_steps = 36\n",
    "spherical_orientations = np.zeros((number_of_steps, 3))\n",
    "\n",
    "spherical_orientations[:, 0] = 1\n",
    "angle_range = np.linspace(0, 2*np.pi, number_of_steps)\n",
    "spherical_orientations[:, 1] = angle_range\n",
    "spherical_orientations[:, 2] = np.pi / 4\n",
    "spherical_orientations_df = pd.DataFrame(spherical_orientations, columns=('norm', 'phi', 'theta'))\n",
    "cartesian_orientations = Vectors3D.from_spherical(spherical_orientations_df)\n",
    "\n",
    "module_3_df = cartesian_orientations.get_df_with_prefix('pmt_orientation_')\n",
    "module_3_df['pmt_id'] = range(number_of_steps)\n",
    "module_3_df['pmt_efficiency'] = efficiency\n",
    "module_3_df['pmt_area'] = pmt_cath_area_r\n",
    "module_3_df['pmt_noise_rate'] = dark_noise_rate\n",
    "module_3_df['pmt_location_x'] = 0.0\n",
    "module_3_df['pmt_location_y'] = 0.0\n",
    "module_3_df['pmt_location_z'] = 0.0\n",
    "module_3_df['module_id'] = 2\n",
    "module_3_df['module_radius'] = module_radius\n",
    "module_3_df['module_location_x'] = 0.0\n",
    "module_3_df['module_location_y'] = 0.0\n",
    "module_3_df['module_location_z'] = 0.0\n",
    "module_3_df['string_id'] = 0\n",
    "module_3_df['string_location_x'] = 0.0\n",
    "module_3_df['string_location_y'] = 0.0\n",
    "module_3_df['string_location_z'] = 0.0\n",
    "\n",
    "module_3_detector = Detector(df=module_3_df)\n",
    "module_3_detector.df.head()"
   ]
  },
  {
   "cell_type": "markdown",
   "metadata": {},
   "source": [
    "Last, but not least we are varying the distance of the PMTs with the PMTs heading directly towards the source on the x-axis facing the z-direction."
   ]
  },
  {
   "cell_type": "code",
   "execution_count": 7,
   "metadata": {},
   "outputs": [
    {
     "data": {
      "text/plain": "   pmt_location_x  pmt_location_y  pmt_location_z  pmt_id  pmt_efficiency  \\\n0             0.0             0.0             0.0       0            0.42   \n1             5.0             0.0             0.0       1            0.42   \n2            10.0             0.0             0.0       2            0.42   \n3            15.0             0.0             0.0       3            0.42   \n4            20.0             0.0             0.0       4            0.42   \n\n   pmt_area  pmt_noise_rate  pmt_orientation_x  pmt_orientation_y  \\\n0    0.0375         0.00016               -1.0                0.0   \n1    0.0375         0.00016               -1.0                0.0   \n2    0.0375         0.00016               -1.0                0.0   \n3    0.0375         0.00016               -1.0                0.0   \n4    0.0375         0.00016               -1.0                0.0   \n\n   pmt_orientation_z  module_id  module_radius  module_location_x  \\\n0                0.0          3           0.21                0.0   \n1                0.0          3           0.21                0.0   \n2                0.0          3           0.21                0.0   \n3                0.0          3           0.21                0.0   \n4                0.0          3           0.21                0.0   \n\n   module_location_y  module_location_z  string_id  string_location_x  \\\n0                0.0                0.0          0                0.0   \n1                0.0                0.0          0                0.0   \n2                0.0                0.0          0                0.0   \n3                0.0                0.0          0                0.0   \n4                0.0                0.0          0                0.0   \n\n   string_location_y  string_location_z  \n0                0.0                0.0  \n1                0.0                0.0  \n2                0.0                0.0  \n3                0.0                0.0  \n4                0.0                0.0  ",
      "text/html": "<div>\n<style scoped>\n    .dataframe tbody tr th:only-of-type {\n        vertical-align: middle;\n    }\n\n    .dataframe tbody tr th {\n        vertical-align: top;\n    }\n\n    .dataframe thead th {\n        text-align: right;\n    }\n</style>\n<table border=\"1\" class=\"dataframe\">\n  <thead>\n    <tr style=\"text-align: right;\">\n      <th></th>\n      <th>pmt_location_x</th>\n      <th>pmt_location_y</th>\n      <th>pmt_location_z</th>\n      <th>pmt_id</th>\n      <th>pmt_efficiency</th>\n      <th>pmt_area</th>\n      <th>pmt_noise_rate</th>\n      <th>pmt_orientation_x</th>\n      <th>pmt_orientation_y</th>\n      <th>pmt_orientation_z</th>\n      <th>module_id</th>\n      <th>module_radius</th>\n      <th>module_location_x</th>\n      <th>module_location_y</th>\n      <th>module_location_z</th>\n      <th>string_id</th>\n      <th>string_location_x</th>\n      <th>string_location_y</th>\n      <th>string_location_z</th>\n    </tr>\n  </thead>\n  <tbody>\n    <tr>\n      <th>0</th>\n      <td>0.0</td>\n      <td>0.0</td>\n      <td>0.0</td>\n      <td>0</td>\n      <td>0.42</td>\n      <td>0.0375</td>\n      <td>0.00016</td>\n      <td>-1.0</td>\n      <td>0.0</td>\n      <td>0.0</td>\n      <td>3</td>\n      <td>0.21</td>\n      <td>0.0</td>\n      <td>0.0</td>\n      <td>0.0</td>\n      <td>0</td>\n      <td>0.0</td>\n      <td>0.0</td>\n      <td>0.0</td>\n    </tr>\n    <tr>\n      <th>1</th>\n      <td>5.0</td>\n      <td>0.0</td>\n      <td>0.0</td>\n      <td>1</td>\n      <td>0.42</td>\n      <td>0.0375</td>\n      <td>0.00016</td>\n      <td>-1.0</td>\n      <td>0.0</td>\n      <td>0.0</td>\n      <td>3</td>\n      <td>0.21</td>\n      <td>0.0</td>\n      <td>0.0</td>\n      <td>0.0</td>\n      <td>0</td>\n      <td>0.0</td>\n      <td>0.0</td>\n      <td>0.0</td>\n    </tr>\n    <tr>\n      <th>2</th>\n      <td>10.0</td>\n      <td>0.0</td>\n      <td>0.0</td>\n      <td>2</td>\n      <td>0.42</td>\n      <td>0.0375</td>\n      <td>0.00016</td>\n      <td>-1.0</td>\n      <td>0.0</td>\n      <td>0.0</td>\n      <td>3</td>\n      <td>0.21</td>\n      <td>0.0</td>\n      <td>0.0</td>\n      <td>0.0</td>\n      <td>0</td>\n      <td>0.0</td>\n      <td>0.0</td>\n      <td>0.0</td>\n    </tr>\n    <tr>\n      <th>3</th>\n      <td>15.0</td>\n      <td>0.0</td>\n      <td>0.0</td>\n      <td>3</td>\n      <td>0.42</td>\n      <td>0.0375</td>\n      <td>0.00016</td>\n      <td>-1.0</td>\n      <td>0.0</td>\n      <td>0.0</td>\n      <td>3</td>\n      <td>0.21</td>\n      <td>0.0</td>\n      <td>0.0</td>\n      <td>0.0</td>\n      <td>0</td>\n      <td>0.0</td>\n      <td>0.0</td>\n      <td>0.0</td>\n    </tr>\n    <tr>\n      <th>4</th>\n      <td>20.0</td>\n      <td>0.0</td>\n      <td>0.0</td>\n      <td>4</td>\n      <td>0.42</td>\n      <td>0.0375</td>\n      <td>0.00016</td>\n      <td>-1.0</td>\n      <td>0.0</td>\n      <td>0.0</td>\n      <td>3</td>\n      <td>0.21</td>\n      <td>0.0</td>\n      <td>0.0</td>\n      <td>0.0</td>\n      <td>0</td>\n      <td>0.0</td>\n      <td>0.0</td>\n      <td>0.0</td>\n    </tr>\n  </tbody>\n</table>\n</div>"
     },
     "execution_count": 7,
     "metadata": {},
     "output_type": "execute_result"
    }
   ],
   "source": [
    "distance_between_pmts = 5\n",
    "maximum_distance = 100\n",
    "number_of_steps = int(maximum_distance / distance_between_pmts)\n",
    "cartesian_locations = np.zeros((number_of_steps, 3))\n",
    "cartesian_locations[:, 0] = np.arange(0, maximum_distance, distance_between_pmts)\n",
    "cartesian_locations = Vectors3D.from_numpy(cartesian_locations)\n",
    "\n",
    "module_4_df = cartesian_locations.get_df_with_prefix('pmt_location_')\n",
    "module_4_df['pmt_id'] = range(number_of_steps)\n",
    "module_4_df['pmt_efficiency'] = efficiency\n",
    "module_4_df['pmt_area'] = pmt_cath_area_r\n",
    "module_4_df['pmt_noise_rate'] = dark_noise_rate\n",
    "module_4_df['pmt_orientation_x'] = -1.0\n",
    "module_4_df['pmt_orientation_y'] = 0.0\n",
    "module_4_df['pmt_orientation_z'] = 0.0\n",
    "module_4_df['module_id'] = 3\n",
    "module_4_df['module_radius'] = module_radius\n",
    "module_4_df['module_location_x'] = 0.0\n",
    "module_4_df['module_location_y'] = 0.0\n",
    "module_4_df['module_location_z'] = 0.0\n",
    "module_4_df['string_id'] = 0\n",
    "module_4_df['string_location_x'] = 0.0\n",
    "module_4_df['string_location_y'] = 0.0\n",
    "module_4_df['string_location_z'] = 0.0\n",
    "\n",
    "module_4_detector = Detector(df=module_4_df)\n",
    "module_4_detector.df.head()"
   ]
  },
  {
   "cell_type": "markdown",
   "metadata": {},
   "source": [
    "Let's complete our detector:"
   ]
  },
  {
   "cell_type": "code",
   "execution_count": 8,
   "metadata": {},
   "outputs": [
    {
     "data": {
      "text/plain": "110"
     },
     "execution_count": 8,
     "metadata": {},
     "output_type": "execute_result"
    }
   ],
   "source": [
    "detector = Detector.concat([\n",
    "    module_1_detector,\n",
    "    module_2_detector,\n",
    "    module_3_detector,\n",
    "    module_4_detector,\n",
    "])\n",
    "len(detector.df.index)"
   ]
  },
  {
   "cell_type": "markdown",
   "metadata": {},
   "source": [
    "## Build Mock Event and Sources\n",
    "\n",
    "After the detector, we only need to create an event and its sources. Here as well to be able to evaluate the cherenkov dependency we create events and sources starting in y-axis direction and then rotating down the xz-plane"
   ]
  },
  {
   "cell_type": "code",
   "execution_count": 9,
   "metadata": {},
   "outputs": [
    {
     "data": {
      "text/plain": "   orientation_x  orientation_y  orientation_z  record_id  time  location_x  \\\n0       0.000000            0.0       1.000000          0   0.0        -5.0   \n1       0.183750            0.0       0.982973          1   0.0        -5.0   \n2       0.361242            0.0       0.932472          2   0.0        -5.0   \n3       0.526432            0.0       0.850217          3   0.0        -5.0   \n4       0.673696            0.0       0.739009          4   0.0        -5.0   \n\n   location_y  location_z   energy  length  particle_id     type  \n0         0.0         0.0  10000.0  3000.0           11  cascade  \n1         0.0         0.0  10000.0  3000.0           11  cascade  \n2         0.0         0.0  10000.0  3000.0           11  cascade  \n3         0.0         0.0  10000.0  3000.0           11  cascade  \n4         0.0         0.0  10000.0  3000.0           11  cascade  ",
      "text/html": "<div>\n<style scoped>\n    .dataframe tbody tr th:only-of-type {\n        vertical-align: middle;\n    }\n\n    .dataframe tbody tr th {\n        vertical-align: top;\n    }\n\n    .dataframe thead th {\n        text-align: right;\n    }\n</style>\n<table border=\"1\" class=\"dataframe\">\n  <thead>\n    <tr style=\"text-align: right;\">\n      <th></th>\n      <th>orientation_x</th>\n      <th>orientation_y</th>\n      <th>orientation_z</th>\n      <th>record_id</th>\n      <th>time</th>\n      <th>location_x</th>\n      <th>location_y</th>\n      <th>location_z</th>\n      <th>energy</th>\n      <th>length</th>\n      <th>particle_id</th>\n      <th>type</th>\n    </tr>\n  </thead>\n  <tbody>\n    <tr>\n      <th>0</th>\n      <td>0.000000</td>\n      <td>0.0</td>\n      <td>1.000000</td>\n      <td>0</td>\n      <td>0.0</td>\n      <td>-5.0</td>\n      <td>0.0</td>\n      <td>0.0</td>\n      <td>10000.0</td>\n      <td>3000.0</td>\n      <td>11</td>\n      <td>cascade</td>\n    </tr>\n    <tr>\n      <th>1</th>\n      <td>0.183750</td>\n      <td>0.0</td>\n      <td>0.982973</td>\n      <td>1</td>\n      <td>0.0</td>\n      <td>-5.0</td>\n      <td>0.0</td>\n      <td>0.0</td>\n      <td>10000.0</td>\n      <td>3000.0</td>\n      <td>11</td>\n      <td>cascade</td>\n    </tr>\n    <tr>\n      <th>2</th>\n      <td>0.361242</td>\n      <td>0.0</td>\n      <td>0.932472</td>\n      <td>2</td>\n      <td>0.0</td>\n      <td>-5.0</td>\n      <td>0.0</td>\n      <td>0.0</td>\n      <td>10000.0</td>\n      <td>3000.0</td>\n      <td>11</td>\n      <td>cascade</td>\n    </tr>\n    <tr>\n      <th>3</th>\n      <td>0.526432</td>\n      <td>0.0</td>\n      <td>0.850217</td>\n      <td>3</td>\n      <td>0.0</td>\n      <td>-5.0</td>\n      <td>0.0</td>\n      <td>0.0</td>\n      <td>10000.0</td>\n      <td>3000.0</td>\n      <td>11</td>\n      <td>cascade</td>\n    </tr>\n    <tr>\n      <th>4</th>\n      <td>0.673696</td>\n      <td>0.0</td>\n      <td>0.739009</td>\n      <td>4</td>\n      <td>0.0</td>\n      <td>-5.0</td>\n      <td>0.0</td>\n      <td>0.0</td>\n      <td>10000.0</td>\n      <td>3000.0</td>\n      <td>11</td>\n      <td>cascade</td>\n    </tr>\n  </tbody>\n</table>\n</div>"
     },
     "execution_count": 9,
     "metadata": {},
     "output_type": "execute_result"
    }
   ],
   "source": [
    "number_of_steps = 18\n",
    "spherical_orientations = np.zeros((number_of_steps, 3))\n",
    "\n",
    "spherical_orientations[:, 0] = 1\n",
    "angle_range = np.linspace(0, np.pi, number_of_steps)\n",
    "spherical_orientations[:, 2] = angle_range\n",
    "spherical_orientations_df = pd.DataFrame(spherical_orientations, columns=('norm', 'phi', 'theta'))\n",
    "cartesian_orientations = Vectors3D.from_spherical(spherical_orientations_df)\n",
    "\n",
    "events_df = cartesian_orientations.get_df_with_prefix('orientation_')\n",
    "events_df['record_id'] = range(number_of_steps)\n",
    "events_df['time'] = 0.0\n",
    "events_df['location_x'] = -5.0\n",
    "events_df['location_y'] = 0.0\n",
    "events_df['location_z'] = 0.0\n",
    "\n",
    "sources_df = events_df.copy()\n",
    "\n",
    "events_df['energy'] = 10000\n",
    "events_df['length'] = 3000\n",
    "events_df['particle_id'] = 11\n",
    "events_df['type'] = 'cascade'\n",
    "\n",
    "sources_df['type'] = 'cherenkov'\n",
    "sources_df['number_of_photons'] = 1000000\n",
    "\n",
    "event_records = EventRecords(df=events_df)\n",
    "sources = Sources(df=sources_df)\n",
    "\n",
    "event_records.df.head()"
   ]
  },
  {
   "cell_type": "code",
   "execution_count": 10,
   "metadata": {},
   "outputs": [
    {
     "data": {
      "text/plain": "   orientation_x  orientation_y  orientation_z  record_id  time  location_x  \\\n0       0.000000            0.0       1.000000          0   0.0        -5.0   \n1       0.183750            0.0       0.982973          1   0.0        -5.0   \n2       0.361242            0.0       0.932472          2   0.0        -5.0   \n3       0.526432            0.0       0.850217          3   0.0        -5.0   \n4       0.673696            0.0       0.739009          4   0.0        -5.0   \n\n   location_y  location_z       type  number_of_photons  \n0         0.0         0.0  cherenkov            1000000  \n1         0.0         0.0  cherenkov            1000000  \n2         0.0         0.0  cherenkov            1000000  \n3         0.0         0.0  cherenkov            1000000  \n4         0.0         0.0  cherenkov            1000000  ",
      "text/html": "<div>\n<style scoped>\n    .dataframe tbody tr th:only-of-type {\n        vertical-align: middle;\n    }\n\n    .dataframe tbody tr th {\n        vertical-align: top;\n    }\n\n    .dataframe thead th {\n        text-align: right;\n    }\n</style>\n<table border=\"1\" class=\"dataframe\">\n  <thead>\n    <tr style=\"text-align: right;\">\n      <th></th>\n      <th>orientation_x</th>\n      <th>orientation_y</th>\n      <th>orientation_z</th>\n      <th>record_id</th>\n      <th>time</th>\n      <th>location_x</th>\n      <th>location_y</th>\n      <th>location_z</th>\n      <th>type</th>\n      <th>number_of_photons</th>\n    </tr>\n  </thead>\n  <tbody>\n    <tr>\n      <th>0</th>\n      <td>0.000000</td>\n      <td>0.0</td>\n      <td>1.000000</td>\n      <td>0</td>\n      <td>0.0</td>\n      <td>-5.0</td>\n      <td>0.0</td>\n      <td>0.0</td>\n      <td>cherenkov</td>\n      <td>1000000</td>\n    </tr>\n    <tr>\n      <th>1</th>\n      <td>0.183750</td>\n      <td>0.0</td>\n      <td>0.982973</td>\n      <td>1</td>\n      <td>0.0</td>\n      <td>-5.0</td>\n      <td>0.0</td>\n      <td>0.0</td>\n      <td>cherenkov</td>\n      <td>1000000</td>\n    </tr>\n    <tr>\n      <th>2</th>\n      <td>0.361242</td>\n      <td>0.0</td>\n      <td>0.932472</td>\n      <td>2</td>\n      <td>0.0</td>\n      <td>-5.0</td>\n      <td>0.0</td>\n      <td>0.0</td>\n      <td>cherenkov</td>\n      <td>1000000</td>\n    </tr>\n    <tr>\n      <th>3</th>\n      <td>0.526432</td>\n      <td>0.0</td>\n      <td>0.850217</td>\n      <td>3</td>\n      <td>0.0</td>\n      <td>-5.0</td>\n      <td>0.0</td>\n      <td>0.0</td>\n      <td>cherenkov</td>\n      <td>1000000</td>\n    </tr>\n    <tr>\n      <th>4</th>\n      <td>0.673696</td>\n      <td>0.0</td>\n      <td>0.739009</td>\n      <td>4</td>\n      <td>0.0</td>\n      <td>-5.0</td>\n      <td>0.0</td>\n      <td>0.0</td>\n      <td>cherenkov</td>\n      <td>1000000</td>\n    </tr>\n  </tbody>\n</table>\n</div>"
     },
     "execution_count": 10,
     "metadata": {},
     "output_type": "execute_result"
    }
   ],
   "source": [
    "sources.df.head()"
   ]
  },
  {
   "cell_type": "markdown",
   "metadata": {},
   "source": [
    "## Let's propagate\n",
    "\n",
    "Now we have the detector, the events and the sources. Time to propagate:"
   ]
  },
  {
   "cell_type": "code",
   "execution_count": 11,
   "metadata": {},
   "outputs": [],
   "source": [
    "medium = Medium(MediumEstimationVariant.PONE_OPTIMISTIC)\n",
    "\n",
    "photon_propagator = MockPhotonPropagator(\n",
    "    detector=detector,\n",
    "    medium=medium,\n",
    "    angle_resolution=18000,\n",
    ")\n",
    "\n",
    "hits = photon_propagator.propagate(event_records, sources)"
   ]
  },
  {
   "cell_type": "code",
   "execution_count": 1,
   "outputs": [
    {
     "ename": "NameError",
     "evalue": "name 'hits' is not defined",
     "output_type": "error",
     "traceback": [
      "\u001B[0;31m---------------------------------------------------------------------------\u001B[0m",
      "\u001B[0;31mNameError\u001B[0m                                 Traceback (most recent call last)",
      "Input \u001B[0;32mIn [1]\u001B[0m, in \u001B[0;36m<module>\u001B[0;34m\u001B[0m\n\u001B[0;32m----> 1\u001B[0m \u001B[43mhits\u001B[49m\u001B[38;5;241m.\u001B[39mdf\u001B[38;5;241m.\u001B[39mloc[hits\u001B[38;5;241m.\u001B[39mdf[\u001B[38;5;124m'\u001B[39m\u001B[38;5;124mrecord_id\u001B[39m\u001B[38;5;124m'\u001B[39m] \u001B[38;5;241m==\u001B[39m\u001B[38;5;241m0.0\u001B[39m][\u001B[38;5;124m'\u001B[39m\u001B[38;5;124mtime\u001B[39m\u001B[38;5;124m'\u001B[39m]\n",
      "\u001B[0;31mNameError\u001B[0m: name 'hits' is not defined"
     ]
    }
   ],
   "source": [
    "hits.df.loc[hits.df['record_id'] ==0.0]['time']"
   ],
   "metadata": {
    "collapsed": false
   }
  }
 ],
 "metadata": {
  "kernelspec": {
   "display_name": "Python 3 (ipykernel)",
   "language": "python",
   "name": "python3"
  },
  "language_info": {
   "codemirror_mode": {
    "name": "ipython",
    "version": 3
   },
   "file_extension": ".py",
   "mimetype": "text/x-python",
   "name": "python",
   "nbconvert_exporter": "python",
   "pygments_lexer": "ipython3",
   "version": "3.8.10"
  }
 },
 "nbformat": 4,
 "nbformat_minor": 1
}
