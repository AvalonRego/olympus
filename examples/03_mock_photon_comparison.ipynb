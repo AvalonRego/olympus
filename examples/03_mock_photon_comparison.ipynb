{
 "cells": [
  {
   "cell_type": "markdown",
   "metadata": {
    "pycharm": {
     "name": "#%% md\n"
    }
   },
   "source": [
    "# 03. Mock Photon Comparison\n",
    "\n",
    "In this Notebook we compare the mock photon propagation with the existing methods like the normal flow. To do that, we generate a line detector and a couple of events that we propagate using each propagator."
   ]
  },
  {
   "cell_type": "code",
   "execution_count": null,
   "metadata": {
    "collapsed": false,
    "pycharm": {
     "name": "#%%\n"
    }
   },
   "outputs": [],
   "source": [
    "from ananke.configurations.presets.detector import single_line_configuration\n",
    "from ananke.services.detector import DetectorBuilderService\n",
    "from ananke.models.collection import Collection\n",
    "from olympus.event_generation.generators import get_generator\n",
    "from olympus.event_generation.photon_propagation.mock_photons import MockPhotonPropagator\n",
    "from olympus.event_generation.photon_propagation.norm_flow_photons import NormalFlowPhotonPropagator\n",
    "from olympus.configuration.generators import DatasetConfiguration\n",
    "from olympus.configuration.photon_propagation import MockPhotonPropagatorConfiguration, NormalFlowPhotonPropagatorConfiguration"
   ]
  },
  {
   "cell_type": "markdown",
   "metadata": {
    "collapsed": false,
    "pycharm": {
     "name": "#%% md\n"
    }
   },
   "source": [
    "Let's define the detector next:"
   ]
  },
  {
   "cell_type": "code",
   "execution_count": null,
   "metadata": {
    "collapsed": false,
    "pycharm": {
     "name": "#%%\n"
    }
   },
   "outputs": [],
   "source": [
    "detector_service = DetectorBuilderService()\n",
    "det = detector_service.get(configuration=single_line_configuration)"
   ]
  },
  {
   "cell_type": "code",
   "execution_count": null,
   "metadata": {
    "collapsed": false,
    "pycharm": {
     "name": "#%%\n"
    }
   },
   "outputs": [],
   "source": [
    "det.df[['module_location_x', 'module_location_y', 'module_location_z']].drop_duplicates()"
   ]
  },
  {
   "cell_type": "markdown",
   "metadata": {
    "collapsed": false,
    "pycharm": {
     "name": "#%% md\n"
    }
   },
   "source": [
    "Next up we generate our events:"
   ]
  },
  {
   "cell_type": "code",
   "execution_count": null,
   "metadata": {
    "collapsed": false,
    "pycharm": {
     "name": "#%%\n"
    }
   },
   "outputs": [],
   "source": [
    "configuration = DatasetConfiguration.parse_obj({\n",
    "    'generator': {\n",
    "        'type': 'cascade',\n",
    "        'spectrum': {\n",
    "            'log_minimal_energy': 2.0,\n",
    "            'log_maximal_energy': 5.5,\n",
    "        }\n",
    "    },\n",
    "    'number_of_samples': 2\n",
    "})\n",
    "\n",
    "cascades_generator = get_generator(\n",
    "    detector=det,\n",
    "    configuration=configuration.generator\n",
    ")\n",
    "\n",
    "records = cascades_generator.generate_records(\n",
    "    number_of_samples=configuration.number_of_samples\n",
    ")\n",
    "\n",
    "sources = cascades_generator.propagate(records)\n",
    "\n",
    "records.df.head()"
   ]
  },
  {
   "cell_type": "code",
   "execution_count": null,
   "metadata": {
    "collapsed": false,
    "pycharm": {
     "name": "#%%\n"
    }
   },
   "outputs": [],
   "source": [
    "sources.df.head()"
   ]
  },
  {
   "cell_type": "markdown",
   "metadata": {
    "collapsed": false,
    "pycharm": {
     "name": "#%% md\n"
    }
   },
   "source": [
    "Now we need our photon propagators"
   ]
  },
  {
   "cell_type": "code",
   "execution_count": null,
   "metadata": {
    "collapsed": false,
    "pycharm": {
     "name": "#%%\n"
    }
   },
   "outputs": [],
   "source": [
    "mock_photon_propagator_configuration = MockPhotonPropagatorConfiguration(resolution=18000)\n",
    "\n",
    "mock_photon_propagator = MockPhotonPropagator(\n",
    "    detector=det,\n",
    "    configuration=mock_photon_propagator_configuration\n",
    ")\n",
    "\n",
    "normal_photon_propagator_configuration = NormalFlowPhotonPropagatorConfiguration(\n",
    "    shape_model_path=\"../../hyperion/data/photon_arrival_time_nflow_params.pickle\",\n",
    "    counts_model_path=\"../../hyperion/data/photon_arrival_time_counts_params.pickle\"\n",
    ")\n",
    "\n",
    "normal_photon_propagator = NormalFlowPhotonPropagator(\n",
    "    detector=det,\n",
    "    configuration=normal_photon_propagator_configuration\n",
    ")"
   ]
  },
  {
   "cell_type": "markdown",
   "metadata": {
    "collapsed": false,
    "pycharm": {
     "name": "#%% md\n"
    }
   },
   "source": [
    "Now, we want to create our collections to store things"
   ]
  },
  {
   "cell_type": "code",
   "execution_count": null,
   "metadata": {
    "collapsed": false,
    "pycharm": {
     "name": "#%%\n"
    }
   },
   "outputs": [],
   "source": [
    "\n",
    "mock_collection = Collection('data/mock_photon_comparison/mock_collection.h5')\n",
    "normal_collection = Collection('data/mock_photon_comparison/normal_collection.h5')\n",
    "\n",
    "mock_collection.set_records(records)\n",
    "normal_collection.set_records(records)\n",
    "mock_collection.set_sources(sources)\n",
    "normal_collection.set_sources(sources)"
   ]
  },
  {
   "cell_type": "markdown",
   "metadata": {
    "collapsed": false,
    "pycharm": {
     "name": "#%% md\n"
    }
   },
   "source": [
    "Now lets Propagate:"
   ]
  },
  {
   "cell_type": "code",
   "execution_count": null,
   "metadata": {
    "collapsed": false,
    "pycharm": {
     "name": "#%%\n"
    }
   },
   "outputs": [],
   "source": [
    "mock_photon_propagator.propagate(mock_collection)\n",
    "\n",
    "mock_hits = mock_collection.get_hits(records.record_ids[3])\n",
    "\n",
    "mock_hits.df.head()"
   ]
  },
  {
   "cell_type": "markdown",
   "metadata": {
    "collapsed": false,
    "pycharm": {
     "name": "#%% md\n"
    }
   },
   "source": [
    "And doing the same with the normal photons."
   ]
  },
  {
   "cell_type": "code",
   "execution_count": null,
   "metadata": {
    "collapsed": false,
    "pycharm": {
     "name": "#%%\n"
    }
   },
   "outputs": [],
   "source": [
    "normal_photon_propagator.propagate(mock_collection)\n",
    "\n",
    "normal_hits = normal_photon_propagator.get_hits(records.record_ids[3])\n",
    "\n",
    "normal_hits.df.head()"
   ]
  },
  {
   "cell_type": "markdown",
   "metadata": {
    "pycharm": {
     "name": "#%% md\n"
    }
   },
   "source": [
    "And doing the same with the normal photons."
   ]
  },
  {
   "cell_type": "code",
   "execution_count": 11,
   "metadata": {
    "pycharm": {
     "name": "#%%\n"
    }
   },
   "outputs": [
    {
     "name": "stderr",
     "output_type": "stream",
     "text": [
      "/home/janik/projects/master/env/lib/python3.8/site-packages/haiku/_src/data_structures.py:206: FutureWarning: jax.tree_flatten is deprecated, and will be removed in a future release. Use jax.tree_util.tree_flatten instead.\n",
      "  leaves, structure = jax.tree_flatten(mapping)\n",
      "/home/janik/projects/master/env/lib/python3.8/site-packages/haiku/_src/data_structures.py:206: FutureWarning: jax.tree_flatten is deprecated, and will be removed in a future release. Use jax.tree_util.tree_flatten instead.\n",
      "  leaves, structure = jax.tree_flatten(mapping)\n",
      "/home/janik/projects/master/env/lib/python3.8/site-packages/haiku/_src/data_structures.py:206: FutureWarning: jax.tree_flatten is deprecated, and will be removed in a future release. Use jax.tree_util.tree_flatten instead.\n",
      "  leaves, structure = jax.tree_flatten(mapping)\n"
     ]
    },
    {
     "data": {
      "text/html": [
       "<div>\n",
       "<style scoped>\n",
       "    .dataframe tbody tr th:only-of-type {\n",
       "        vertical-align: middle;\n",
       "    }\n",
       "\n",
       "    .dataframe tbody tr th {\n",
       "        vertical-align: top;\n",
       "    }\n",
       "\n",
       "    .dataframe thead th {\n",
       "        text-align: right;\n",
       "    }\n",
       "</style>\n",
       "<table border=\"1\" class=\"dataframe\">\n",
       "  <thead>\n",
       "    <tr style=\"text-align: right;\">\n",
       "      <th></th>\n",
       "      <th>time</th>\n",
       "      <th>string_id</th>\n",
       "      <th>module_id</th>\n",
       "      <th>pmt_id</th>\n",
       "      <th>record_id</th>\n",
       "      <th>type</th>\n",
       "    </tr>\n",
       "  </thead>\n",
       "  <tbody>\n",
       "    <tr>\n",
       "      <th>0</th>\n",
       "      <td>8.689281</td>\n",
       "      <td>0</td>\n",
       "      <td>7</td>\n",
       "      <td>4</td>\n",
       "      <td>-3639979918762569235</td>\n",
       "      <td>cascade</td>\n",
       "    </tr>\n",
       "    <tr>\n",
       "      <th>0</th>\n",
       "      <td>61.373062</td>\n",
       "      <td>0</td>\n",
       "      <td>8</td>\n",
       "      <td>2</td>\n",
       "      <td>-3639979918762569235</td>\n",
       "      <td>cascade</td>\n",
       "    </tr>\n",
       "    <tr>\n",
       "      <th>0</th>\n",
       "      <td>19.784624</td>\n",
       "      <td>0</td>\n",
       "      <td>8</td>\n",
       "      <td>4</td>\n",
       "      <td>-3639979918762569235</td>\n",
       "      <td>cascade</td>\n",
       "    </tr>\n",
       "    <tr>\n",
       "      <th>0</th>\n",
       "      <td>15.451541</td>\n",
       "      <td>0</td>\n",
       "      <td>8</td>\n",
       "      <td>9</td>\n",
       "      <td>-3639979918762569235</td>\n",
       "      <td>cascade</td>\n",
       "    </tr>\n",
       "    <tr>\n",
       "      <th>0</th>\n",
       "      <td>18.989155</td>\n",
       "      <td>0</td>\n",
       "      <td>8</td>\n",
       "      <td>10</td>\n",
       "      <td>-3639979918762569235</td>\n",
       "      <td>cascade</td>\n",
       "    </tr>\n",
       "  </tbody>\n",
       "</table>\n",
       "</div>"
      ],
      "text/plain": [
       "        time  string_id  module_id  pmt_id            record_id     type\n",
       "0   8.689281          0          7       4 -3639979918762569235  cascade\n",
       "0  61.373062          0          8       2 -3639979918762569235  cascade\n",
       "0  19.784624          0          8       4 -3639979918762569235  cascade\n",
       "0  15.451541          0          8       9 -3639979918762569235  cascade\n",
       "0  18.989155          0          8      10 -3639979918762569235  cascade"
      ]
     },
     "execution_count": 11,
     "metadata": {},
     "output_type": "execute_result"
    }
   ],
   "source": [
    "normal_photon_propagator.propagate(mock_collection)\n",
    "\n",
    "normal_hits = normal_photon_propagator.get_hits(records.record_ids[3])\n",
    "\n",
    "normal_hits.df.head()"
   ]
  },
  {
   "cell_type": "markdown",
   "metadata": {
    "pycharm": {
     "name": "#%% md\n"
    }
   },
   "source": [
    "## Comparison of the photon propagators\n",
    "\n",
    "Now that we have all the hits we want we can compare the following cases:\n",
    "\n",
    "1. number of hits per module\n",
    "2. hit arrival times"
   ]
  },
  {
   "cell_type": "markdown",
   "metadata": {
    "pycharm": {
     "name": "#%% md\n"
    }
   },
   "source": [
    "\n",
    "### Number of hits per module\n",
    "\n",
    "Let's have a look at the mock propagation:"
   ]
  },
  {
   "cell_type": "code",
   "execution_count": 12,
   "metadata": {
    "pycharm": {
     "name": "#%%\n"
    }
   },
   "outputs": [
    {
     "data": {
      "text/html": [
       "<div>\n",
       "<style scoped>\n",
       "    .dataframe tbody tr th:only-of-type {\n",
       "        vertical-align: middle;\n",
       "    }\n",
       "\n",
       "    .dataframe tbody tr th {\n",
       "        vertical-align: top;\n",
       "    }\n",
       "\n",
       "    .dataframe thead th {\n",
       "        text-align: right;\n",
       "    }\n",
       "</style>\n",
       "<table border=\"1\" class=\"dataframe\">\n",
       "  <thead>\n",
       "    <tr style=\"text-align: right;\">\n",
       "      <th></th>\n",
       "      <th></th>\n",
       "      <th>time</th>\n",
       "      <th>pmt_id</th>\n",
       "      <th>record_id</th>\n",
       "      <th>type</th>\n",
       "    </tr>\n",
       "    <tr>\n",
       "      <th>string_id</th>\n",
       "      <th>module_id</th>\n",
       "      <th></th>\n",
       "      <th></th>\n",
       "      <th></th>\n",
       "      <th></th>\n",
       "    </tr>\n",
       "  </thead>\n",
       "  <tbody>\n",
       "    <tr>\n",
       "      <th rowspan=\"5\" valign=\"top\">0</th>\n",
       "      <th>9</th>\n",
       "      <td>211</td>\n",
       "      <td>211</td>\n",
       "      <td>211</td>\n",
       "      <td>211</td>\n",
       "    </tr>\n",
       "    <tr>\n",
       "      <th>10</th>\n",
       "      <td>2738</td>\n",
       "      <td>2738</td>\n",
       "      <td>2738</td>\n",
       "      <td>2738</td>\n",
       "    </tr>\n",
       "    <tr>\n",
       "      <th>11</th>\n",
       "      <td>9810</td>\n",
       "      <td>9810</td>\n",
       "      <td>9810</td>\n",
       "      <td>9810</td>\n",
       "    </tr>\n",
       "    <tr>\n",
       "      <th>12</th>\n",
       "      <td>2247</td>\n",
       "      <td>2247</td>\n",
       "      <td>2247</td>\n",
       "      <td>2247</td>\n",
       "    </tr>\n",
       "    <tr>\n",
       "      <th>13</th>\n",
       "      <td>66</td>\n",
       "      <td>66</td>\n",
       "      <td>66</td>\n",
       "      <td>66</td>\n",
       "    </tr>\n",
       "  </tbody>\n",
       "</table>\n",
       "</div>"
      ],
      "text/plain": [
       "                     time  pmt_id  record_id  type\n",
       "string_id module_id                               \n",
       "0         9           211     211        211   211\n",
       "          10         2738    2738       2738  2738\n",
       "          11         9810    9810       9810  9810\n",
       "          12         2247    2247       2247  2247\n",
       "          13           66      66         66    66"
      ]
     },
     "execution_count": 12,
     "metadata": {},
     "output_type": "execute_result"
    }
   ],
   "source": [
    "aggregated_mock_hits = mock_hits.df.set_index(['string_id', 'module_id'])\n",
    "aggregated_mock_hits.groupby(level=[0,1]).count().head()"
   ]
  },
  {
   "cell_type": "code",
   "execution_count": 13,
   "metadata": {
    "pycharm": {
     "name": "#%%\n"
    }
   },
   "outputs": [
    {
     "data": {
      "text/html": [
       "<div>\n",
       "<style scoped>\n",
       "    .dataframe tbody tr th:only-of-type {\n",
       "        vertical-align: middle;\n",
       "    }\n",
       "\n",
       "    .dataframe tbody tr th {\n",
       "        vertical-align: top;\n",
       "    }\n",
       "\n",
       "    .dataframe thead th {\n",
       "        text-align: right;\n",
       "    }\n",
       "</style>\n",
       "<table border=\"1\" class=\"dataframe\">\n",
       "  <thead>\n",
       "    <tr style=\"text-align: right;\">\n",
       "      <th></th>\n",
       "      <th></th>\n",
       "      <th>time</th>\n",
       "      <th>pmt_id</th>\n",
       "      <th>record_id</th>\n",
       "      <th>type</th>\n",
       "    </tr>\n",
       "    <tr>\n",
       "      <th>string_id</th>\n",
       "      <th>module_id</th>\n",
       "      <th></th>\n",
       "      <th></th>\n",
       "      <th></th>\n",
       "      <th></th>\n",
       "    </tr>\n",
       "  </thead>\n",
       "  <tbody>\n",
       "    <tr>\n",
       "      <th rowspan=\"5\" valign=\"top\">0</th>\n",
       "      <th>7</th>\n",
       "      <td>1</td>\n",
       "      <td>1</td>\n",
       "      <td>1</td>\n",
       "      <td>1</td>\n",
       "    </tr>\n",
       "    <tr>\n",
       "      <th>8</th>\n",
       "      <td>7</td>\n",
       "      <td>7</td>\n",
       "      <td>7</td>\n",
       "      <td>7</td>\n",
       "    </tr>\n",
       "    <tr>\n",
       "      <th>9</th>\n",
       "      <td>27</td>\n",
       "      <td>27</td>\n",
       "      <td>27</td>\n",
       "      <td>27</td>\n",
       "    </tr>\n",
       "    <tr>\n",
       "      <th>10</th>\n",
       "      <td>223</td>\n",
       "      <td>223</td>\n",
       "      <td>223</td>\n",
       "      <td>223</td>\n",
       "    </tr>\n",
       "    <tr>\n",
       "      <th>11</th>\n",
       "      <td>1620</td>\n",
       "      <td>1620</td>\n",
       "      <td>1620</td>\n",
       "      <td>1620</td>\n",
       "    </tr>\n",
       "  </tbody>\n",
       "</table>\n",
       "</div>"
      ],
      "text/plain": [
       "                     time  pmt_id  record_id  type\n",
       "string_id module_id                               \n",
       "0         7             1       1          1     1\n",
       "          8             7       7          7     7\n",
       "          9            27      27         27    27\n",
       "          10          223     223        223   223\n",
       "          11         1620    1620       1620  1620"
      ]
     },
     "execution_count": 13,
     "metadata": {},
     "output_type": "execute_result"
    }
   ],
   "source": [
    "aggregated_normal_hits = normal_hits.df.set_index(['string_id', 'module_id'])\n",
    "aggregated_normal_hits.groupby(level=[0,1]).count().head()"
   ]
  },
  {
   "cell_type": "code",
   "execution_count": 14,
   "metadata": {
    "pycharm": {
     "name": "#%%\n"
    }
   },
   "outputs": [
    {
     "data": {
      "text/plain": [
       "15072"
      ]
     },
     "execution_count": 14,
     "metadata": {},
     "output_type": "execute_result"
    }
   ],
   "source": [
    "len(mock_hits)"
   ]
  },
  {
   "cell_type": "code",
   "execution_count": 15,
   "metadata": {
    "pycharm": {
     "name": "#%%\n"
    }
   },
   "outputs": [
    {
     "data": {
      "text/plain": [
       "3803"
      ]
     },
     "execution_count": 15,
     "metadata": {},
     "output_type": "execute_result"
    }
   ],
   "source": [
    "len(normal_hits)"
   ]
  }
 ],
 "metadata": {
  "kernelspec": {
   "display_name": "Python 3 (ipykernel)",
   "language": "python",
   "name": "python3"
  },
  "language_info": {
   "codemirror_mode": {
    "name": "ipython",
    "version": 3
   },
   "file_extension": ".py",
   "mimetype": "text/x-python",
   "name": "python",
   "nbconvert_exporter": "python",
   "pygments_lexer": "ipython3",
   "version": "3.8.10 (default, Nov 14 2022, 12:59:47) \n[GCC 9.4.0]"
  },
  "vscode": {
   "interpreter": {
    "hash": "e86999f1824034dbdb14ebf906ebf9c21e3a8155e445b8c75ae75940b1d2f271"
   }
  }
 },
 "nbformat": 4,
 "nbformat_minor": 1
}
