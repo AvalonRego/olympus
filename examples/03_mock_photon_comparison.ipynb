{
 "cells": [
  {
   "cell_type": "markdown",
   "source": [
    "# 03. Mock Photon Comparison\n",
    "\n",
    "In this Notebook we compare the mock photon propagation with the existing methods like the normal flow. To do that, we generate a line detector and a couple of events that we propagate using each propagator."
   ],
   "metadata": {
    "collapsed": false
   }
  },
  {
   "cell_type": "code",
   "execution_count": 1,
   "metadata": {},
   "outputs": [
    {
     "name": "stderr",
     "output_type": "stream",
     "text": [
      "WARNING:absl:No GPU/TPU found, falling back to CPU. (Set TF_CPP_MIN_LOG_LEVEL=0 and rerun for more info.)\n",
      "/home/janik/projects/master/env/lib/python3.8/site-packages/jax/_src/api_util.py:222: SyntaxWarning: Jitted function has invalid argnames {'interactions'} in static_argnames. Function does not take these args.This warning will be replaced by an error after 2022-08-20 at the earliest.\n",
      "  warnings.warn(f\"Jitted function has invalid argnames {invalid_argnames} \"\n",
      "2023-01-10 13:45:22.809994: W tensorflow/stream_executor/platform/default/dso_loader.cc:64] Could not load dynamic library 'libcudart.so.11.0'; dlerror: libcudart.so.11.0: cannot open shared object file: No such file or directory\n",
      "/home/janik/projects/master/env/lib/python3.8/site-packages/haiku/_src/data_structures.py:37: FutureWarning: jax.tree_structure is deprecated, and will be removed in a future release. Use jax.tree_util.tree_structure instead.\n",
      "  PyTreeDef = type(jax.tree_structure(None))\n"
     ]
    }
   ],
   "source": [
    "import pandas as pd\n",
    "\n",
    "from ananke.configurations.detector import DetectorConfiguration\n",
    "from ananke.services.detector import DetectorBuilderService\n",
    "from olympus.event_generation.generators import GeneratorCollection, GeneratorFactory\n",
    "from olympus.event_generation.medium import MediumEstimationVariant, Medium\n",
    "from olympus.event_generation.photon_propagation.mock_photons import MockPhotonPropagator\n",
    "from olympus.event_generation.photon_propagation.norm_flow_photons import NormalFlowPhotonPropagator"
   ]
  },
  {
   "cell_type": "markdown",
   "metadata": {},
   "source": [
    "Let's define the detector next:"
   ]
  },
  {
   "cell_type": "code",
   "execution_count": 2,
   "metadata": {},
   "outputs": [],
   "source": [
    "oms_per_line = 3\n",
    "dist_z = 50  # m\n",
    "dark_noise_rate = 16 * 1e-5  # 1/ns\n",
    "side_len = 100  # m\n",
    "pmts_per_module = 16\n",
    "pmt_cath_area_r = 75e-3 / 2  # m\n",
    "module_radius = 0.21  # m\n",
    "efficiency = 0.42 # Christian S. Number\n",
    "\n",
    "detector_configuration = DetectorConfiguration.parse_obj(\n",
    "    {\n",
    "        \"string\": {\n",
    "            \"module_number\": oms_per_line,\n",
    "            \"module_distance\": dist_z\n",
    "        },\n",
    "        \"pmt\": {\n",
    "            \"efficiency\": efficiency,\n",
    "            \"noise_rate\": dark_noise_rate,\n",
    "            \"area\": pmt_cath_area_r\n",
    "        },\n",
    "        \"module\": {\n",
    "            \"radius\": module_radius\n",
    "        },\n",
    "        \"geometry\": {\n",
    "            \"type\": \"single\",\n",
    "        },\n",
    "        \"seed\": 31338\n",
    "    }\n",
    ")\n",
    "\n",
    "detector_service = DetectorBuilderService()\n",
    "det = detector_service.get(configuration=detector_configuration)"
   ]
  },
  {
   "cell_type": "markdown",
   "metadata": {},
   "source": [
    "Next up we generate our events:"
   ]
  },
  {
   "cell_type": "code",
   "execution_count": 3,
   "metadata": {},
   "outputs": [
    {
     "data": {
      "text/plain": "   location_x  location_y  location_z  orientation_x  orientation_y  \\\n0   26.293626   -1.990358  -53.699838       0.575173      -0.311980   \n1   28.460169   18.393233    5.517846       0.683393      -0.370679   \n\n   orientation_z            record_id         energy  length  time     type  \\\n0       0.756204 -6440121634775625235  118401.349187  3000.0   0.0  cascade   \n1      -0.628944 -6440120818731838995     446.013358  3000.0   0.0  cascade   \n\n   particle_id  \n0           11  \n1           11  ",
      "text/html": "<div>\n<style scoped>\n    .dataframe tbody tr th:only-of-type {\n        vertical-align: middle;\n    }\n\n    .dataframe tbody tr th {\n        vertical-align: top;\n    }\n\n    .dataframe thead th {\n        text-align: right;\n    }\n</style>\n<table border=\"1\" class=\"dataframe\">\n  <thead>\n    <tr style=\"text-align: right;\">\n      <th></th>\n      <th>location_x</th>\n      <th>location_y</th>\n      <th>location_z</th>\n      <th>orientation_x</th>\n      <th>orientation_y</th>\n      <th>orientation_z</th>\n      <th>record_id</th>\n      <th>energy</th>\n      <th>length</th>\n      <th>time</th>\n      <th>type</th>\n      <th>particle_id</th>\n    </tr>\n  </thead>\n  <tbody>\n    <tr>\n      <th>0</th>\n      <td>26.293626</td>\n      <td>-1.990358</td>\n      <td>-53.699838</td>\n      <td>0.575173</td>\n      <td>-0.311980</td>\n      <td>0.756204</td>\n      <td>-6440121634775625235</td>\n      <td>118401.349187</td>\n      <td>3000.0</td>\n      <td>0.0</td>\n      <td>cascade</td>\n      <td>11</td>\n    </tr>\n    <tr>\n      <th>1</th>\n      <td>28.460169</td>\n      <td>18.393233</td>\n      <td>5.517846</td>\n      <td>0.683393</td>\n      <td>-0.370679</td>\n      <td>-0.628944</td>\n      <td>-6440120818731838995</td>\n      <td>446.013358</td>\n      <td>3000.0</td>\n      <td>0.0</td>\n      <td>cascade</td>\n      <td>11</td>\n    </tr>\n  </tbody>\n</table>\n</div>"
     },
     "execution_count": 3,
     "metadata": {},
     "output_type": "execute_result"
    }
   ],
   "source": [
    "medium = Medium(MediumEstimationVariant.PONE_OPTIMISTIC)\n",
    "\n",
    "generator_factory = GeneratorFactory(det)\n",
    "\n",
    "cascades_generator = generator_factory.create(\n",
    "    \"cascade\", particle_id=11, log_minimal_energy=2, log_maximal_energy=5.5, rate=0.05\n",
    ")\n",
    "\n",
    "records = cascades_generator.generate_records(\n",
    "    number_of_samples=2\n",
    ")\n",
    "\n",
    "sources = cascades_generator.propagate(records)\n",
    "\n",
    "records.df.head()"
   ]
  },
  {
   "cell_type": "markdown",
   "metadata": {},
   "source": [
    "Now we need our photon propagators"
   ]
  },
  {
   "cell_type": "code",
   "execution_count": 4,
   "outputs": [
    {
     "name": "stderr",
     "output_type": "stream",
     "text": [
      "/home/janik/projects/master/env/lib/python3.8/site-packages/haiku/_src/data_structures.py:206: FutureWarning: jax.tree_flatten is deprecated, and will be removed in a future release. Use jax.tree_util.tree_flatten instead.\n",
      "  leaves, structure = jax.tree_flatten(mapping)\n"
     ]
    }
   ],
   "source": [
    "mock_photon_propagator = MockPhotonPropagator(\n",
    "    detector=det,\n",
    "    medium=medium,\n",
    "    angle_resolution=180,\n",
    ")\n",
    "\n",
    "normal_photon_propagator = NormalFlowPhotonPropagator(\n",
    "    detector=det,\n",
    "    shape_model_path=\"../../hyperion/data/photon_arrival_time_nflow_params.pickle\",\n",
    "    counts_model_path=\"../../hyperion/data/photon_arrival_time_counts_params.pickle\",\n",
    "    medium=medium\n",
    ")"
   ],
   "metadata": {
    "collapsed": false
   }
  },
  {
   "cell_type": "markdown",
   "metadata": {},
   "source": [
    "Now lets Propagate:"
   ]
  },
  {
   "cell_type": "code",
   "execution_count": 5,
   "metadata": {},
   "outputs": [
    {
     "data": {
      "text/plain": "       time  string_id  module_id  pmt_id            record_id\n0  2.059627          0          0       0 -6440121634775625235\n1  1.816164          0          0       0 -6440121634775625235\n2  8.108992          0          0       0 -6440121634775625235\n0  7.001629          0          0       0 -6440121634775625235\n1  2.921966          0          0       0 -6440121634775625235",
      "text/html": "<div>\n<style scoped>\n    .dataframe tbody tr th:only-of-type {\n        vertical-align: middle;\n    }\n\n    .dataframe tbody tr th {\n        vertical-align: top;\n    }\n\n    .dataframe thead th {\n        text-align: right;\n    }\n</style>\n<table border=\"1\" class=\"dataframe\">\n  <thead>\n    <tr style=\"text-align: right;\">\n      <th></th>\n      <th>time</th>\n      <th>string_id</th>\n      <th>module_id</th>\n      <th>pmt_id</th>\n      <th>record_id</th>\n    </tr>\n  </thead>\n  <tbody>\n    <tr>\n      <th>0</th>\n      <td>2.059627</td>\n      <td>0</td>\n      <td>0</td>\n      <td>0</td>\n      <td>-6440121634775625235</td>\n    </tr>\n    <tr>\n      <th>1</th>\n      <td>1.816164</td>\n      <td>0</td>\n      <td>0</td>\n      <td>0</td>\n      <td>-6440121634775625235</td>\n    </tr>\n    <tr>\n      <th>2</th>\n      <td>8.108992</td>\n      <td>0</td>\n      <td>0</td>\n      <td>0</td>\n      <td>-6440121634775625235</td>\n    </tr>\n    <tr>\n      <th>0</th>\n      <td>7.001629</td>\n      <td>0</td>\n      <td>0</td>\n      <td>0</td>\n      <td>-6440121634775625235</td>\n    </tr>\n    <tr>\n      <th>1</th>\n      <td>2.921966</td>\n      <td>0</td>\n      <td>0</td>\n      <td>0</td>\n      <td>-6440121634775625235</td>\n    </tr>\n  </tbody>\n</table>\n</div>"
     },
     "execution_count": 5,
     "metadata": {},
     "output_type": "execute_result"
    }
   ],
   "source": [
    "mock_hits = mock_photon_propagator.propagate(records, sources)\n",
    "\n",
    "mock_hits.df.head()"
   ]
  },
  {
   "cell_type": "markdown",
   "source": [
    "And doing the same with the normal photons."
   ],
   "metadata": {
    "collapsed": false
   }
  },
  {
   "cell_type": "code",
   "execution_count": 6,
   "outputs": [
    {
     "name": "stderr",
     "output_type": "stream",
     "text": [
      "/home/janik/projects/master/env/lib/python3.8/site-packages/haiku/_src/data_structures.py:206: FutureWarning: jax.tree_flatten is deprecated, and will be removed in a future release. Use jax.tree_util.tree_flatten instead.\n",
      "  leaves, structure = jax.tree_flatten(mapping)\n",
      "/home/janik/projects/master/env/lib/python3.8/site-packages/haiku/_src/data_structures.py:206: FutureWarning: jax.tree_flatten is deprecated, and will be removed in a future release. Use jax.tree_util.tree_flatten instead.\n",
      "  leaves, structure = jax.tree_flatten(mapping)\n"
     ]
    },
    {
     "data": {
      "text/plain": "         time  string_id  module_id  pmt_id            record_id\n0   14.203907          0          0       0 -6440121634775625235\n1   86.173187          0          0       0 -6440121634775625235\n2  149.561005          0          0       0 -6440121634775625235\n3    6.382759          0          0       0 -6440121634775625235\n4    8.209618          0          0       0 -6440121634775625235",
      "text/html": "<div>\n<style scoped>\n    .dataframe tbody tr th:only-of-type {\n        vertical-align: middle;\n    }\n\n    .dataframe tbody tr th {\n        vertical-align: top;\n    }\n\n    .dataframe thead th {\n        text-align: right;\n    }\n</style>\n<table border=\"1\" class=\"dataframe\">\n  <thead>\n    <tr style=\"text-align: right;\">\n      <th></th>\n      <th>time</th>\n      <th>string_id</th>\n      <th>module_id</th>\n      <th>pmt_id</th>\n      <th>record_id</th>\n    </tr>\n  </thead>\n  <tbody>\n    <tr>\n      <th>0</th>\n      <td>14.203907</td>\n      <td>0</td>\n      <td>0</td>\n      <td>0</td>\n      <td>-6440121634775625235</td>\n    </tr>\n    <tr>\n      <th>1</th>\n      <td>86.173187</td>\n      <td>0</td>\n      <td>0</td>\n      <td>0</td>\n      <td>-6440121634775625235</td>\n    </tr>\n    <tr>\n      <th>2</th>\n      <td>149.561005</td>\n      <td>0</td>\n      <td>0</td>\n      <td>0</td>\n      <td>-6440121634775625235</td>\n    </tr>\n    <tr>\n      <th>3</th>\n      <td>6.382759</td>\n      <td>0</td>\n      <td>0</td>\n      <td>0</td>\n      <td>-6440121634775625235</td>\n    </tr>\n    <tr>\n      <th>4</th>\n      <td>8.209618</td>\n      <td>0</td>\n      <td>0</td>\n      <td>0</td>\n      <td>-6440121634775625235</td>\n    </tr>\n  </tbody>\n</table>\n</div>"
     },
     "execution_count": 6,
     "metadata": {},
     "output_type": "execute_result"
    }
   ],
   "source": [
    "normal_hits = normal_photon_propagator.propagate(records, sources)\n",
    "\n",
    "normal_hits.df.head()"
   ],
   "metadata": {
    "collapsed": false
   }
  },
  {
   "cell_type": "markdown",
   "source": [
    "## Comparison of the photon propagators\n",
    "\n",
    "Now that we have all the hits we want we can compare the following cases:\n",
    "\n",
    "1. number of hits per module\n",
    "2. hit arrival times"
   ],
   "metadata": {
    "collapsed": false
   },
   "outputs": []
  },
  {
   "cell_type": "markdown",
   "source": [
    "\n",
    "### Number of hits per module\n",
    "\n",
    "Let's have a look at the mock propagation:"
   ],
   "metadata": {
    "collapsed": false
   }
  },
  {
   "cell_type": "code",
   "execution_count": 7,
   "outputs": [
    {
     "data": {
      "text/plain": "                        time   pmt_id  record_id\nstring_id module_id                             \n0         0          2439465  2439465    2439465\n          1          2834299  2834299    2834299\n          2          2018930  2018930    2018930",
      "text/html": "<div>\n<style scoped>\n    .dataframe tbody tr th:only-of-type {\n        vertical-align: middle;\n    }\n\n    .dataframe tbody tr th {\n        vertical-align: top;\n    }\n\n    .dataframe thead th {\n        text-align: right;\n    }\n</style>\n<table border=\"1\" class=\"dataframe\">\n  <thead>\n    <tr style=\"text-align: right;\">\n      <th></th>\n      <th></th>\n      <th>time</th>\n      <th>pmt_id</th>\n      <th>record_id</th>\n    </tr>\n    <tr>\n      <th>string_id</th>\n      <th>module_id</th>\n      <th></th>\n      <th></th>\n      <th></th>\n    </tr>\n  </thead>\n  <tbody>\n    <tr>\n      <th rowspan=\"3\" valign=\"top\">0</th>\n      <th>0</th>\n      <td>2439465</td>\n      <td>2439465</td>\n      <td>2439465</td>\n    </tr>\n    <tr>\n      <th>1</th>\n      <td>2834299</td>\n      <td>2834299</td>\n      <td>2834299</td>\n    </tr>\n    <tr>\n      <th>2</th>\n      <td>2018930</td>\n      <td>2018930</td>\n      <td>2018930</td>\n    </tr>\n  </tbody>\n</table>\n</div>"
     },
     "execution_count": 7,
     "metadata": {},
     "output_type": "execute_result"
    }
   ],
   "source": [
    "aggregated_normal_hits = mock_hits.df.set_index(['string_id', 'module_id'])\n",
    "aggregated_normal_hits.groupby(level=[0,1]).count().head()"
   ],
   "metadata": {
    "collapsed": false
   }
  },
  {
   "cell_type": "code",
   "execution_count": 8,
   "outputs": [
    {
     "data": {
      "text/plain": "                      time  pmt_id  record_id\nstring_id module_id                          \n0         0          64464   64464      64464\n          1          16465   16465      16465\n          2           4117    4117       4117",
      "text/html": "<div>\n<style scoped>\n    .dataframe tbody tr th:only-of-type {\n        vertical-align: middle;\n    }\n\n    .dataframe tbody tr th {\n        vertical-align: top;\n    }\n\n    .dataframe thead th {\n        text-align: right;\n    }\n</style>\n<table border=\"1\" class=\"dataframe\">\n  <thead>\n    <tr style=\"text-align: right;\">\n      <th></th>\n      <th></th>\n      <th>time</th>\n      <th>pmt_id</th>\n      <th>record_id</th>\n    </tr>\n    <tr>\n      <th>string_id</th>\n      <th>module_id</th>\n      <th></th>\n      <th></th>\n      <th></th>\n    </tr>\n  </thead>\n  <tbody>\n    <tr>\n      <th rowspan=\"3\" valign=\"top\">0</th>\n      <th>0</th>\n      <td>64464</td>\n      <td>64464</td>\n      <td>64464</td>\n    </tr>\n    <tr>\n      <th>1</th>\n      <td>16465</td>\n      <td>16465</td>\n      <td>16465</td>\n    </tr>\n    <tr>\n      <th>2</th>\n      <td>4117</td>\n      <td>4117</td>\n      <td>4117</td>\n    </tr>\n  </tbody>\n</table>\n</div>"
     },
     "execution_count": 8,
     "metadata": {},
     "output_type": "execute_result"
    }
   ],
   "source": [
    "aggregated_normal_hits = normal_hits.df.set_index(['string_id', 'module_id'])\n",
    "aggregated_normal_hits.groupby(level=[0,1]).count().head()"
   ],
   "metadata": {
    "collapsed": false
   }
  }
 ],
 "metadata": {
  "kernelspec": {
   "display_name": "Python 3 (ipykernel)",
   "language": "python",
   "name": "python3"
  },
  "language_info": {
   "codemirror_mode": {
    "name": "ipython",
    "version": 3
   },
   "file_extension": ".py",
   "mimetype": "text/x-python",
   "name": "python",
   "nbconvert_exporter": "python",
   "pygments_lexer": "ipython3",
   "version": "3.8.10"
  }
 },
 "nbformat": 4,
 "nbformat_minor": 1
}
