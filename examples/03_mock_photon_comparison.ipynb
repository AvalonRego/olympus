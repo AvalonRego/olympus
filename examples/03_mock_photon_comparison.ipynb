{
 "cells": [
  {
   "cell_type": "markdown",
   "metadata": {},
   "source": [
    "# 03. Mock Photon Comparison\n",
    "\n",
    "In this Notebook we compare the mock photon propagation with the existing methods like the normal flow. To do that, we generate a line detector and a couple of events that we propagate using each propagator."
   ]
  },
  {
   "cell_type": "code",
   "execution_count": null,
   "metadata": {
    "pycharm": {
     "name": "#%%\n"
    }
   },
   "outputs": [],
   "source": [
    "import pandas as pd\n",
    "\n",
    "from ananke.configurations.detector import DetectorConfiguration\n",
    "from ananke.services.detector import DetectorBuilderService\n",
    "from olympus.event_generation.generators import get_generator\n",
    "from olympus.event_generation.medium import MediumEstimationVariant, Medium\n",
    "from olympus.event_generation.photon_propagation.mock_photons import MockPhotonPropagator\n",
    "from olympus.event_generation.photon_propagation.norm_flow_photons import NormalFlowPhotonPropagator\n",
    "from olympus.configuration.generators import GenerationConfiguration\n",
    "from olympus.configuration.photon_propagation import MockPhotonPropagatorConfiguration, NormalFlowPhotonPropagatorConfiguration"
   ]
  },
  {
   "cell_type": "markdown",
   "metadata": {},
   "source": [
    "Let's define the detector next:"
   ]
  },
  {
   "cell_type": "code",
   "execution_count": null,
   "metadata": {},
   "outputs": [],
   "source": [
    "oms_per_line = 20\n",
    "dist_z = 50  # m\n",
    "dark_noise_rate = 16 * 1e-5  # 1/ns\n",
    "side_len = 100  # m\n",
    "pmts_per_module = 16\n",
    "pmt_cath_area_r = 75e-3 / 2  # m\n",
    "module_radius = 0.21  # m\n",
    "efficiency = 0.42 # Christian S. Number\n",
    "\n",
    "detector_configuration = DetectorConfiguration.parse_obj(\n",
    "    {\n",
    "        \"string\": {\n",
    "            \"module_number\": oms_per_line,\n",
    "            \"module_distance\": dist_z\n",
    "        },\n",
    "        \"pmt\": {\n",
    "            \"efficiency\": efficiency,\n",
    "            \"noise_rate\": dark_noise_rate,\n",
    "            \"area\": pmt_cath_area_r\n",
    "        },\n",
    "        \"module\": {\n",
    "            \"radius\": module_radius\n",
    "        },\n",
    "        \"geometry\": {\n",
    "            \"type\": \"single\",\n",
    "        },\n",
    "        \"seed\": 31338\n",
    "    }\n",
    ")\n",
    "\n",
    "detector_service = DetectorBuilderService()\n",
    "det = detector_service.get(configuration=detector_configuration)"
   ]
  },
  {
   "cell_type": "code",
   "execution_count": null,
   "metadata": {},
   "outputs": [],
   "source": [
    "det.df[['module_location_x', 'module_location_y', 'module_location_z']].drop_duplicates()"
   ]
  },
  {
   "cell_type": "markdown",
   "metadata": {},
   "source": [
    "Next up we generate our events:"
   ]
  },
  {
   "cell_type": "code",
   "execution_count": null,
   "metadata": {},
   "outputs": [],
   "source": [
    "configuration = GenerationConfiguration.parse_obj({\n",
    "    'generator': {\n",
    "        'type': 'cascade',\n",
    "        'spectrum': {\n",
    "            'log_minimal_energy': 2.0,\n",
    "            'log_maximal_energy': 5.5,\n",
    "        }\n",
    "    },\n",
    "    'number_of_samples': 2\n",
    "})\n",
    "\n",
    "cascades_generator = get_generator(\n",
    "    detector=det,\n",
    "    configuration=configuration.generator\n",
    ")\n",
    "\n",
    "records = cascades_generator.generate_records(\n",
    "    number_of_samples=2\n",
    ")\n",
    "\n",
    "sources = cascades_generator.propagate(records)\n",
    "\n",
    "records.df.head()"
   ]
  },
  {
   "cell_type": "code",
   "execution_count": null,
   "metadata": {},
   "outputs": [],
   "source": [
    "sources.df.head()"
   ]
  },
  {
   "cell_type": "markdown",
   "metadata": {},
   "source": [
    "Now we need our photon propagators"
   ]
  },
  {
   "cell_type": "code",
   "execution_count": null,
   "metadata": {},
   "outputs": [],
   "source": [
    "mock_photon_propagator_configuration = MockPhotonPropagatorConfiguration(resolution=18000)\n",
    "\n",
    "mock_photon_propagator = MockPhotonPropagator(\n",
    "    detector=det,\n",
    "    configuration=mock_photon_propagator_configuration\n",
    ")\n",
    "\n",
    "normal_photon_propagator_configuration = NormalFlowPhotonPropagatorConfiguration(\n",
    "    shape_model_path=\"../../hyperion/data/photon_arrival_time_nflow_params.pickle\",\n",
    "    counts_model_path=\"../../hyperion/data/photon_arrival_time_counts_params.pickle\"\n",
    ")\n",
    "\n",
    "normal_photon_propagator = NormalFlowPhotonPropagator(\n",
    "    detector=det,\n",
    "    configuration=normal_photon_propagator_configuration\n",
    ")"
   ]
  },
  {
   "cell_type": "markdown",
   "metadata": {},
   "source": [
    "Now lets Propagate:"
   ]
  },
  {
   "cell_type": "code",
   "execution_count": null,
   "metadata": {},
   "outputs": [],
   "source": [
    "mock_hits = mock_photon_propagator.propagate(records, sources)\n",
    "\n",
    "mock_hits.df.head()"
   ]
  },
  {
   "cell_type": "markdown",
   "metadata": {},
   "source": [
    "And doing the same with the normal photons."
   ]
  },
  {
   "cell_type": "code",
   "execution_count": null,
   "metadata": {},
   "outputs": [],
   "source": [
    "normal_hits = normal_photon_propagator.propagate(records, sources)\n",
    "\n",
    "normal_hits.df.head()"
   ]
  },
  {
   "cell_type": "markdown",
   "metadata": {},
   "source": [
    "## Comparison of the photon propagators\n",
    "\n",
    "Now that we have all the hits we want we can compare the following cases:\n",
    "\n",
    "1. number of hits per module\n",
    "2. hit arrival times"
   ]
  },
  {
   "cell_type": "markdown",
   "metadata": {},
   "source": [
    "\n",
    "### Number of hits per module\n",
    "\n",
    "Let's have a look at the mock propagation:"
   ]
  },
  {
   "cell_type": "code",
   "execution_count": null,
   "metadata": {},
   "outputs": [],
   "source": [
    "aggregated_mock_hits = mock_hits.df.set_index(['string_id', 'module_id'])\n",
    "aggregated_mock_hits.groupby(level=[0,1]).count().head()"
   ]
  },
  {
   "cell_type": "code",
   "execution_count": null,
   "metadata": {},
   "outputs": [],
   "source": [
    "aggregated_normal_hits = normal_hits.df.set_index(['string_id', 'module_id'])\n",
    "aggregated_normal_hits.groupby(level=[0,1]).count().head()"
   ]
  },
  {
   "cell_type": "code",
   "execution_count": null,
   "metadata": {},
   "outputs": [],
   "source": [
    "len(mock_hits)"
   ]
  },
  {
   "cell_type": "code",
   "execution_count": null,
   "metadata": {},
   "outputs": [],
   "source": [
    "len(normal_hits)"
   ]
  }
 ],
 "metadata": {
  "kernelspec": {
   "display_name": "Python 3 (ipykernel)",
   "language": "python",
   "name": "python3"
  },
  "language_info": {
   "codemirror_mode": {
    "name": "ipython",
    "version": 3
   },
   "file_extension": ".py",
   "mimetype": "text/x-python",
   "name": "python",
   "nbconvert_exporter": "python",
   "pygments_lexer": "ipython3",
   "version": "3.8.10"
  },
  "vscode": {
   "interpreter": {
    "hash": "e86999f1824034dbdb14ebf906ebf9c21e3a8155e445b8c75ae75940b1d2f271"
   }
  }
 },
 "nbformat": 4,
 "nbformat_minor": 1
}