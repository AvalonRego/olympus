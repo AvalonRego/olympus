{
 "cells": [
  {
   "cell_type": "markdown",
   "metadata": {},
   "source": [
    "# 03. Mock Photon Comparison\n",
    "\n",
    "In this Notebook we compare the mock photon propagation with the existing methods like the normal flow. To do that, we generate a line detector and a couple of events that we propagate using each propagator."
   ]
  },
  {
   "cell_type": "code",
   "execution_count": 2,
   "metadata": {},
   "outputs": [
    {
     "name": "stderr",
     "output_type": "stream",
     "text": [
      "WARNING:absl:No GPU/TPU found, falling back to CPU. (Set TF_CPP_MIN_LOG_LEVEL=0 and rerun for more info.)\n",
      "/home/janik/projects/master/env/lib/python3.8/site-packages/jax/_src/api_util.py:222: SyntaxWarning: Jitted function has invalid argnames {'interactions'} in static_argnames. Function does not take these args.This warning will be replaced by an error after 2022-08-20 at the earliest.\n",
      "  warnings.warn(f\"Jitted function has invalid argnames {invalid_argnames} \"\n",
      "2023-01-30 13:36:44.213445: W tensorflow/stream_executor/platform/default/dso_loader.cc:64] Could not load dynamic library 'libcudart.so.11.0'; dlerror: libcudart.so.11.0: cannot open shared object file: No such file or directory\n",
      "/home/janik/projects/master/env/lib/python3.8/site-packages/haiku/_src/data_structures.py:37: FutureWarning: jax.tree_structure is deprecated, and will be removed in a future release. Use jax.tree_util.tree_structure instead.\n",
      "  PyTreeDef = type(jax.tree_structure(None))\n"
     ]
    }
   ],
   "source": [
    "from ananke.configurations.presets.detector import single_line_configuration\n",
    "from ananke.services.detector import DetectorBuilderService\n",
    "from olympus.event_generation.generators import get_generator\n",
    "from olympus.event_generation.photon_propagation.mock_photons import MockPhotonPropagator\n",
    "from olympus.event_generation.photon_propagation.norm_flow_photons import NormalFlowPhotonPropagator\n",
    "from olympus.configuration.generators import DatasetConfiguration\n",
    "from olympus.configuration.photon_propagation import MockPhotonPropagatorConfiguration, NormalFlowPhotonPropagatorConfiguration"
   ]
  },
  {
   "cell_type": "markdown",
   "metadata": {},
   "source": [
    "Let's define the detector next:"
   ]
  },
  {
   "cell_type": "code",
   "execution_count": 3,
   "metadata": {},
   "outputs": [],
   "source": [
    "detector_service = DetectorBuilderService()\n",
    "det = detector_service.get(configuration=single_line_configuration)"
   ]
  },
  {
   "cell_type": "code",
   "execution_count": 4,
   "metadata": {},
   "outputs": [
    {
     "data": {
      "text/plain": "     module_location_x  module_location_y  module_location_z\n0                  0.0                0.0                0.0\n16                 0.0                0.0               50.0\n32                 0.0                0.0              100.0\n48                 0.0                0.0              150.0\n64                 0.0                0.0              200.0\n80                 0.0                0.0              250.0\n96                 0.0                0.0              300.0\n112                0.0                0.0              350.0\n128                0.0                0.0              400.0\n144                0.0                0.0              450.0\n160                0.0                0.0              500.0\n176                0.0                0.0              550.0\n192                0.0                0.0              600.0\n208                0.0                0.0              650.0\n224                0.0                0.0              700.0\n240                0.0                0.0              750.0\n256                0.0                0.0              800.0\n272                0.0                0.0              850.0\n288                0.0                0.0              900.0\n304                0.0                0.0              950.0",
      "text/html": "<div>\n<style scoped>\n    .dataframe tbody tr th:only-of-type {\n        vertical-align: middle;\n    }\n\n    .dataframe tbody tr th {\n        vertical-align: top;\n    }\n\n    .dataframe thead th {\n        text-align: right;\n    }\n</style>\n<table border=\"1\" class=\"dataframe\">\n  <thead>\n    <tr style=\"text-align: right;\">\n      <th></th>\n      <th>module_location_x</th>\n      <th>module_location_y</th>\n      <th>module_location_z</th>\n    </tr>\n  </thead>\n  <tbody>\n    <tr>\n      <th>0</th>\n      <td>0.0</td>\n      <td>0.0</td>\n      <td>0.0</td>\n    </tr>\n    <tr>\n      <th>16</th>\n      <td>0.0</td>\n      <td>0.0</td>\n      <td>50.0</td>\n    </tr>\n    <tr>\n      <th>32</th>\n      <td>0.0</td>\n      <td>0.0</td>\n      <td>100.0</td>\n    </tr>\n    <tr>\n      <th>48</th>\n      <td>0.0</td>\n      <td>0.0</td>\n      <td>150.0</td>\n    </tr>\n    <tr>\n      <th>64</th>\n      <td>0.0</td>\n      <td>0.0</td>\n      <td>200.0</td>\n    </tr>\n    <tr>\n      <th>80</th>\n      <td>0.0</td>\n      <td>0.0</td>\n      <td>250.0</td>\n    </tr>\n    <tr>\n      <th>96</th>\n      <td>0.0</td>\n      <td>0.0</td>\n      <td>300.0</td>\n    </tr>\n    <tr>\n      <th>112</th>\n      <td>0.0</td>\n      <td>0.0</td>\n      <td>350.0</td>\n    </tr>\n    <tr>\n      <th>128</th>\n      <td>0.0</td>\n      <td>0.0</td>\n      <td>400.0</td>\n    </tr>\n    <tr>\n      <th>144</th>\n      <td>0.0</td>\n      <td>0.0</td>\n      <td>450.0</td>\n    </tr>\n    <tr>\n      <th>160</th>\n      <td>0.0</td>\n      <td>0.0</td>\n      <td>500.0</td>\n    </tr>\n    <tr>\n      <th>176</th>\n      <td>0.0</td>\n      <td>0.0</td>\n      <td>550.0</td>\n    </tr>\n    <tr>\n      <th>192</th>\n      <td>0.0</td>\n      <td>0.0</td>\n      <td>600.0</td>\n    </tr>\n    <tr>\n      <th>208</th>\n      <td>0.0</td>\n      <td>0.0</td>\n      <td>650.0</td>\n    </tr>\n    <tr>\n      <th>224</th>\n      <td>0.0</td>\n      <td>0.0</td>\n      <td>700.0</td>\n    </tr>\n    <tr>\n      <th>240</th>\n      <td>0.0</td>\n      <td>0.0</td>\n      <td>750.0</td>\n    </tr>\n    <tr>\n      <th>256</th>\n      <td>0.0</td>\n      <td>0.0</td>\n      <td>800.0</td>\n    </tr>\n    <tr>\n      <th>272</th>\n      <td>0.0</td>\n      <td>0.0</td>\n      <td>850.0</td>\n    </tr>\n    <tr>\n      <th>288</th>\n      <td>0.0</td>\n      <td>0.0</td>\n      <td>900.0</td>\n    </tr>\n    <tr>\n      <th>304</th>\n      <td>0.0</td>\n      <td>0.0</td>\n      <td>950.0</td>\n    </tr>\n  </tbody>\n</table>\n</div>"
     },
     "execution_count": 4,
     "metadata": {},
     "output_type": "execute_result"
    }
   ],
   "source": [
    "det.df[['module_location_x', 'module_location_y', 'module_location_z']].drop_duplicates()"
   ]
  },
  {
   "cell_type": "markdown",
   "metadata": {},
   "source": [
    "Next up we generate our events:"
   ]
  },
  {
   "cell_type": "code",
   "execution_count": 7,
   "metadata": {},
   "outputs": [
    {
     "data": {
      "text/plain": "   location_x  location_y  location_z  orientation_x  orientation_y  \\\n0   42.151271   -3.693700 -221.257582      -0.186077      -0.861640   \n1   25.837680   12.317769  597.338950      -0.161914      -0.749751   \n\n   orientation_z            record_id      energy  length  time     type  \\\n0      -0.472178 -3639980863655374355  838.859127  3000.0   0.0  cascade   \n1      -0.641605 -3639979918762569235  423.830054  3000.0   0.0  cascade   \n\n   particle_id  \n0           11  \n1           11  ",
      "text/html": "<div>\n<style scoped>\n    .dataframe tbody tr th:only-of-type {\n        vertical-align: middle;\n    }\n\n    .dataframe tbody tr th {\n        vertical-align: top;\n    }\n\n    .dataframe thead th {\n        text-align: right;\n    }\n</style>\n<table border=\"1\" class=\"dataframe\">\n  <thead>\n    <tr style=\"text-align: right;\">\n      <th></th>\n      <th>location_x</th>\n      <th>location_y</th>\n      <th>location_z</th>\n      <th>orientation_x</th>\n      <th>orientation_y</th>\n      <th>orientation_z</th>\n      <th>record_id</th>\n      <th>energy</th>\n      <th>length</th>\n      <th>time</th>\n      <th>type</th>\n      <th>particle_id</th>\n    </tr>\n  </thead>\n  <tbody>\n    <tr>\n      <th>0</th>\n      <td>42.151271</td>\n      <td>-3.693700</td>\n      <td>-221.257582</td>\n      <td>-0.186077</td>\n      <td>-0.861640</td>\n      <td>-0.472178</td>\n      <td>-3639980863655374355</td>\n      <td>838.859127</td>\n      <td>3000.0</td>\n      <td>0.0</td>\n      <td>cascade</td>\n      <td>11</td>\n    </tr>\n    <tr>\n      <th>1</th>\n      <td>25.837680</td>\n      <td>12.317769</td>\n      <td>597.338950</td>\n      <td>-0.161914</td>\n      <td>-0.749751</td>\n      <td>-0.641605</td>\n      <td>-3639979918762569235</td>\n      <td>423.830054</td>\n      <td>3000.0</td>\n      <td>0.0</td>\n      <td>cascade</td>\n      <td>11</td>\n    </tr>\n  </tbody>\n</table>\n</div>"
     },
     "execution_count": 7,
     "metadata": {},
     "output_type": "execute_result"
    }
   ],
   "source": [
    "configuration = DatasetConfiguration.parse_obj({\n",
    "    'generator': {\n",
    "        'type': 'cascade',\n",
    "        'spectrum': {\n",
    "            'log_minimal_energy': 2.0,\n",
    "            'log_maximal_energy': 5.5,\n",
    "        }\n",
    "    },\n",
    "    'number_of_samples': 2\n",
    "})\n",
    "\n",
    "cascades_generator = get_generator(\n",
    "    detector=det,\n",
    "    configuration=configuration.generator\n",
    ")\n",
    "\n",
    "records = cascades_generator.generate_records(\n",
    "    number_of_samples=configuration.number_of_samples\n",
    ")\n",
    "\n",
    "sources = cascades_generator.propagate(records)\n",
    "\n",
    "records.df.head()"
   ]
  },
  {
   "cell_type": "code",
   "execution_count": 8,
   "metadata": {},
   "outputs": [
    {
     "data": {
      "text/plain": "   location_x  location_y  location_z  orientation_x  orientation_y  \\\n0   42.146339   -3.696871 -221.463745      -0.186077       -0.86164   \n1   42.038254   -3.858296 -221.550156      -0.186077       -0.86164   \n2   42.093220   -4.064077 -221.619873      -0.186077       -0.86164   \n3   41.849957   -4.267915 -221.575607      -0.186077       -0.86164   \n4   41.891029   -4.522918 -221.550034      -0.186077       -0.86164   \n\n   orientation_z            record_id      time  number_of_photons       type  \n0      -0.472178 -3639980863655374355  0.336900                832  cherenkov  \n1      -0.472178 -3639980863655374355  1.004028              46121  cherenkov  \n2      -0.472178 -3639980863655374355  1.671156             394202  cherenkov  \n3      -0.472178 -3639980863655374355  2.338284            1548311  cherenkov  \n4      -0.472178 -3639980863655374355  3.005413            4015380  cherenkov  ",
      "text/html": "<div>\n<style scoped>\n    .dataframe tbody tr th:only-of-type {\n        vertical-align: middle;\n    }\n\n    .dataframe tbody tr th {\n        vertical-align: top;\n    }\n\n    .dataframe thead th {\n        text-align: right;\n    }\n</style>\n<table border=\"1\" class=\"dataframe\">\n  <thead>\n    <tr style=\"text-align: right;\">\n      <th></th>\n      <th>location_x</th>\n      <th>location_y</th>\n      <th>location_z</th>\n      <th>orientation_x</th>\n      <th>orientation_y</th>\n      <th>orientation_z</th>\n      <th>record_id</th>\n      <th>time</th>\n      <th>number_of_photons</th>\n      <th>type</th>\n    </tr>\n  </thead>\n  <tbody>\n    <tr>\n      <th>0</th>\n      <td>42.146339</td>\n      <td>-3.696871</td>\n      <td>-221.463745</td>\n      <td>-0.186077</td>\n      <td>-0.86164</td>\n      <td>-0.472178</td>\n      <td>-3639980863655374355</td>\n      <td>0.336900</td>\n      <td>832</td>\n      <td>cherenkov</td>\n    </tr>\n    <tr>\n      <th>1</th>\n      <td>42.038254</td>\n      <td>-3.858296</td>\n      <td>-221.550156</td>\n      <td>-0.186077</td>\n      <td>-0.86164</td>\n      <td>-0.472178</td>\n      <td>-3639980863655374355</td>\n      <td>1.004028</td>\n      <td>46121</td>\n      <td>cherenkov</td>\n    </tr>\n    <tr>\n      <th>2</th>\n      <td>42.093220</td>\n      <td>-4.064077</td>\n      <td>-221.619873</td>\n      <td>-0.186077</td>\n      <td>-0.86164</td>\n      <td>-0.472178</td>\n      <td>-3639980863655374355</td>\n      <td>1.671156</td>\n      <td>394202</td>\n      <td>cherenkov</td>\n    </tr>\n    <tr>\n      <th>3</th>\n      <td>41.849957</td>\n      <td>-4.267915</td>\n      <td>-221.575607</td>\n      <td>-0.186077</td>\n      <td>-0.86164</td>\n      <td>-0.472178</td>\n      <td>-3639980863655374355</td>\n      <td>2.338284</td>\n      <td>1548311</td>\n      <td>cherenkov</td>\n    </tr>\n    <tr>\n      <th>4</th>\n      <td>41.891029</td>\n      <td>-4.522918</td>\n      <td>-221.550034</td>\n      <td>-0.186077</td>\n      <td>-0.86164</td>\n      <td>-0.472178</td>\n      <td>-3639980863655374355</td>\n      <td>3.005413</td>\n      <td>4015380</td>\n      <td>cherenkov</td>\n    </tr>\n  </tbody>\n</table>\n</div>"
     },
     "execution_count": 8,
     "metadata": {},
     "output_type": "execute_result"
    }
   ],
   "source": [
    "sources.df.head()"
   ]
  },
  {
   "cell_type": "markdown",
   "metadata": {},
   "source": [
    "Now we need our photon propagators"
   ]
  },
  {
   "cell_type": "code",
   "execution_count": 9,
   "metadata": {},
   "outputs": [
    {
     "name": "stderr",
     "output_type": "stream",
     "text": [
      "/home/janik/projects/master/env/lib/python3.8/site-packages/haiku/_src/data_structures.py:206: FutureWarning: jax.tree_flatten is deprecated, and will be removed in a future release. Use jax.tree_util.tree_flatten instead.\n",
      "  leaves, structure = jax.tree_flatten(mapping)\n"
     ]
    }
   ],
   "source": [
    "mock_photon_propagator_configuration = MockPhotonPropagatorConfiguration(resolution=18000)\n",
    "\n",
    "mock_photon_propagator = MockPhotonPropagator(\n",
    "    detector=det,\n",
    "    configuration=mock_photon_propagator_configuration\n",
    ")\n",
    "\n",
    "normal_photon_propagator_configuration = NormalFlowPhotonPropagatorConfiguration(\n",
    "    shape_model_path=\"../../hyperion/data/photon_arrival_time_nflow_params.pickle\",\n",
    "    counts_model_path=\"../../hyperion/data/photon_arrival_time_counts_params.pickle\"\n",
    ")\n",
    "\n",
    "normal_photon_propagator = NormalFlowPhotonPropagator(\n",
    "    detector=det,\n",
    "    configuration=normal_photon_propagator_configuration\n",
    ")"
   ]
  },
  {
   "cell_type": "markdown",
   "metadata": {},
   "source": [
    "Now lets Propagate:"
   ]
  },
  {
   "cell_type": "code",
   "execution_count": 10,
   "metadata": {
    "pycharm": {
     "name": "#%%\n"
    }
   },
   "outputs": [
    {
     "data": {
      "text/plain": "        time  string_id  module_id  pmt_id            record_id     type\n0   6.681831          0          9       1 -3639979918762569235  cascade\n1  12.337061          0          9       1 -3639979918762569235  cascade\n2   7.632030          0          9       1 -3639979918762569235  cascade\n3   8.672955          0          9       1 -3639979918762569235  cascade\n4  14.230761          0          9       1 -3639979918762569235  cascade",
      "text/html": "<div>\n<style scoped>\n    .dataframe tbody tr th:only-of-type {\n        vertical-align: middle;\n    }\n\n    .dataframe tbody tr th {\n        vertical-align: top;\n    }\n\n    .dataframe thead th {\n        text-align: right;\n    }\n</style>\n<table border=\"1\" class=\"dataframe\">\n  <thead>\n    <tr style=\"text-align: right;\">\n      <th></th>\n      <th>time</th>\n      <th>string_id</th>\n      <th>module_id</th>\n      <th>pmt_id</th>\n      <th>record_id</th>\n      <th>type</th>\n    </tr>\n  </thead>\n  <tbody>\n    <tr>\n      <th>0</th>\n      <td>6.681831</td>\n      <td>0</td>\n      <td>9</td>\n      <td>1</td>\n      <td>-3639979918762569235</td>\n      <td>cascade</td>\n    </tr>\n    <tr>\n      <th>1</th>\n      <td>12.337061</td>\n      <td>0</td>\n      <td>9</td>\n      <td>1</td>\n      <td>-3639979918762569235</td>\n      <td>cascade</td>\n    </tr>\n    <tr>\n      <th>2</th>\n      <td>7.632030</td>\n      <td>0</td>\n      <td>9</td>\n      <td>1</td>\n      <td>-3639979918762569235</td>\n      <td>cascade</td>\n    </tr>\n    <tr>\n      <th>3</th>\n      <td>8.672955</td>\n      <td>0</td>\n      <td>9</td>\n      <td>1</td>\n      <td>-3639979918762569235</td>\n      <td>cascade</td>\n    </tr>\n    <tr>\n      <th>4</th>\n      <td>14.230761</td>\n      <td>0</td>\n      <td>9</td>\n      <td>1</td>\n      <td>-3639979918762569235</td>\n      <td>cascade</td>\n    </tr>\n  </tbody>\n</table>\n</div>"
     },
     "execution_count": 10,
     "metadata": {},
     "output_type": "execute_result"
    }
   ],
   "source": [
    "mock_hits = mock_photon_propagator.propagate(records, sources, use_multiprocessing=False)\n",
    "\n",
    "mock_hits.df.head()"
   ]
  },
  {
   "cell_type": "markdown",
   "metadata": {},
   "source": [
    "And doing the same with the normal photons."
   ]
  },
  {
   "cell_type": "code",
   "execution_count": 11,
   "metadata": {},
   "outputs": [
    {
     "name": "stderr",
     "output_type": "stream",
     "text": [
      "/home/janik/projects/master/env/lib/python3.8/site-packages/haiku/_src/data_structures.py:206: FutureWarning: jax.tree_flatten is deprecated, and will be removed in a future release. Use jax.tree_util.tree_flatten instead.\n",
      "  leaves, structure = jax.tree_flatten(mapping)\n",
      "/home/janik/projects/master/env/lib/python3.8/site-packages/haiku/_src/data_structures.py:206: FutureWarning: jax.tree_flatten is deprecated, and will be removed in a future release. Use jax.tree_util.tree_flatten instead.\n",
      "  leaves, structure = jax.tree_flatten(mapping)\n",
      "/home/janik/projects/master/env/lib/python3.8/site-packages/haiku/_src/data_structures.py:206: FutureWarning: jax.tree_flatten is deprecated, and will be removed in a future release. Use jax.tree_util.tree_flatten instead.\n",
      "  leaves, structure = jax.tree_flatten(mapping)\n"
     ]
    },
    {
     "data": {
      "text/plain": "        time  string_id  module_id  pmt_id            record_id     type\n0   8.689281          0          7       4 -3639979918762569235  cascade\n0  61.373062          0          8       2 -3639979918762569235  cascade\n0  19.784624          0          8       4 -3639979918762569235  cascade\n0  15.451541          0          8       9 -3639979918762569235  cascade\n0  18.989155          0          8      10 -3639979918762569235  cascade",
      "text/html": "<div>\n<style scoped>\n    .dataframe tbody tr th:only-of-type {\n        vertical-align: middle;\n    }\n\n    .dataframe tbody tr th {\n        vertical-align: top;\n    }\n\n    .dataframe thead th {\n        text-align: right;\n    }\n</style>\n<table border=\"1\" class=\"dataframe\">\n  <thead>\n    <tr style=\"text-align: right;\">\n      <th></th>\n      <th>time</th>\n      <th>string_id</th>\n      <th>module_id</th>\n      <th>pmt_id</th>\n      <th>record_id</th>\n      <th>type</th>\n    </tr>\n  </thead>\n  <tbody>\n    <tr>\n      <th>0</th>\n      <td>8.689281</td>\n      <td>0</td>\n      <td>7</td>\n      <td>4</td>\n      <td>-3639979918762569235</td>\n      <td>cascade</td>\n    </tr>\n    <tr>\n      <th>0</th>\n      <td>61.373062</td>\n      <td>0</td>\n      <td>8</td>\n      <td>2</td>\n      <td>-3639979918762569235</td>\n      <td>cascade</td>\n    </tr>\n    <tr>\n      <th>0</th>\n      <td>19.784624</td>\n      <td>0</td>\n      <td>8</td>\n      <td>4</td>\n      <td>-3639979918762569235</td>\n      <td>cascade</td>\n    </tr>\n    <tr>\n      <th>0</th>\n      <td>15.451541</td>\n      <td>0</td>\n      <td>8</td>\n      <td>9</td>\n      <td>-3639979918762569235</td>\n      <td>cascade</td>\n    </tr>\n    <tr>\n      <th>0</th>\n      <td>18.989155</td>\n      <td>0</td>\n      <td>8</td>\n      <td>10</td>\n      <td>-3639979918762569235</td>\n      <td>cascade</td>\n    </tr>\n  </tbody>\n</table>\n</div>"
     },
     "execution_count": 11,
     "metadata": {},
     "output_type": "execute_result"
    }
   ],
   "source": [
    "normal_hits = normal_photon_propagator.propagate(records, sources)\n",
    "\n",
    "normal_hits.df.head()"
   ]
  },
  {
   "cell_type": "markdown",
   "metadata": {},
   "source": [
    "## Comparison of the photon propagators\n",
    "\n",
    "Now that we have all the hits we want we can compare the following cases:\n",
    "\n",
    "1. number of hits per module\n",
    "2. hit arrival times"
   ]
  },
  {
   "cell_type": "markdown",
   "metadata": {},
   "source": [
    "\n",
    "### Number of hits per module\n",
    "\n",
    "Let's have a look at the mock propagation:"
   ]
  },
  {
   "cell_type": "code",
   "execution_count": 12,
   "metadata": {},
   "outputs": [
    {
     "data": {
      "text/plain": "                     time  pmt_id  record_id  type\nstring_id module_id                               \n0         9           211     211        211   211\n          10         2738    2738       2738  2738\n          11         9810    9810       9810  9810\n          12         2247    2247       2247  2247\n          13           66      66         66    66",
      "text/html": "<div>\n<style scoped>\n    .dataframe tbody tr th:only-of-type {\n        vertical-align: middle;\n    }\n\n    .dataframe tbody tr th {\n        vertical-align: top;\n    }\n\n    .dataframe thead th {\n        text-align: right;\n    }\n</style>\n<table border=\"1\" class=\"dataframe\">\n  <thead>\n    <tr style=\"text-align: right;\">\n      <th></th>\n      <th></th>\n      <th>time</th>\n      <th>pmt_id</th>\n      <th>record_id</th>\n      <th>type</th>\n    </tr>\n    <tr>\n      <th>string_id</th>\n      <th>module_id</th>\n      <th></th>\n      <th></th>\n      <th></th>\n      <th></th>\n    </tr>\n  </thead>\n  <tbody>\n    <tr>\n      <th rowspan=\"5\" valign=\"top\">0</th>\n      <th>9</th>\n      <td>211</td>\n      <td>211</td>\n      <td>211</td>\n      <td>211</td>\n    </tr>\n    <tr>\n      <th>10</th>\n      <td>2738</td>\n      <td>2738</td>\n      <td>2738</td>\n      <td>2738</td>\n    </tr>\n    <tr>\n      <th>11</th>\n      <td>9810</td>\n      <td>9810</td>\n      <td>9810</td>\n      <td>9810</td>\n    </tr>\n    <tr>\n      <th>12</th>\n      <td>2247</td>\n      <td>2247</td>\n      <td>2247</td>\n      <td>2247</td>\n    </tr>\n    <tr>\n      <th>13</th>\n      <td>66</td>\n      <td>66</td>\n      <td>66</td>\n      <td>66</td>\n    </tr>\n  </tbody>\n</table>\n</div>"
     },
     "execution_count": 12,
     "metadata": {},
     "output_type": "execute_result"
    }
   ],
   "source": [
    "aggregated_mock_hits = mock_hits.df.set_index(['string_id', 'module_id'])\n",
    "aggregated_mock_hits.groupby(level=[0,1]).count().head()"
   ]
  },
  {
   "cell_type": "code",
   "execution_count": 13,
   "metadata": {},
   "outputs": [
    {
     "data": {
      "text/plain": "                     time  pmt_id  record_id  type\nstring_id module_id                               \n0         7             1       1          1     1\n          8             7       7          7     7\n          9            27      27         27    27\n          10          223     223        223   223\n          11         1620    1620       1620  1620",
      "text/html": "<div>\n<style scoped>\n    .dataframe tbody tr th:only-of-type {\n        vertical-align: middle;\n    }\n\n    .dataframe tbody tr th {\n        vertical-align: top;\n    }\n\n    .dataframe thead th {\n        text-align: right;\n    }\n</style>\n<table border=\"1\" class=\"dataframe\">\n  <thead>\n    <tr style=\"text-align: right;\">\n      <th></th>\n      <th></th>\n      <th>time</th>\n      <th>pmt_id</th>\n      <th>record_id</th>\n      <th>type</th>\n    </tr>\n    <tr>\n      <th>string_id</th>\n      <th>module_id</th>\n      <th></th>\n      <th></th>\n      <th></th>\n      <th></th>\n    </tr>\n  </thead>\n  <tbody>\n    <tr>\n      <th rowspan=\"5\" valign=\"top\">0</th>\n      <th>7</th>\n      <td>1</td>\n      <td>1</td>\n      <td>1</td>\n      <td>1</td>\n    </tr>\n    <tr>\n      <th>8</th>\n      <td>7</td>\n      <td>7</td>\n      <td>7</td>\n      <td>7</td>\n    </tr>\n    <tr>\n      <th>9</th>\n      <td>27</td>\n      <td>27</td>\n      <td>27</td>\n      <td>27</td>\n    </tr>\n    <tr>\n      <th>10</th>\n      <td>223</td>\n      <td>223</td>\n      <td>223</td>\n      <td>223</td>\n    </tr>\n    <tr>\n      <th>11</th>\n      <td>1620</td>\n      <td>1620</td>\n      <td>1620</td>\n      <td>1620</td>\n    </tr>\n  </tbody>\n</table>\n</div>"
     },
     "execution_count": 13,
     "metadata": {},
     "output_type": "execute_result"
    }
   ],
   "source": [
    "aggregated_normal_hits = normal_hits.df.set_index(['string_id', 'module_id'])\n",
    "aggregated_normal_hits.groupby(level=[0,1]).count().head()"
   ]
  },
  {
   "cell_type": "code",
   "execution_count": 14,
   "metadata": {},
   "outputs": [
    {
     "data": {
      "text/plain": "15072"
     },
     "execution_count": 14,
     "metadata": {},
     "output_type": "execute_result"
    }
   ],
   "source": [
    "len(mock_hits)"
   ]
  },
  {
   "cell_type": "code",
   "execution_count": 15,
   "metadata": {},
   "outputs": [
    {
     "data": {
      "text/plain": "3803"
     },
     "execution_count": 15,
     "metadata": {},
     "output_type": "execute_result"
    }
   ],
   "source": [
    "len(normal_hits)"
   ]
  }
 ],
 "metadata": {
  "kernelspec": {
   "display_name": "Python 3 (ipykernel)",
   "language": "python",
   "name": "python3"
  },
  "language_info": {
   "codemirror_mode": {
    "name": "ipython",
    "version": 3
   },
   "file_extension": ".py",
   "mimetype": "text/x-python",
   "name": "python",
   "nbconvert_exporter": "python",
   "pygments_lexer": "ipython3",
   "version": "3.8.10"
  },
  "vscode": {
   "interpreter": {
    "hash": "e86999f1824034dbdb14ebf906ebf9c21e3a8155e445b8c75ae75940b1d2f271"
   }
  }
 },
 "nbformat": 4,
 "nbformat_minor": 1
}
