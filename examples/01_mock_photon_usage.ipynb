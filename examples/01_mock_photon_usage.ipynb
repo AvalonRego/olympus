{
 "cells": [
  {
   "cell_type": "markdown",
   "metadata": {
    "pycharm": {
     "name": "#%% md\n"
    }
   },
   "source": [
    "# Mock Photon Simulation - Usage\n",
    "\n",
    "This Notebook serves the purpose to show how you can use the Mock Photon propagation. Let's start with the imports"
   ]
  },
  {
   "cell_type": "code",
   "execution_count": 1,
   "metadata": {
    "pycharm": {
     "name": "#%%\n"
    }
   },
   "outputs": [],
   "source": [
    "import sys\n",
    "\n",
    "sys.path.append('../')\n",
    "\n",
    "from olympus.configuration.generators import EventGeneratorConfiguration\n",
    "from olympus.configuration.generators import GenerationConfiguration\n",
    "from olympus.event_generation.medium import MediumEstimationVariant\n",
    "from olympus.configuration.generators import UniformSpectrumConfiguration\n",
    "from ananke.schemas.event import EventType\n",
    "from olympus.configuration.photon_propagation import MockPhotonPropagatorConfiguration\n",
    "from olympus.configuration.generators import DatasetConfiguration\n",
    "\n",
    "\n"
   ]
  },
  {
   "cell_type": "markdown",
   "metadata": {
    "pycharm": {
     "name": "#%% md\n"
    }
   },
   "source": [
    "\n",
    "\n",
    "### Use Mock Photon Simulation in Pipeline\n",
    "\n",
    "You should not be obliged to actually call the Simulation itself. Rather than that you should pass it to the generation pipeline. For the optimal pipeline, we need a generator, the hit type we want to generate and a photon propagator, where we will use the mock propagator"
   ]
  },
  {
   "cell_type": "code",
   "execution_count": 2,
   "metadata": {
    "pycharm": {
     "name": "#%%\n"
    }
   },
   "outputs": [
    {
     "name": "stderr",
     "output_type": "stream",
     "text": [
      "No GPU/TPU found, falling back to CPU. (Set TF_CPP_MIN_LOG_LEVEL=0 and rerun for more info.)\n",
      "/home/janik/.cache/pypoetry/virtualenvs/olympus-1oPZF7Jr-py3.10/lib/python3.10/site-packages/jax/_src/api_util.py:240: SyntaxWarning: Jitted function has invalid argnames {'interactions'} in static_argnames. Function does not take these args.This warning will be replaced by an error after 2022-08-20 at the earliest.\n",
      "  warnings.warn(f\"Jitted function has invalid argnames {invalid_argnames} \"\n"
     ]
    },
    {
     "ename": "ModuleNotFoundError",
     "evalue": "No module named 'distrax'",
     "output_type": "error",
     "traceback": [
      "\u001B[0;31m---------------------------------------------------------------------------\u001B[0m",
      "\u001B[0;31mModuleNotFoundError\u001B[0m                       Traceback (most recent call last)",
      "Cell \u001B[0;32mIn[2], line 3\u001B[0m\n\u001B[1;32m      1\u001B[0m \u001B[38;5;28;01mfrom\u001B[39;00m \u001B[38;5;21;01mananke\u001B[39;00m\u001B[38;5;21;01m.\u001B[39;00m\u001B[38;5;21;01mconfigurations\u001B[39;00m\u001B[38;5;21;01m.\u001B[39;00m\u001B[38;5;21;01mcollection\u001B[39;00m \u001B[38;5;28;01mimport\u001B[39;00m HDF5StorageConfiguration\n\u001B[1;32m      2\u001B[0m \u001B[38;5;28;01mfrom\u001B[39;00m \u001B[38;5;21;01mananke\u001B[39;00m\u001B[38;5;21;01m.\u001B[39;00m\u001B[38;5;21;01mconfigurations\u001B[39;00m\u001B[38;5;21;01m.\u001B[39;00m\u001B[38;5;21;01mpresets\u001B[39;00m\u001B[38;5;21;01m.\u001B[39;00m\u001B[38;5;21;01mdetector\u001B[39;00m \u001B[38;5;28;01mimport\u001B[39;00m single_line_configuration\n\u001B[0;32m----> 3\u001B[0m \u001B[38;5;28;01mfrom\u001B[39;00m \u001B[38;5;21;01molympus\u001B[39;00m\u001B[38;5;21;01m.\u001B[39;00m\u001B[38;5;21;01mevent_generation\u001B[39;00m\u001B[38;5;21;01m.\u001B[39;00m\u001B[38;5;21;01mgenerators\u001B[39;00m \u001B[38;5;28;01mimport\u001B[39;00m generate\n\u001B[1;32m      5\u001B[0m photon_propagator_configuration \u001B[38;5;241m=\u001B[39m MockPhotonPropagatorConfiguration(\n\u001B[1;32m      6\u001B[0m     resolution\u001B[38;5;241m=\u001B[39m\u001B[38;5;241m18000\u001B[39m,\n\u001B[1;32m      7\u001B[0m     medium\u001B[38;5;241m=\u001B[39mMediumEstimationVariant\u001B[38;5;241m.\u001B[39mPONE_OPTIMISTIC\n\u001B[1;32m      8\u001B[0m )\n\u001B[1;32m     10\u001B[0m configuration \u001B[38;5;241m=\u001B[39m DatasetConfiguration(\n\u001B[1;32m     11\u001B[0m     detector\u001B[38;5;241m=\u001B[39msingle_line_configuration,\n\u001B[1;32m     12\u001B[0m     generators\u001B[38;5;241m=\u001B[39m[\n\u001B[0;32m   (...)\u001B[0m\n\u001B[1;32m     25\u001B[0m     storage\u001B[38;5;241m=\u001B[39mHDF5StorageConfiguration(data_path\u001B[38;5;241m=\u001B[39m \u001B[38;5;124m\"\u001B[39m\u001B[38;5;124mdata/mock_photon_usage\u001B[39m\u001B[38;5;124m\"\u001B[39m)\n\u001B[1;32m     26\u001B[0m )\n",
      "File \u001B[0;32m~/projects/master/olympus/olympus/event_generation/generators.py:32\u001B[0m\n\u001B[1;32m     26\u001B[0m \u001B[38;5;28;01mfrom\u001B[39;00m \u001B[38;5;21;01m.\u001B[39;00m\u001B[38;5;21;01mdetector\u001B[39;00m \u001B[38;5;28;01mimport\u001B[39;00m sample_direction\n\u001B[1;32m     27\u001B[0m \u001B[38;5;28;01mfrom\u001B[39;00m \u001B[38;5;21;01m.\u001B[39;00m\u001B[38;5;21;01minjectors\u001B[39;00m \u001B[38;5;28;01mimport\u001B[39;00m (\n\u001B[1;32m     28\u001B[0m     AbstractInjector,\n\u001B[1;32m     29\u001B[0m     SurfaceInjector,\n\u001B[1;32m     30\u001B[0m     VolumeInjector,\n\u001B[1;32m     31\u001B[0m )\n\u001B[0;32m---> 32\u001B[0m \u001B[38;5;28;01mfrom\u001B[39;00m \u001B[38;5;21;01m.\u001B[39;00m\u001B[38;5;21;01mphoton_propagation\u001B[39;00m\u001B[38;5;21;01m.\u001B[39;00m\u001B[38;5;21;01mfactory\u001B[39;00m \u001B[38;5;28;01mimport\u001B[39;00m get_photon_propagator\n\u001B[1;32m     33\u001B[0m \u001B[38;5;28;01mfrom\u001B[39;00m \u001B[38;5;21;01m.\u001B[39;00m\u001B[38;5;21;01mpropagators\u001B[39;00m \u001B[38;5;28;01mimport\u001B[39;00m (\n\u001B[1;32m     34\u001B[0m     AbstractPropagator,\n\u001B[1;32m     35\u001B[0m     CascadePropagator,\n\u001B[1;32m     36\u001B[0m     StartingTrackPropagator,\n\u001B[1;32m     37\u001B[0m     TrackPropagator,\n\u001B[1;32m     38\u001B[0m )\n\u001B[1;32m     39\u001B[0m \u001B[38;5;28;01mfrom\u001B[39;00m \u001B[38;5;21;01m.\u001B[39;00m\u001B[38;5;21;01mspectra\u001B[39;00m \u001B[38;5;28;01mimport\u001B[39;00m UniformSpectrum\n",
      "File \u001B[0;32m~/projects/master/olympus/olympus/event_generation/photon_propagation/factory.py:13\u001B[0m\n\u001B[1;32m      9\u001B[0m \u001B[38;5;28;01mfrom\u001B[39;00m \u001B[38;5;21;01molympus\u001B[39;00m\u001B[38;5;21;01m.\u001B[39;00m\u001B[38;5;21;01mevent_generation\u001B[39;00m\u001B[38;5;21;01m.\u001B[39;00m\u001B[38;5;21;01mphoton_propagation\u001B[39;00m\u001B[38;5;21;01m.\u001B[39;00m\u001B[38;5;21;01minterface\u001B[39;00m \u001B[38;5;28;01mimport\u001B[39;00m \\\n\u001B[1;32m     10\u001B[0m     AbstractPhotonPropagator\n\u001B[1;32m     11\u001B[0m \u001B[38;5;28;01mfrom\u001B[39;00m \u001B[38;5;21;01molympus\u001B[39;00m\u001B[38;5;21;01m.\u001B[39;00m\u001B[38;5;21;01mevent_generation\u001B[39;00m\u001B[38;5;21;01m.\u001B[39;00m\u001B[38;5;21;01mphoton_propagation\u001B[39;00m\u001B[38;5;21;01m.\u001B[39;00m\u001B[38;5;21;01mmock_photons\u001B[39;00m \u001B[38;5;28;01mimport\u001B[39;00m \\\n\u001B[1;32m     12\u001B[0m     MockPhotonPropagator\n\u001B[0;32m---> 13\u001B[0m \u001B[38;5;28;01mfrom\u001B[39;00m \u001B[38;5;21;01molympus\u001B[39;00m\u001B[38;5;21;01m.\u001B[39;00m\u001B[38;5;21;01mevent_generation\u001B[39;00m\u001B[38;5;21;01m.\u001B[39;00m\u001B[38;5;21;01mphoton_propagation\u001B[39;00m\u001B[38;5;21;01m.\u001B[39;00m\u001B[38;5;21;01mnorm_flow_photons\u001B[39;00m \u001B[38;5;28;01mimport\u001B[39;00m \\\n\u001B[1;32m     14\u001B[0m     NormalFlowPhotonPropagator\n\u001B[1;32m     17\u001B[0m \u001B[38;5;28;01mdef\u001B[39;00m \u001B[38;5;21mget_photon_propagator\u001B[39m(\n\u001B[1;32m     18\u001B[0m         detector: Detector,\n\u001B[1;32m     19\u001B[0m         configuration: PhotonPropagatorConfiguration\n\u001B[1;32m     20\u001B[0m ):\n\u001B[1;32m     21\u001B[0m \u001B[38;5;250m    \u001B[39m\u001B[38;5;124;03m\"\"\"Get photon propagator.\u001B[39;00m\n\u001B[1;32m     22\u001B[0m \n\u001B[1;32m     23\u001B[0m \u001B[38;5;124;03m    Args:\u001B[39;00m\n\u001B[0;32m   (...)\u001B[0m\n\u001B[1;32m     28\u001B[0m \u001B[38;5;124;03m        Photon propagator based on configuration\u001B[39;00m\n\u001B[1;32m     29\u001B[0m \u001B[38;5;124;03m    \"\"\"\u001B[39;00m\n",
      "File \u001B[0;32m~/projects/master/olympus/olympus/event_generation/photon_propagation/norm_flow_photons.py:16\u001B[0m\n\u001B[1;32m     14\u001B[0m \u001B[38;5;28;01mfrom\u001B[39;00m \u001B[38;5;21;01mananke\u001B[39;00m\u001B[38;5;21;01m.\u001B[39;00m\u001B[38;5;21;01mmodels\u001B[39;00m\u001B[38;5;21;01m.\u001B[39;00m\u001B[38;5;21;01mevent\u001B[39;00m \u001B[38;5;28;01mimport\u001B[39;00m Hits\n\u001B[1;32m     15\u001B[0m \u001B[38;5;28;01mfrom\u001B[39;00m \u001B[38;5;21;01mananke\u001B[39;00m\u001B[38;5;21;01m.\u001B[39;00m\u001B[38;5;21;01mschemas\u001B[39;00m\u001B[38;5;21;01m.\u001B[39;00m\u001B[38;5;21;01mevent\u001B[39;00m \u001B[38;5;28;01mimport\u001B[39;00m Types\n\u001B[0;32m---> 16\u001B[0m \u001B[38;5;28;01mfrom\u001B[39;00m \u001B[38;5;21;01mhyperion\u001B[39;00m\u001B[38;5;21;01m.\u001B[39;00m\u001B[38;5;21;01mmodels\u001B[39;00m\u001B[38;5;21;01m.\u001B[39;00m\u001B[38;5;21;01mphoton_arrival_time_nflow\u001B[39;00m\u001B[38;5;21;01m.\u001B[39;00m\u001B[38;5;21;01mnet\u001B[39;00m \u001B[38;5;28;01mimport\u001B[39;00m (\n\u001B[1;32m     17\u001B[0m     make_counts_net_fn,\n\u001B[1;32m     18\u001B[0m     make_shape_conditioner_fn,\n\u001B[1;32m     19\u001B[0m     sample_shape_model,\n\u001B[1;32m     20\u001B[0m     traf_dist_builder,\n\u001B[1;32m     21\u001B[0m     eval_log_prob,\n\u001B[1;32m     22\u001B[0m )\n\u001B[1;32m     23\u001B[0m \u001B[38;5;28;01mfrom\u001B[39;00m \u001B[38;5;21;01m.\u001B[39;00m\u001B[38;5;21;01minterface\u001B[39;00m \u001B[38;5;28;01mimport\u001B[39;00m AbstractPhotonPropagator\n\u001B[1;32m     24\u001B[0m \u001B[38;5;28;01mfrom\u001B[39;00m \u001B[38;5;21;01m.\u001B[39;00m\u001B[38;5;21;01mutils\u001B[39;00m \u001B[38;5;28;01mimport\u001B[39;00m sources_to_model_input, sources_to_model_input_per_module, bucket_fn\n",
      "File \u001B[0;32m~/.cache/pypoetry/virtualenvs/olympus-1oPZF7Jr-py3.10/lib/python3.10/site-packages/hyperion/models/photon_arrival_time_nflow/net.py:1\u001B[0m\n\u001B[0;32m----> 1\u001B[0m \u001B[38;5;28;01mimport\u001B[39;00m \u001B[38;5;21;01mdistrax\u001B[39;00m\n\u001B[1;32m      2\u001B[0m \u001B[38;5;28;01mimport\u001B[39;00m \u001B[38;5;21;01mjax\u001B[39;00m\u001B[38;5;21;01m.\u001B[39;00m\u001B[38;5;21;01mnumpy\u001B[39;00m \u001B[38;5;28;01mas\u001B[39;00m \u001B[38;5;21;01mjnp\u001B[39;00m\n\u001B[1;32m      3\u001B[0m \u001B[38;5;28;01mimport\u001B[39;00m \u001B[38;5;21;01mhaiku\u001B[39;00m \u001B[38;5;28;01mas\u001B[39;00m \u001B[38;5;21;01mhk\u001B[39;00m\n",
      "\u001B[0;31mModuleNotFoundError\u001B[0m: No module named 'distrax'"
     ]
    }
   ],
   "source": [
    "\n",
    "\n",
    "from ananke.configurations.collection import HDF5StorageConfiguration\n",
    "from ananke.configurations.presets.detector import single_line_configuration\n",
    "from olympus.event_generation.generators import generate\n",
    "\n",
    "photon_propagator_configuration = MockPhotonPropagatorConfiguration(\n",
    "    resolution=18000,\n",
    "    medium=MediumEstimationVariant.PONE_OPTIMISTIC\n",
    ")\n",
    "\n",
    "configuration = DatasetConfiguration(\n",
    "    detector=single_line_configuration,\n",
    "    generators=[\n",
    "        GenerationConfiguration(\n",
    "            generator=EventGeneratorConfiguration(\n",
    "                type=EventType.CASCADE,\n",
    "                spectrum=UniformSpectrumConfiguration(\n",
    "                    log_minimal_energy=2.0,\n",
    "                    log_maximal_energy=5.5\n",
    "                ),\n",
    "                source_propagator=photon_propagator_configuration\n",
    "            ),\n",
    "            number_of_samples=1\n",
    "        )\n",
    "    ],\n",
    "    storage=HDF5StorageConfiguration(data_path= \"data/mock_photon_usage\")\n",
    ")\n",
    "\n",
    "collection = generate(configuration)"
   ]
  },
  {
   "cell_type": "markdown",
   "metadata": {
    "pycharm": {
     "name": "#%% md\n"
    }
   },
   "source": [
    "Let's see what we got!"
   ]
  },
  {
   "cell_type": "code",
   "execution_count": null,
   "metadata": {
    "pycharm": {
     "name": "#%%\n"
    }
   },
   "outputs": [],
   "source": [
    "collection.open()"
   ]
  },
  {
   "cell_type": "code",
   "execution_count": null,
   "metadata": {
    "pycharm": {
     "name": "#%%\n"
    }
   },
   "outputs": [],
   "source": [
    "records = collection.storage.get_records()\n",
    "records.df.head()"
   ]
  },
  {
   "cell_type": "code",
   "execution_count": null,
   "metadata": {
    "pycharm": {
     "name": "#%%\n"
    }
   },
   "outputs": [],
   "source": [
    "sources = collection.storage.get_sources()\n",
    "sources.df.head()"
   ]
  },
  {
   "cell_type": "code",
   "execution_count": null,
   "metadata": {
    "pycharm": {
     "name": "#%%\n"
    }
   },
   "outputs": [],
   "source": [
    "print('Number of Hits: ', len(collection.hits))\n",
    "collection.hits.df.head()"
   ]
  },
  {
   "cell_type": "code",
   "execution_count": null,
   "metadata": {
    "pycharm": {
     "name": "#%%\n"
    }
   },
   "outputs": [],
   "source": [
    "collection.close()"
   ]
  },
  {
   "cell_type": "markdown",
   "metadata": {
    "pycharm": {
     "name": "#%% md\n"
    }
   },
   "source": [
    "## Use Mock Photon Propagator alone"
   ]
  },
  {
   "cell_type": "markdown",
   "metadata": {
    "pycharm": {
     "name": "#%% md\n"
    }
   },
   "source": [
    "If you want to call it yourself, you only need sources and the according events."
   ]
  },
  {
   "cell_type": "code",
   "execution_count": null,
   "metadata": {
    "pycharm": {
     "name": "#%%\n"
    }
   },
   "outputs": [],
   "source": [
    "from olympus.event_generation.photon_propagation.mock_photons import MockPhotonPropagator\n",
    "from ananke.services.detector import DetectorBuilderService\n",
    "\n",
    "builder = DetectorBuilderService()\n",
    "det = builder.get(single_line_configuration)\n",
    "propagator = MockPhotonPropagator(\n",
    "    detector=det,\n",
    "    configuration=photon_propagator_configuration\n",
    ")\n",
    "collection.open()\n",
    "propagator.propagate(collection=collection)\n"
   ]
  }
 ],
 "metadata": {
  "kernelspec": {
   "display_name": "Python 3 (ipykernel)",
   "language": "python",
   "name": "python3"
  },
  "language_info": {
   "codemirror_mode": {
    "name": "ipython",
    "version": 3
   },
   "file_extension": ".py",
   "mimetype": "text/x-python",
   "name": "python",
   "nbconvert_exporter": "python",
   "pygments_lexer": "ipython3",
   "version": "3.10.10"
  }
 },
 "nbformat": 4,
 "nbformat_minor": 1
}