{
 "cells": [
  {
   "cell_type": "markdown",
   "metadata": {
    "pycharm": {
     "name": "#%% md\n"
    }
   },
   "source": [
    "# Mock Photon Simulation - Usage\n",
    "\n",
    "This Notebook serves the purpose to show how you can use the Mock Photon propagation. Let's start with the imports"
   ]
  },
  {
   "cell_type": "code",
   "execution_count": 1,
   "metadata": {
    "pycharm": {
     "name": "#%%\n"
    }
   },
   "outputs": [
    {
     "name": "stderr",
     "output_type": "stream",
     "text": [
      "WARNING:absl:No GPU/TPU found, falling back to CPU. (Set TF_CPP_MIN_LOG_LEVEL=0 and rerun for more info.)\n",
      "/home/janik/projects/master/env/lib/python3.8/site-packages/jax/_src/api_util.py:222: SyntaxWarning: Jitted function has invalid argnames {'interactions'} in static_argnames. Function does not take these args.This warning will be replaced by an error after 2022-08-20 at the earliest.\n",
      "  warnings.warn(f\"Jitted function has invalid argnames {invalid_argnames} \"\n"
     ]
    }
   ],
   "source": [
    "import sys\n",
    "sys.path.append('../')\n",
    "\n",
    "from ananke.configurations.detector import DetectorConfiguration\n",
    "from ananke.services.detector import DetectorBuilderService\n",
    "from olympus.event_generation.generators import GeneratorCollection, GeneratorFactory\n",
    "from olympus.event_generation.medium import MediumEstimationVariant, Medium\n",
    "from olympus.event_generation.photon_propagation.mock_photons import MockPhotonPropagator\n"
   ]
  },
  {
   "cell_type": "markdown",
   "metadata": {
    "pycharm": {
     "name": "#%% md\n"
    }
   },
   "source": [
    "And continue with the definition of the Detector"
   ]
  },
  {
   "cell_type": "code",
   "execution_count": 2,
   "metadata": {
    "pycharm": {
     "name": "#%%\n"
    }
   },
   "outputs": [],
   "source": [
    "oms_per_line = 20\n",
    "dist_z = 50  # m\n",
    "dark_noise_rate = 16 * 1e-5  # 1/ns\n",
    "side_len = 100  # m\n",
    "pmts_per_module = 16\n",
    "pmt_cath_area_r = 75e-3 / 2  # m\n",
    "module_radius = 0.21  # m\n",
    "efficiency = 0.42 # Christian S. Number\n",
    "\n",
    "detector_configuration = DetectorConfiguration.parse_obj(\n",
    "    {\n",
    "        \"string\": {\n",
    "            \"module_number\": 2,\n",
    "            \"module_distance\": 50\n",
    "        },\n",
    "        \"pmt\": {\n",
    "            \"efficiency\": efficiency,\n",
    "            \"noise_rate\": dark_noise_rate,\n",
    "            \"area\": pmt_cath_area_r\n",
    "        },\n",
    "        \"module\": {\n",
    "            \"radius\": module_radius\n",
    "        },\n",
    "        \"geometry\": {\n",
    "            \"type\": \"single\",\n",
    "            \"side_length\": 100,\n",
    "        },\n",
    "        \"seed\": 31338\n",
    "    }\n",
    ")\n",
    "\n",
    "detector_service = DetectorBuilderService()\n",
    "det = detector_service.get(configuration=detector_configuration)"
   ]
  },
  {
   "cell_type": "markdown",
   "metadata": {
    "pycharm": {
     "name": "#%% md\n"
    }
   },
   "source": [
    "\n",
    "\n",
    "### Use Mock Photon Simulation in Pipeline\n",
    "\n",
    "You should not be obliged to actually call the Simulation itself. Rather than that you should pass it to the generation pipeline. For the optimal pipeline, we need a generator, the hit type we want to generate and a photon propagator, where we will use the mock propagator"
   ]
  },
  {
   "cell_type": "code",
   "execution_count": 3,
   "metadata": {
    "pycharm": {
     "name": "#%%\n"
    }
   },
   "outputs": [],
   "source": [
    "medium = Medium(MediumEstimationVariant.PONE_OPTIMISTIC)\n",
    "\n",
    "photon_propagator = MockPhotonPropagator(\n",
    "    detector=det,\n",
    "    medium=medium,\n",
    "    angle_resolution=18000,\n",
    ")\n",
    "\n",
    "generator_factory = GeneratorFactory(det)\n",
    "\n",
    "cascades_generator = generator_factory.create(\n",
    "    \"cascade\", particle_id=11, log_minimal_energy=2, log_maximal_energy=5.5, rate=0.05\n",
    ")\n",
    "\n",
    "generator_collection = GeneratorCollection(detector=det)\n",
    "generator_collection.add(cascades_generator)\n",
    "\n",
    "collection = generator_collection.generate(\n",
    "    number_of_samples=1\n",
    ")"
   ]
  },
  {
   "cell_type": "markdown",
   "metadata": {
    "pycharm": {
     "name": "#%% md\n"
    }
   },
   "source": [
    "Let's see what we got!"
   ]
  },
  {
   "cell_type": "code",
   "execution_count": 4,
   "metadata": {
    "pycharm": {
     "name": "#%%\n"
    }
   },
   "outputs": [
    {
     "name": "stdout",
     "output_type": "stream",
     "text": [
      "Number of Collection:  1\n"
     ]
    },
    {
     "data": {
      "text/html": [
       "<div>\n",
       "<style scoped>\n",
       "    .dataframe tbody tr th:only-of-type {\n",
       "        vertical-align: middle;\n",
       "    }\n",
       "\n",
       "    .dataframe tbody tr th {\n",
       "        vertical-align: top;\n",
       "    }\n",
       "\n",
       "    .dataframe thead th {\n",
       "        text-align: right;\n",
       "    }\n",
       "</style>\n",
       "<table border=\"1\" class=\"dataframe\">\n",
       "  <thead>\n",
       "    <tr style=\"text-align: right;\">\n",
       "      <th></th>\n",
       "      <th>location_x</th>\n",
       "      <th>location_y</th>\n",
       "      <th>location_z</th>\n",
       "      <th>orientation_x</th>\n",
       "      <th>orientation_y</th>\n",
       "      <th>orientation_z</th>\n",
       "      <th>record_id</th>\n",
       "      <th>energy</th>\n",
       "      <th>length</th>\n",
       "      <th>time</th>\n",
       "      <th>type</th>\n",
       "      <th>particle_id</th>\n",
       "    </tr>\n",
       "  </thead>\n",
       "  <tbody>\n",
       "    <tr>\n",
       "      <th>0</th>\n",
       "      <td>19.860758</td>\n",
       "      <td>-1.503407</td>\n",
       "      <td>-44.374696</td>\n",
       "      <td>0.257875</td>\n",
       "      <td>0.601379</td>\n",
       "      <td>0.756204</td>\n",
       "      <td>2804265273059709421</td>\n",
       "      <td>118401.349187</td>\n",
       "      <td>3000.0</td>\n",
       "      <td>0.0</td>\n",
       "      <td>cascade</td>\n",
       "      <td>11</td>\n",
       "    </tr>\n",
       "  </tbody>\n",
       "</table>\n",
       "</div>"
      ],
      "text/plain": [
       "   location_x  location_y  location_z  orientation_x  orientation_y  \\\n",
       "0   19.860758   -1.503407  -44.374696       0.257875       0.601379   \n",
       "\n",
       "   orientation_z            record_id         energy  length  time     type  \\\n",
       "0       0.756204  2804265273059709421  118401.349187  3000.0   0.0  cascade   \n",
       "\n",
       "   particle_id  \n",
       "0           11  "
      ]
     },
     "execution_count": 4,
     "metadata": {},
     "output_type": "execute_result"
    }
   ],
   "source": [
    "print('Number of Collection: ', len(collection.records))\n",
    "collection.records.df.head()"
   ]
  },
  {
   "cell_type": "code",
   "execution_count": 5,
   "metadata": {
    "pycharm": {
     "name": "#%%\n"
    }
   },
   "outputs": [
    {
     "name": "stdout",
     "output_type": "stream",
     "text": [
      "Number of Sources:  124\n"
     ]
    },
    {
     "data": {
      "text/html": [
       "<div>\n",
       "<style scoped>\n",
       "    .dataframe tbody tr th:only-of-type {\n",
       "        vertical-align: middle;\n",
       "    }\n",
       "\n",
       "    .dataframe tbody tr th {\n",
       "        vertical-align: top;\n",
       "    }\n",
       "\n",
       "    .dataframe thead th {\n",
       "        text-align: right;\n",
       "    }\n",
       "</style>\n",
       "<table border=\"1\" class=\"dataframe\">\n",
       "  <thead>\n",
       "    <tr style=\"text-align: right;\">\n",
       "      <th></th>\n",
       "      <th>location_x</th>\n",
       "      <th>location_y</th>\n",
       "      <th>location_z</th>\n",
       "      <th>orientation_x</th>\n",
       "      <th>orientation_y</th>\n",
       "      <th>orientation_z</th>\n",
       "      <th>record_id</th>\n",
       "      <th>time</th>\n",
       "      <th>number_of_photons</th>\n",
       "      <th>type</th>\n",
       "    </tr>\n",
       "  </thead>\n",
       "  <tbody>\n",
       "    <tr>\n",
       "      <th>0</th>\n",
       "      <td>19.728525</td>\n",
       "      <td>-1.446711</td>\n",
       "      <td>-44.241127</td>\n",
       "      <td>0.257875</td>\n",
       "      <td>0.601379</td>\n",
       "      <td>0.756204</td>\n",
       "      <td>2804265273059709421</td>\n",
       "      <td>0.336900</td>\n",
       "      <td>5</td>\n",
       "      <td>cherenkov</td>\n",
       "    </tr>\n",
       "    <tr>\n",
       "      <th>1</th>\n",
       "      <td>19.888407</td>\n",
       "      <td>-1.305205</td>\n",
       "      <td>-44.143703</td>\n",
       "      <td>0.257875</td>\n",
       "      <td>0.601379</td>\n",
       "      <td>0.756204</td>\n",
       "      <td>2804265273059709421</td>\n",
       "      <td>1.004028</td>\n",
       "      <td>2850</td>\n",
       "      <td>cherenkov</td>\n",
       "    </tr>\n",
       "    <tr>\n",
       "      <th>2</th>\n",
       "      <td>19.985806</td>\n",
       "      <td>-1.309790</td>\n",
       "      <td>-43.908794</td>\n",
       "      <td>0.257875</td>\n",
       "      <td>0.601379</td>\n",
       "      <td>0.756204</td>\n",
       "      <td>2804265273059709421</td>\n",
       "      <td>1.671156</td>\n",
       "      <td>90688</td>\n",
       "      <td>cherenkov</td>\n",
       "    </tr>\n",
       "    <tr>\n",
       "      <th>3</th>\n",
       "      <td>20.032734</td>\n",
       "      <td>-1.115695</td>\n",
       "      <td>-43.814674</td>\n",
       "      <td>0.257875</td>\n",
       "      <td>0.601379</td>\n",
       "      <td>0.756204</td>\n",
       "      <td>2804265273059709421</td>\n",
       "      <td>2.338284</td>\n",
       "      <td>924093</td>\n",
       "      <td>cherenkov</td>\n",
       "    </tr>\n",
       "    <tr>\n",
       "      <th>4</th>\n",
       "      <td>20.035336</td>\n",
       "      <td>-0.913060</td>\n",
       "      <td>-43.712231</td>\n",
       "      <td>0.257875</td>\n",
       "      <td>0.601379</td>\n",
       "      <td>0.756204</td>\n",
       "      <td>2804265273059709421</td>\n",
       "      <td>3.005413</td>\n",
       "      <td>5034425</td>\n",
       "      <td>cherenkov</td>\n",
       "    </tr>\n",
       "  </tbody>\n",
       "</table>\n",
       "</div>"
      ],
      "text/plain": [
       "   location_x  location_y  location_z  orientation_x  orientation_y  \\\n",
       "0   19.728525   -1.446711  -44.241127       0.257875       0.601379   \n",
       "1   19.888407   -1.305205  -44.143703       0.257875       0.601379   \n",
       "2   19.985806   -1.309790  -43.908794       0.257875       0.601379   \n",
       "3   20.032734   -1.115695  -43.814674       0.257875       0.601379   \n",
       "4   20.035336   -0.913060  -43.712231       0.257875       0.601379   \n",
       "\n",
       "   orientation_z            record_id      time  number_of_photons       type  \n",
       "0       0.756204  2804265273059709421  0.336900                  5  cherenkov  \n",
       "1       0.756204  2804265273059709421  1.004028               2850  cherenkov  \n",
       "2       0.756204  2804265273059709421  1.671156              90688  cherenkov  \n",
       "3       0.756204  2804265273059709421  2.338284             924093  cherenkov  \n",
       "4       0.756204  2804265273059709421  3.005413            5034425  cherenkov  "
      ]
     },
     "execution_count": 5,
     "metadata": {},
     "output_type": "execute_result"
    }
   ],
   "source": [
    "print('Number of Sources: ', len(collection.sources))\n",
    "collection.sources.df.head()"
   ]
  },
  {
   "cell_type": "code",
   "execution_count": 6,
   "metadata": {
    "pycharm": {
     "name": "#%%\n"
    }
   },
   "outputs": [
    {
     "name": "stdout",
     "output_type": "stream",
     "text": [
      "Number of Hits:  28096278\n"
     ]
    },
    {
     "data": {
      "text/html": [
       "<div>\n",
       "<style scoped>\n",
       "    .dataframe tbody tr th:only-of-type {\n",
       "        vertical-align: middle;\n",
       "    }\n",
       "\n",
       "    .dataframe tbody tr th {\n",
       "        vertical-align: top;\n",
       "    }\n",
       "\n",
       "    .dataframe thead th {\n",
       "        text-align: right;\n",
       "    }\n",
       "</style>\n",
       "<table border=\"1\" class=\"dataframe\">\n",
       "  <thead>\n",
       "    <tr style=\"text-align: right;\">\n",
       "      <th></th>\n",
       "      <th>time</th>\n",
       "      <th>string_id</th>\n",
       "      <th>module_id</th>\n",
       "      <th>pmt_id</th>\n",
       "      <th>record_id</th>\n",
       "    </tr>\n",
       "  </thead>\n",
       "  <tbody>\n",
       "    <tr>\n",
       "      <th>0</th>\n",
       "      <td>0.702526</td>\n",
       "      <td>0</td>\n",
       "      <td>0</td>\n",
       "      <td>0</td>\n",
       "      <td>2804265273059709421</td>\n",
       "    </tr>\n",
       "    <tr>\n",
       "      <th>1</th>\n",
       "      <td>0.564093</td>\n",
       "      <td>0</td>\n",
       "      <td>0</td>\n",
       "      <td>0</td>\n",
       "      <td>2804265273059709421</td>\n",
       "    </tr>\n",
       "    <tr>\n",
       "      <th>2</th>\n",
       "      <td>5.575400</td>\n",
       "      <td>0</td>\n",
       "      <td>0</td>\n",
       "      <td>0</td>\n",
       "      <td>2804265273059709421</td>\n",
       "    </tr>\n",
       "    <tr>\n",
       "      <th>3</th>\n",
       "      <td>3.630129</td>\n",
       "      <td>0</td>\n",
       "      <td>0</td>\n",
       "      <td>0</td>\n",
       "      <td>2804265273059709421</td>\n",
       "    </tr>\n",
       "    <tr>\n",
       "      <th>0</th>\n",
       "      <td>1.516834</td>\n",
       "      <td>0</td>\n",
       "      <td>0</td>\n",
       "      <td>0</td>\n",
       "      <td>2804265273059709421</td>\n",
       "    </tr>\n",
       "  </tbody>\n",
       "</table>\n",
       "</div>"
      ],
      "text/plain": [
       "       time  string_id  module_id  pmt_id            record_id\n",
       "0  0.702526          0          0       0  2804265273059709421\n",
       "1  0.564093          0          0       0  2804265273059709421\n",
       "2  5.575400          0          0       0  2804265273059709421\n",
       "3  3.630129          0          0       0  2804265273059709421\n",
       "0  1.516834          0          0       0  2804265273059709421"
      ]
     },
     "execution_count": 6,
     "metadata": {},
     "output_type": "execute_result"
    }
   ],
   "source": [
    "print('Number of Hits: ', len(collection.hits))\n",
    "collection.hits.df.head()"
   ]
  },
  {
   "cell_type": "code",
   "execution_count": null,
   "outputs": [],
   "source": [],
   "metadata": {
    "collapsed": false,
    "pycharm": {
     "name": "#%%\n"
    }
   }
  },
  {
   "cell_type": "markdown",
   "metadata": {
    "pycharm": {
     "name": "#%% md\n"
    }
   },
   "source": [
    "## Use Mock Photon Propagator alone"
   ]
  },
  {
   "cell_type": "markdown",
   "metadata": {
    "pycharm": {
     "name": "#%% md\n"
    }
   },
   "source": [
    "If you want to call it yourself, you only need sources and the according events."
   ]
  },
  {
   "cell_type": "code",
   "execution_count": 8,
   "metadata": {
    "pycharm": {
     "name": "#%%\n"
    }
   },
   "outputs": [
    {
     "data": {
      "text/html": [
       "<div>\n",
       "<style scoped>\n",
       "    .dataframe tbody tr th:only-of-type {\n",
       "        vertical-align: middle;\n",
       "    }\n",
       "\n",
       "    .dataframe tbody tr th {\n",
       "        vertical-align: top;\n",
       "    }\n",
       "\n",
       "    .dataframe thead th {\n",
       "        text-align: right;\n",
       "    }\n",
       "</style>\n",
       "<table border=\"1\" class=\"dataframe\">\n",
       "  <thead>\n",
       "    <tr style=\"text-align: right;\">\n",
       "      <th></th>\n",
       "      <th>time</th>\n",
       "      <th>string_id</th>\n",
       "      <th>module_id</th>\n",
       "      <th>pmt_id</th>\n",
       "      <th>record_id</th>\n",
       "    </tr>\n",
       "  </thead>\n",
       "  <tbody>\n",
       "    <tr>\n",
       "      <th>0</th>\n",
       "      <td>0.373483</td>\n",
       "      <td>0</td>\n",
       "      <td>0</td>\n",
       "      <td>0</td>\n",
       "      <td>2804265273059709421</td>\n",
       "    </tr>\n",
       "    <tr>\n",
       "      <th>1</th>\n",
       "      <td>0.724890</td>\n",
       "      <td>0</td>\n",
       "      <td>0</td>\n",
       "      <td>0</td>\n",
       "      <td>2804265273059709421</td>\n",
       "    </tr>\n",
       "    <tr>\n",
       "      <th>2</th>\n",
       "      <td>0.953914</td>\n",
       "      <td>0</td>\n",
       "      <td>0</td>\n",
       "      <td>0</td>\n",
       "      <td>2804265273059709421</td>\n",
       "    </tr>\n",
       "    <tr>\n",
       "      <th>3</th>\n",
       "      <td>0.154064</td>\n",
       "      <td>0</td>\n",
       "      <td>0</td>\n",
       "      <td>0</td>\n",
       "      <td>2804265273059709421</td>\n",
       "    </tr>\n",
       "    <tr>\n",
       "      <th>0</th>\n",
       "      <td>1.958281</td>\n",
       "      <td>0</td>\n",
       "      <td>0</td>\n",
       "      <td>0</td>\n",
       "      <td>2804265273059709421</td>\n",
       "    </tr>\n",
       "  </tbody>\n",
       "</table>\n",
       "</div>"
      ],
      "text/plain": [
       "       time  string_id  module_id  pmt_id            record_id\n",
       "0  0.373483          0          0       0  2804265273059709421\n",
       "1  0.724890          0          0       0  2804265273059709421\n",
       "2  0.953914          0          0       0  2804265273059709421\n",
       "3  0.154064          0          0       0  2804265273059709421\n",
       "0  1.958281          0          0       0  2804265273059709421"
      ]
     },
     "execution_count": 8,
     "metadata": {},
     "output_type": "execute_result"
    }
   ],
   "source": [
    "hits = photon_propagator.propagate(collection.records, collection.sources)\n",
    "hits.df.head()"
   ]
  }
 ],
 "metadata": {
  "kernelspec": {
   "display_name": "Python 3 (ipykernel)",
   "language": "python",
   "name": "python3"
  },
  "language_info": {
   "codemirror_mode": {
    "name": "ipython",
    "version": 3
   },
   "file_extension": ".py",
   "mimetype": "text/x-python",
   "name": "python",
   "nbconvert_exporter": "python",
   "pygments_lexer": "ipython3",
   "version": "3.8.10"
  }
 },
 "nbformat": 4,
 "nbformat_minor": 1
}