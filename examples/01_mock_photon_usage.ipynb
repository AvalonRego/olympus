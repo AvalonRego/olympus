{
 "cells": [
  {
   "cell_type": "markdown",
   "metadata": {
    "pycharm": {
     "name": "#%% md\n"
    }
   },
   "source": [
    "# Mock Photon Simulation - Usage\n",
    "\n",
    "This Notebook serves the purpose to show how you can use the Mock Photon propagation. Let's start with the imports"
   ]
  },
  {
   "cell_type": "code",
   "execution_count": null,
   "outputs": [],
   "source": [
    "import sys\n",
    "\n",
    "sys.path.append('../')\n",
    "\n",
    "from olympus.event_generation.generators import get_generator\n",
    "from olympus.configuration.generators import EventGeneratorConfiguration\n",
    "from olympus.configuration.generators import GenerationConfiguration\n",
    "from olympus.event_generation.medium import MediumEstimationVariant\n",
    "from olympus.configuration.generators import UniformSpectrumConfiguration\n",
    "from ananke.schemas.event import EventType\n",
    "from olympus.configuration.photon_propagation import MockPhotonPropagatorConfiguration\n",
    "from olympus.event_generation.photon_propagation.mock_photons import MockPhotonPropagator\n",
    "from olympus.configuration.generators import DatasetConfiguration\n",
    "\n",
    "\n"
   ],
   "metadata": {
    "collapsed": false,
    "pycharm": {
     "name": "#%%\n"
    }
   }
  },
  {
   "cell_type": "markdown",
   "source": [
    "\n",
    "\n",
    "### Use Mock Photon Simulation in Pipeline\n",
    "\n",
    "You should not be obliged to actually call the Simulation itself. Rather than that you should pass it to the generation pipeline. For the optimal pipeline, we need a generator, the hit type we want to generate and a photon propagator, where we will use the mock propagator"
   ],
   "metadata": {
    "collapsed": false,
    "pycharm": {
     "name": "#%% md\n"
    }
   }
  },
  {
   "cell_type": "code",
   "execution_count": null,
   "outputs": [],
   "source": [
    "\n",
    "\n",
    "from ananke.configurations.presets.detector import single_line_configuration\n",
    "from olympus.event_generation.generators import generate\n",
    "\n",
    "photon_propagator_configuration = MockPhotonPropagatorConfiguration(\n",
    "    resolution=18000,\n",
    "    medium=MediumEstimationVariant.PONE_OPTIMISTIC\n",
    ")\n",
    "\n",
    "configuration = DatasetConfiguration(\n",
    "    detector=single_line_configuration,\n",
    "    generators=[\n",
    "        GenerationConfiguration(\n",
    "            generator=EventGeneratorConfiguration(\n",
    "                type=EventType.CASCADE,\n",
    "                spectrum=UniformSpectrumConfiguration(\n",
    "                    log_minimal_energy=2.0,\n",
    "                    log_maximal_energy=5.5\n",
    "                ),\n",
    "                source_propagator=photon_propagator_configuration\n",
    "            ),\n",
    "            number_of_samples=1\n",
    "        )\n",
    "    ],\n",
    "    data_path=\"data/nb_mock_photon_usage\"\n",
    ")\n",
    "\n",
    "collection = generate(configuration)"
   ],
   "metadata": {
    "collapsed": false,
    "pycharm": {
     "name": "#%%\n"
    }
   }
  },
  {
   "cell_type": "markdown",
   "source": [
    "Let's see what we got!"
   ],
   "metadata": {
    "collapsed": false,
    "pycharm": {
     "name": "#%% md\n"
    }
   }
  },
  {
   "cell_type": "code",
   "execution_count": null,
   "outputs": [],
   "source": [
    "print('Number of Collection: ', len(collection.records))\n",
    "records = collection.get_records()\n",
    "records.df.head()"
   ],
   "metadata": {
    "collapsed": false,
    "pycharm": {
     "name": "#%%\n"
    }
   }
  },
  {
   "cell_type": "code",
   "execution_count": null,
   "outputs": [],
   "source": [
    "print('Number of Sources: ', len(collection.sources))\n",
    "sources = collection.get_sources()\n",
    "sources.df.head()"
   ],
   "metadata": {
    "collapsed": false,
    "pycharm": {
     "name": "#%%\n"
    }
   }
  },
  {
   "cell_type": "code",
   "execution_count": null,
   "outputs": [],
   "source": [
    "print('Number of Hits: ', len(collection.hits))\n",
    "collection.hits.df.head()"
   ],
   "metadata": {
    "collapsed": false,
    "pycharm": {
     "name": "#%%\n"
    }
   }
  },
  {
   "cell_type": "markdown",
   "source": [
    "## Use Mock Photon Propagator alone"
   ],
   "metadata": {
    "collapsed": false,
    "pycharm": {
     "name": "#%% md\n"
    }
   }
  },
  {
   "cell_type": "markdown",
   "source": [
    "If you want to call it yourself, you only need sources and the according events."
   ],
   "metadata": {
    "collapsed": false,
    "pycharm": {
     "name": "#%% md\n"
    }
   }
  },
  {
   "cell_type": "code",
   "execution_count": null,
   "outputs": [],
   "source": [
    "from olympus.event_generation.photon_propagation.mock_photons import MockPhotonPropagator\n",
    "from ananke.services.detector import DetectorBuilderService\n",
    "\n",
    "builder = DetectorBuilderService()\n",
    "det = builder.get(single_line_configuration)\n",
    "propagator = MockPhotonPropagator(\n",
    "    detector=det,\n",
    "    configuration=photon_propagator_configuration\n",
    ")\n",
    "propagator.propagate(collection.get_records(), collection.get_sources())\n"
   ],
   "metadata": {
    "collapsed": false,
    "pycharm": {
     "name": "#%%\n"
    }
   }
  }
 ],
 "metadata": {
  "kernelspec": {
   "display_name": "Python 3 (ipykernel)",
   "language": "python",
   "name": "python3"
  },
  "language_info": {
   "codemirror_mode": {
    "name": "ipython",
    "version": 3
   },
   "file_extension": ".py",
   "mimetype": "text/x-python",
   "name": "python",
   "nbconvert_exporter": "python",
   "pygments_lexer": "ipython3",
   "version": "3.8.10"
  }
 },
 "nbformat": 4,
 "nbformat_minor": 1
}