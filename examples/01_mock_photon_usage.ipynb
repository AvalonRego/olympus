{
 "cells": [
  {
   "cell_type": "markdown",
   "metadata": {
    "pycharm": {
     "name": "#%% md\n"
    }
   },
   "source": [
    "# Mock Photon Simulation - Usage\n",
    "\n",
    "This Notebook serves the purpose to show how you can use the Mock Photon propagation. Let's start with the imports"
   ]
  },
  {
   "cell_type": "code",
   "execution_count": 11,
   "metadata": {
    "pycharm": {
     "name": "#%%\n"
    }
   },
   "outputs": [],
   "source": [
    "import sys\n",
    "\n",
    "sys.path.append('../')\n",
    "\n",
    "from olympus.event_generation.generators import get_generator\n",
    "from olympus.configuration.generators import EventGeneratorConfiguration\n",
    "from olympus.configuration.generators import GenerationConfiguration\n",
    "from olympus.event_generation.medium import MediumEstimationVariant\n",
    "from olympus.configuration.generators import UniformSpectrumConfiguration\n",
    "from ananke.schemas.event import EventType\n",
    "from olympus.configuration.photon_propagation import MockPhotonPropagatorConfiguration\n",
    "from olympus.event_generation.photon_propagation.mock_photons import MockPhotonPropagator\n",
    "from olympus.configuration.generators import DatasetConfiguration\n",
    "\n",
    "\n"
   ]
  },
  {
   "cell_type": "markdown",
   "metadata": {
    "pycharm": {
     "name": "#%% md\n"
    }
   },
   "source": [
    "\n",
    "\n",
    "### Use Mock Photon Simulation in Pipeline\n",
    "\n",
    "You should not be obliged to actually call the Simulation itself. Rather than that you should pass it to the generation pipeline. For the optimal pipeline, we need a generator, the hit type we want to generate and a photon propagator, where we will use the mock propagator"
   ]
  },
  {
   "cell_type": "code",
   "execution_count": 13,
   "metadata": {
    "pycharm": {
     "name": "#%%\n"
    }
   },
   "outputs": [],
   "source": [
    "\n",
    "\n",
    "from ananke.configurations.presets.detector import single_line_configuration\n",
    "from olympus.event_generation.generators import generate\n",
    "\n",
    "photon_propagator_configuration = MockPhotonPropagatorConfiguration(\n",
    "    resolution=18000,\n",
    "    medium=MediumEstimationVariant.PONE_OPTIMISTIC\n",
    ")\n",
    "\n",
    "configuration = DatasetConfiguration(\n",
    "    detector=single_line_configuration,\n",
    "    generators=[\n",
    "        GenerationConfiguration(\n",
    "            generator=EventGeneratorConfiguration(\n",
    "                type=EventType.CASCADE,\n",
    "                spectrum=UniformSpectrumConfiguration(\n",
    "                    log_minimal_energy=2.0,\n",
    "                    log_maximal_energy=5.5\n",
    "                ),\n",
    "                source_propagator=photon_propagator_configuration\n",
    "            ),\n",
    "            number_of_samples=1\n",
    "        )\n",
    "    ],\n",
    "    data_path=\"data/nb_mock_photon_usage\"\n",
    ")\n",
    "\n",
    "collection = generate(configuration)"
   ]
  },
  {
   "cell_type": "markdown",
   "metadata": {
    "pycharm": {
     "name": "#%% md\n"
    }
   },
   "source": [
    "Let's see what we got!"
   ]
  },
  {
   "cell_type": "code",
   "execution_count": 14,
   "metadata": {
    "pycharm": {
     "name": "#%%\n"
    }
   },
   "outputs": [
    {
     "name": "stdout",
     "output_type": "stream",
     "text": [
      "Number of Collection:  1\n"
     ]
    },
    {
     "data": {
      "text/plain": "   location_x  location_y  location_z  orientation_x  orientation_y  \\\n0    21.08507   -1.847677  432.298426       0.379342       0.795706   \n\n   orientation_z           record_id      energy  length  time     type  \\\n0      -0.472178 -496833911366872595  838.859127  3000.0   0.0  cascade   \n\n   particle_id  \n0           11  ",
      "text/html": "<div>\n<style scoped>\n    .dataframe tbody tr th:only-of-type {\n        vertical-align: middle;\n    }\n\n    .dataframe tbody tr th {\n        vertical-align: top;\n    }\n\n    .dataframe thead th {\n        text-align: right;\n    }\n</style>\n<table border=\"1\" class=\"dataframe\">\n  <thead>\n    <tr style=\"text-align: right;\">\n      <th></th>\n      <th>location_x</th>\n      <th>location_y</th>\n      <th>location_z</th>\n      <th>orientation_x</th>\n      <th>orientation_y</th>\n      <th>orientation_z</th>\n      <th>record_id</th>\n      <th>energy</th>\n      <th>length</th>\n      <th>time</th>\n      <th>type</th>\n      <th>particle_id</th>\n    </tr>\n  </thead>\n  <tbody>\n    <tr>\n      <th>0</th>\n      <td>21.08507</td>\n      <td>-1.847677</td>\n      <td>432.298426</td>\n      <td>0.379342</td>\n      <td>0.795706</td>\n      <td>-0.472178</td>\n      <td>-496833911366872595</td>\n      <td>838.859127</td>\n      <td>3000.0</td>\n      <td>0.0</td>\n      <td>cascade</td>\n      <td>11</td>\n    </tr>\n  </tbody>\n</table>\n</div>"
     },
     "execution_count": 14,
     "metadata": {},
     "output_type": "execute_result"
    }
   ],
   "source": [
    "print('Number of Collection: ', len(collection.records))\n",
    "records = collection.get_records()\n",
    "records.df.head()"
   ]
  },
  {
   "cell_type": "code",
   "execution_count": 15,
   "metadata": {
    "pycharm": {
     "name": "#%%\n"
    }
   },
   "outputs": [
    {
     "name": "stdout",
     "output_type": "stream",
     "text": [
      "Number of Sources:  124\n"
     ]
    },
    {
     "data": {
      "text/plain": "   location_x  location_y  location_z  orientation_x  orientation_y  \\\n0   21.192823   -1.708394  432.405792       0.379342       0.795706   \n1   21.205467   -1.515136  432.318085       0.379342       0.795706   \n2   21.350779   -1.415070  432.179871       0.379342       0.795706   \n3   21.200878   -1.204954  431.989960       0.379342       0.795706   \n4   21.299709   -1.137377  431.759674       0.379342       0.795706   \n\n   orientation_z           record_id      time  number_of_photons       type  \n0      -0.472178 -496833911366872595  0.336900                832  cherenkov  \n1      -0.472178 -496833911366872595  1.004028              46121  cherenkov  \n2      -0.472178 -496833911366872595  1.671156             394202  cherenkov  \n3      -0.472178 -496833911366872595  2.338284            1548311  cherenkov  \n4      -0.472178 -496833911366872595  3.005413            4015380  cherenkov  ",
      "text/html": "<div>\n<style scoped>\n    .dataframe tbody tr th:only-of-type {\n        vertical-align: middle;\n    }\n\n    .dataframe tbody tr th {\n        vertical-align: top;\n    }\n\n    .dataframe thead th {\n        text-align: right;\n    }\n</style>\n<table border=\"1\" class=\"dataframe\">\n  <thead>\n    <tr style=\"text-align: right;\">\n      <th></th>\n      <th>location_x</th>\n      <th>location_y</th>\n      <th>location_z</th>\n      <th>orientation_x</th>\n      <th>orientation_y</th>\n      <th>orientation_z</th>\n      <th>record_id</th>\n      <th>time</th>\n      <th>number_of_photons</th>\n      <th>type</th>\n    </tr>\n  </thead>\n  <tbody>\n    <tr>\n      <th>0</th>\n      <td>21.192823</td>\n      <td>-1.708394</td>\n      <td>432.405792</td>\n      <td>0.379342</td>\n      <td>0.795706</td>\n      <td>-0.472178</td>\n      <td>-496833911366872595</td>\n      <td>0.336900</td>\n      <td>832</td>\n      <td>cherenkov</td>\n    </tr>\n    <tr>\n      <th>1</th>\n      <td>21.205467</td>\n      <td>-1.515136</td>\n      <td>432.318085</td>\n      <td>0.379342</td>\n      <td>0.795706</td>\n      <td>-0.472178</td>\n      <td>-496833911366872595</td>\n      <td>1.004028</td>\n      <td>46121</td>\n      <td>cherenkov</td>\n    </tr>\n    <tr>\n      <th>2</th>\n      <td>21.350779</td>\n      <td>-1.415070</td>\n      <td>432.179871</td>\n      <td>0.379342</td>\n      <td>0.795706</td>\n      <td>-0.472178</td>\n      <td>-496833911366872595</td>\n      <td>1.671156</td>\n      <td>394202</td>\n      <td>cherenkov</td>\n    </tr>\n    <tr>\n      <th>3</th>\n      <td>21.200878</td>\n      <td>-1.204954</td>\n      <td>431.989960</td>\n      <td>0.379342</td>\n      <td>0.795706</td>\n      <td>-0.472178</td>\n      <td>-496833911366872595</td>\n      <td>2.338284</td>\n      <td>1548311</td>\n      <td>cherenkov</td>\n    </tr>\n    <tr>\n      <th>4</th>\n      <td>21.299709</td>\n      <td>-1.137377</td>\n      <td>431.759674</td>\n      <td>0.379342</td>\n      <td>0.795706</td>\n      <td>-0.472178</td>\n      <td>-496833911366872595</td>\n      <td>3.005413</td>\n      <td>4015380</td>\n      <td>cherenkov</td>\n    </tr>\n  </tbody>\n</table>\n</div>"
     },
     "execution_count": 15,
     "metadata": {},
     "output_type": "execute_result"
    }
   ],
   "source": [
    "print('Number of Sources: ', len(collection.sources))\n",
    "sources = collection.get_sources()\n",
    "sources.df.head()"
   ]
  },
  {
   "cell_type": "code",
   "execution_count": 16,
   "metadata": {
    "pycharm": {
     "name": "#%%\n"
    }
   },
   "outputs": [
    {
     "name": "stdout",
     "output_type": "stream",
     "text": [
      "Number of Hits:  2703\n"
     ]
    },
    {
     "data": {
      "text/plain": "        time  string_id  module_id  pmt_id           record_id     type\n0   9.385173          0          6       1 -496833911366872595  cascade\n1  15.075069          0          6       1 -496833911366872595  cascade\n2  10.330508          0          6       1 -496833911366872595  cascade\n3  11.374814          0          6       1 -496833911366872595  cascade\n4  17.638424          0          6       1 -496833911366872595  cascade",
      "text/html": "<div>\n<style scoped>\n    .dataframe tbody tr th:only-of-type {\n        vertical-align: middle;\n    }\n\n    .dataframe tbody tr th {\n        vertical-align: top;\n    }\n\n    .dataframe thead th {\n        text-align: right;\n    }\n</style>\n<table border=\"1\" class=\"dataframe\">\n  <thead>\n    <tr style=\"text-align: right;\">\n      <th></th>\n      <th>time</th>\n      <th>string_id</th>\n      <th>module_id</th>\n      <th>pmt_id</th>\n      <th>record_id</th>\n      <th>type</th>\n    </tr>\n  </thead>\n  <tbody>\n    <tr>\n      <th>0</th>\n      <td>9.385173</td>\n      <td>0</td>\n      <td>6</td>\n      <td>1</td>\n      <td>-496833911366872595</td>\n      <td>cascade</td>\n    </tr>\n    <tr>\n      <th>1</th>\n      <td>15.075069</td>\n      <td>0</td>\n      <td>6</td>\n      <td>1</td>\n      <td>-496833911366872595</td>\n      <td>cascade</td>\n    </tr>\n    <tr>\n      <th>2</th>\n      <td>10.330508</td>\n      <td>0</td>\n      <td>6</td>\n      <td>1</td>\n      <td>-496833911366872595</td>\n      <td>cascade</td>\n    </tr>\n    <tr>\n      <th>3</th>\n      <td>11.374814</td>\n      <td>0</td>\n      <td>6</td>\n      <td>1</td>\n      <td>-496833911366872595</td>\n      <td>cascade</td>\n    </tr>\n    <tr>\n      <th>4</th>\n      <td>17.638424</td>\n      <td>0</td>\n      <td>6</td>\n      <td>1</td>\n      <td>-496833911366872595</td>\n      <td>cascade</td>\n    </tr>\n  </tbody>\n</table>\n</div>"
     },
     "execution_count": 16,
     "metadata": {},
     "output_type": "execute_result"
    }
   ],
   "source": [
    "print('Number of Hits: ', len(collection.hits))\n",
    "collection.hits.df.head()"
   ]
  },
  {
   "cell_type": "markdown",
   "metadata": {
    "pycharm": {
     "name": "#%% md\n"
    }
   },
   "source": [
    "## Use Mock Photon Propagator alone"
   ]
  },
  {
   "cell_type": "markdown",
   "metadata": {
    "pycharm": {
     "name": "#%% md\n"
    }
   },
   "source": [
    "If you want to call it yourself, you only need sources and the according events."
   ]
  },
  {
   "cell_type": "code",
   "execution_count": 17,
   "metadata": {
    "pycharm": {
     "name": "#%%\n"
    }
   },
   "outputs": [
    {
     "data": {
      "text/plain": "        time  string_id  module_id  pmt_id           record_id     type\n0   9.385173          0          6       1 -496833911366872595  cascade\n1  15.075069          0          6       1 -496833911366872595  cascade\n2  10.330508          0          6       1 -496833911366872595  cascade\n3  11.374814          0          6       1 -496833911366872595  cascade\n4  17.638424          0          6       1 -496833911366872595  cascade",
      "text/html": "<div>\n<style scoped>\n    .dataframe tbody tr th:only-of-type {\n        vertical-align: middle;\n    }\n\n    .dataframe tbody tr th {\n        vertical-align: top;\n    }\n\n    .dataframe thead th {\n        text-align: right;\n    }\n</style>\n<table border=\"1\" class=\"dataframe\">\n  <thead>\n    <tr style=\"text-align: right;\">\n      <th></th>\n      <th>time</th>\n      <th>string_id</th>\n      <th>module_id</th>\n      <th>pmt_id</th>\n      <th>record_id</th>\n      <th>type</th>\n    </tr>\n  </thead>\n  <tbody>\n    <tr>\n      <th>0</th>\n      <td>9.385173</td>\n      <td>0</td>\n      <td>6</td>\n      <td>1</td>\n      <td>-496833911366872595</td>\n      <td>cascade</td>\n    </tr>\n    <tr>\n      <th>1</th>\n      <td>15.075069</td>\n      <td>0</td>\n      <td>6</td>\n      <td>1</td>\n      <td>-496833911366872595</td>\n      <td>cascade</td>\n    </tr>\n    <tr>\n      <th>2</th>\n      <td>10.330508</td>\n      <td>0</td>\n      <td>6</td>\n      <td>1</td>\n      <td>-496833911366872595</td>\n      <td>cascade</td>\n    </tr>\n    <tr>\n      <th>3</th>\n      <td>11.374814</td>\n      <td>0</td>\n      <td>6</td>\n      <td>1</td>\n      <td>-496833911366872595</td>\n      <td>cascade</td>\n    </tr>\n    <tr>\n      <th>4</th>\n      <td>17.638424</td>\n      <td>0</td>\n      <td>6</td>\n      <td>1</td>\n      <td>-496833911366872595</td>\n      <td>cascade</td>\n    </tr>\n  </tbody>\n</table>\n</div>"
     },
     "execution_count": 17,
     "metadata": {},
     "output_type": "execute_result"
    }
   ],
   "source": [
    "from olympus.event_generation.photon_propagation.mock_photons import MockPhotonPropagator\n",
    "from ananke.services.detector import DetectorBuilderService\n",
    "\n",
    "builder = DetectorBuilderService()\n",
    "det = builder.get(single_line_configuration)\n",
    "propagator = MockPhotonPropagator(\n",
    "    detector=det,\n",
    "    configuration=photon_propagator_configuration\n",
    ")\n",
    "propagator.propagate(collection.get_records(), collection.get_sources())\n"
   ]
  }
 ],
 "metadata": {
  "kernelspec": {
   "display_name": "Python 3 (ipykernel)",
   "language": "python",
   "name": "python3"
  },
  "language_info": {
   "codemirror_mode": {
    "name": "ipython",
    "version": 3
   },
   "file_extension": ".py",
   "mimetype": "text/x-python",
   "name": "python",
   "nbconvert_exporter": "python",
   "pygments_lexer": "ipython3",
   "version": "3.8.10"
  }
 },
 "nbformat": 4,
 "nbformat_minor": 1
}