{
 "cells": [
  {
   "cell_type": "code",
   "execution_count": 2,
   "metadata": {},
   "outputs": [],
   "source": [
    "import pickle\n",
    "import os\n",
    "os.environ[\"XLA_PYTHON_CLIENT_MEM_FRACTION\"]=\"0.5\"\n",
    "\n",
    "import matplotlib as mpl\n",
    "import matplotlib.pyplot as plt\n",
    "import numpy as np\n",
    "\n",
    "import seaborn as sns\n",
    "\n",
    "\n",
    "from itertools import product\n",
    "\n",
    "import awkward as ak\n",
    "import pandas as pd\n",
    "from hyperion.constants import Constants\n",
    "from olympus.event_generation.mc_record import MCRecord\n",
    "from olympus.event_generation.photon_source import PhotonSource, PhotonSourceType\n",
    "from olympus.event_generation.photon_propagation.norm_flow_photons import make_generate_norm_flow_photons, make_nflow_photon_likelihood\n",
    "from olympus.event_generation.photon_propagation.utils import sources_to_model_input\n",
    "from olympus.event_generation.detector import make_hex_grid, Detector, make_line, make_triang, make_rhombus\n",
    "from olympus.event_generation.event_generation import generate_cascade\n",
    "from olympus.event_generation.lightyield import make_pointlike_cascade_source, make_realistic_cascade_source\n",
    "\n",
    "from hyperion.utils import (\n",
    "    make_cascadia_abs_len_func,\n",
    ")\n",
    "from hyperion.pmt.pmt import make_calc_wl_acceptance_weight\n",
    "from hyperion.medium import cascadia_ref_index_func, sca_len_func_antares\n",
    "from hyperion.constants import Constants\n",
    "\n",
    "from hyperion.models.photon_arrival_time_nflow.net import (\n",
    "    make_counts_net_fn,\n",
    "    make_shape_conditioner_fn,\n",
    "    sample_shape_model,\n",
    "    traf_dist_builder,\n",
    "    eval_log_prob\n",
    ")\n",
    "\n",
    "import jax\n",
    "from jax import jit, random\n",
    "from jax import numpy as jnp\n",
    "from jax import value_and_grad\n",
    "from numba.typed import List\n",
    "\n",
    "from fennel import Fennel, config\n",
    "\n",
    "import json\n",
    "%matplotlib inline\n",
    "from scipy.integrate import quad"
   ]
  },
  {
   "cell_type": "markdown",
   "metadata": {},
   "source": [
    "# Simulate Cascades\n",
    "The notebooks demonstrates how to simulate cascades (EM / hadronic)"
   ]
  },
  {
   "cell_type": "markdown",
   "metadata": {},
   "source": [
    "## Detector Setup\n",
    "First, we set up our detector. We want to simulate cascades for a triangular line configuration with 20 modules each."
   ]
  },
  {
   "cell_type": "code",
   "execution_count": 7,
   "metadata": {},
   "outputs": [
    {
     "data": {
      "text/plain": [
       "Text(0, 0.5, 'y [m]')"
      ]
     },
     "execution_count": 7,
     "metadata": {},
     "output_type": "execute_result"
    },
    {
     "data": {
      "image/png": "[encoded data removed]",
      "text/plain": [
       "<Figure size 432x288 with 1 Axes>"
      ]
     },
     "metadata": {
      "needs_background": "light"
     },
     "output_type": "display_data"
    }
   ],
   "source": [
    "rng = np.random.RandomState(31338)\n",
    "oms_per_line = 20\n",
    "dist_z = 50 # m\n",
    "dark_noise_rate = 16 * 1e-5  # 1/ns\n",
    "side_len = 100 # m\n",
    "det = make_triang(side_len, oms_per_line, dist_z, dark_noise_rate, rng)\n",
    "module_positions = jnp.asarray(det.module_coords)\n",
    "\n",
    "plt.scatter(module_positions[:, 0], module_positions[:, 1])\n",
    "plt.xlabel(\"x [m]\")\n",
    "plt.ylabel(\"y [m]\")\n",
    "\n",
    "\n",
    "\n"
   ]
  },
  {
   "cell_type": "markdown",
   "metadata": {},
   "source": [
    "## Propagator Setup\n",
    "Next, we have to set up our photon propagator. Here we use `make_generate_norm_flow_photons` to create a propagator that samples photon arrival times from a normalizing flow. Every propagator takes the same arguments:\n",
    "- module coordinates: A numpy array of module coordinates\n",
    "- module efficiencies (mostly deprecated)\n",
    "- sources: A list of PhotonSource objects\n",
    "- c_medium: Speed of light in the medium. This is used to calculate the geometric time and should match what was used in the creatin of the arrival time parametrization.\n",
    "- seed: An int or jax PRNGKey"
   ]
  },
  {
   "cell_type": "code",
   "execution_count": 11,
   "metadata": {},
   "outputs": [],
   "source": [
    "gen_ph = make_generate_norm_flow_photons(\n",
    "    \"../../../hyperion/data/photon_arrival_time_nflow_params.pickle\",\n",
    "    \"../../../hyperion/data/photon_arrival_time_counts_params.pickle\",\n",
    "   \n",
    ")"
   ]
  },
  {
   "cell_type": "code",
   "execution_count": null,
   "metadata": {},
   "outputs": [],
   "source": [
    "gen_ph(det.module_coords, det.module_efficiencies)"
   ]
  },
  {
   "cell_type": "code",
   "execution_count": null,
   "metadata": {},
   "outputs": [],
   "source": [
    "event, record = generate_cascade(\n",
    "    det, event_data[\"pos\"], event_data[\"t0\"], event_dir, energy=event_data[\"energy\"], particle_id=event_data[\"pid\"], pprop_func=gen_ph,\n",
    "    seed=1, \n",
    "    converter_func=make_pointlike_cascade_source,\n",
    "    pprop_extras={\"c_medium\": c_medium_f(700) / 1E9}\n",
    ")"
   ]
  },
  {
   "cell_type": "code",
   "execution_count": null,
   "metadata": {},
   "outputs": [],
   "source": [
    "def c_medium_f(wl):\n",
    "    \"\"\"Speed of light in medium for wl (nm).\"\"\"\n",
    "    return Constants.BaseConstants.c_vac / cascadia_ref_index_func(wl)"
   ]
  },
  {
   "cell_type": "code",
   "execution_count": null,
   "metadata": {},
   "outputs": [],
   "source": []
  },
  {
   "cell_type": "code",
   "execution_count": null,
   "metadata": {},
   "outputs": [],
   "source": []
  },
  {
   "cell_type": "code",
   "execution_count": null,
   "metadata": {},
   "outputs": [],
   "source": [
    "\n",
    "\n",
    "ph_lh_func = make_nflow_photon_likelihood(\n",
    "    \"data/photon_arrival_time_nflow_params.pickle\",\n",
    "    \"data/photon_arrival_time_counts_params.pickle\",\n",
    ")\n",
    "\n",
    "event_data = {\"t0\": 0., \"theta\": np.radians(30), \"phi\": np.radians(25), \"pos\": np.asarray([0, 0, 0.]), \"energy\": 5E5, \"pid\": 11}\n",
    "event_dir = sph_to_cart_jnp(event_data[\"theta\"], event_data[\"phi\"])"
   ]
  }
 ],
 "metadata": {
  "interpreter": {
   "hash": "d4d1e4263499bec80672ea0156c357c1ee493ec2b1c70f0acce89fc37c4a6abe"
  },
  "kernelspec": {
   "display_name": "Python 3.7.10 64-bit ('base': conda)",
   "language": "python",
   "name": "python3"
  },
  "language_info": {
   "codemirror_mode": {
    "name": "ipython",
    "version": 3
   },
   "file_extension": ".py",
   "mimetype": "text/x-python",
   "name": "python",
   "nbconvert_exporter": "python",
   "pygments_lexer": "ipython3",
   "version": "3.7.10"
  },
  "orig_nbformat": 4
 },
 "nbformat": 4,
 "nbformat_minor": 2
}
